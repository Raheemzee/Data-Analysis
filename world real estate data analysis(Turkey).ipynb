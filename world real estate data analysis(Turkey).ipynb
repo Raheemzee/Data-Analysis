{
 "cells": [
  {
   "cell_type": "code",
   "execution_count": 117,
   "id": "0557d6a2",
   "metadata": {},
   "outputs": [],
   "source": [
    "import numpy as np\n",
    "import pandas as pd\n",
    "import matplotlib as plt\n",
    "import seaborn as sns\n",
    "import chart_studio.plotly as py\n",
    "import plotly.graph_objs as go\n",
    "%matplotlib inline\n",
    "from prophet import Prophet"
   ]
  },
  {
   "cell_type": "code",
   "execution_count": 118,
   "id": "f7479a69",
   "metadata": {},
   "outputs": [],
   "source": [
    "from plotly.offline import download_plotlyjs,init_notebook_mode,plot,iplot"
   ]
  },
  {
   "cell_type": "code",
   "execution_count": 119,
   "id": "19f69f5b",
   "metadata": {},
   "outputs": [],
   "source": [
    "data = pd.read_csv('world_real_estate_data(147k).csv')"
   ]
  },
  {
   "cell_type": "code",
   "execution_count": 120,
   "id": "d0a467ce",
   "metadata": {},
   "outputs": [
    {
     "data": {
      "text/html": [
       "<div>\n",
       "<style scoped>\n",
       "    .dataframe tbody tr th:only-of-type {\n",
       "        vertical-align: middle;\n",
       "    }\n",
       "\n",
       "    .dataframe tbody tr th {\n",
       "        vertical-align: top;\n",
       "    }\n",
       "\n",
       "    .dataframe thead th {\n",
       "        text-align: right;\n",
       "    }\n",
       "</style>\n",
       "<table border=\"1\" class=\"dataframe\">\n",
       "  <thead>\n",
       "    <tr style=\"text-align: right;\">\n",
       "      <th></th>\n",
       "      <th>title</th>\n",
       "      <th>country</th>\n",
       "      <th>location</th>\n",
       "      <th>building_construction_year</th>\n",
       "      <th>building_total_floors</th>\n",
       "      <th>apartment_floor</th>\n",
       "      <th>apartment_rooms</th>\n",
       "      <th>apartment_bedrooms</th>\n",
       "      <th>apartment_bathrooms</th>\n",
       "      <th>apartment_total_area</th>\n",
       "      <th>apartment_living_area</th>\n",
       "      <th>price_in_USD</th>\n",
       "      <th>image</th>\n",
       "      <th>url</th>\n",
       "    </tr>\n",
       "  </thead>\n",
       "  <tbody>\n",
       "    <tr>\n",
       "      <th>0</th>\n",
       "      <td>2 room apartment 120 m² in Mediterranean Regio...</td>\n",
       "      <td>Turkey</td>\n",
       "      <td>Mediterranean Region, Turkey</td>\n",
       "      <td>NaN</td>\n",
       "      <td>5.0</td>\n",
       "      <td>1.0</td>\n",
       "      <td>3.0</td>\n",
       "      <td>2.0</td>\n",
       "      <td>2.0</td>\n",
       "      <td>120 m²</td>\n",
       "      <td>110 m²</td>\n",
       "      <td>315209.0</td>\n",
       "      <td>https://realting.com/uploads/bigSlider/ab3/888...</td>\n",
       "      <td>https://realting.com/property-for-sale/turkey/...</td>\n",
       "    </tr>\n",
       "    <tr>\n",
       "      <th>1</th>\n",
       "      <td>4 room villa 500 m² in Kalkan, Turkey</td>\n",
       "      <td>Turkey</td>\n",
       "      <td>Kalkan, Mediterranean Region, Kas, Turkey</td>\n",
       "      <td>2021.0</td>\n",
       "      <td>2.0</td>\n",
       "      <td>NaN</td>\n",
       "      <td>NaN</td>\n",
       "      <td>NaN</td>\n",
       "      <td>NaN</td>\n",
       "      <td>500 m²</td>\n",
       "      <td>480 m²</td>\n",
       "      <td>1108667.0</td>\n",
       "      <td>https://realting.com/uploads/bigSlider/87b/679...</td>\n",
       "      <td>https://realting.com/property-for-sale/turkey/...</td>\n",
       "    </tr>\n",
       "    <tr>\n",
       "      <th>2</th>\n",
       "      <td>1 room apartment 65 m² in Antalya, Turkey</td>\n",
       "      <td>Turkey</td>\n",
       "      <td>Mediterranean Region, Antalya, Turkey</td>\n",
       "      <td>NaN</td>\n",
       "      <td>5.0</td>\n",
       "      <td>2.0</td>\n",
       "      <td>2.0</td>\n",
       "      <td>1.0</td>\n",
       "      <td>1.0</td>\n",
       "      <td>65 m²</td>\n",
       "      <td>60 m²</td>\n",
       "      <td>173211.0</td>\n",
       "      <td>https://realting.com/uploads/bigSlider/030/a11...</td>\n",
       "      <td>https://realting.com/property-for-sale/turkey/...</td>\n",
       "    </tr>\n",
       "    <tr>\n",
       "      <th>3</th>\n",
       "      <td>1 room apartment  in Pattaya, Thailand</td>\n",
       "      <td>Thailand</td>\n",
       "      <td>Chon Buri Province, Pattaya, Thailand</td>\n",
       "      <td>2020.0</td>\n",
       "      <td>15.0</td>\n",
       "      <td>5.0</td>\n",
       "      <td>2.0</td>\n",
       "      <td>1.0</td>\n",
       "      <td>1.0</td>\n",
       "      <td>NaN</td>\n",
       "      <td>40 m²</td>\n",
       "      <td>99900.0</td>\n",
       "      <td>https://realting.com/uploads/bigSlider/e9a/e06...</td>\n",
       "      <td>https://realting.com/property-for-sale/thailan...</td>\n",
       "    </tr>\n",
       "    <tr>\n",
       "      <th>4</th>\n",
       "      <td>2 room apartment  in Pattaya, Thailand</td>\n",
       "      <td>Thailand</td>\n",
       "      <td>Chon Buri Province, Pattaya, Thailand</td>\n",
       "      <td>2026.0</td>\n",
       "      <td>8.0</td>\n",
       "      <td>3.0</td>\n",
       "      <td>3.0</td>\n",
       "      <td>2.0</td>\n",
       "      <td>1.0</td>\n",
       "      <td>NaN</td>\n",
       "      <td>36 m²</td>\n",
       "      <td>67000.0</td>\n",
       "      <td>https://realting.com/uploads/bigSlider/453/aa2...</td>\n",
       "      <td>https://realting.com/property-for-sale/thailan...</td>\n",
       "    </tr>\n",
       "    <tr>\n",
       "      <th>...</th>\n",
       "      <td>...</td>\n",
       "      <td>...</td>\n",
       "      <td>...</td>\n",
       "      <td>...</td>\n",
       "      <td>...</td>\n",
       "      <td>...</td>\n",
       "      <td>...</td>\n",
       "      <td>...</td>\n",
       "      <td>...</td>\n",
       "      <td>...</td>\n",
       "      <td>...</td>\n",
       "      <td>...</td>\n",
       "      <td>...</td>\n",
       "      <td>...</td>\n",
       "    </tr>\n",
       "    <tr>\n",
       "      <th>147531</th>\n",
       "      <td>5 room apartment 310 m² in Gazipasa, Turkey</td>\n",
       "      <td>Turkey</td>\n",
       "      <td>Mediterranean Region, Gazipasa, Turkey</td>\n",
       "      <td>NaN</td>\n",
       "      <td>NaN</td>\n",
       "      <td>NaN</td>\n",
       "      <td>NaN</td>\n",
       "      <td>5.0</td>\n",
       "      <td>NaN</td>\n",
       "      <td>310 m²</td>\n",
       "      <td>NaN</td>\n",
       "      <td>597810.0</td>\n",
       "      <td>https://realting.com/uploads/bigSlider/e4a/67f...</td>\n",
       "      <td>https://realting.com/property-for-sale/turkey/...</td>\n",
       "    </tr>\n",
       "    <tr>\n",
       "      <th>147532</th>\n",
       "      <td>4 room apartment 192 m² in Marmara Region, Turkey</td>\n",
       "      <td>Turkey</td>\n",
       "      <td>Marmara Region, Turkey</td>\n",
       "      <td>2023.0</td>\n",
       "      <td>5.0</td>\n",
       "      <td>NaN</td>\n",
       "      <td>5.0</td>\n",
       "      <td>4.0</td>\n",
       "      <td>2.0</td>\n",
       "      <td>192 m²</td>\n",
       "      <td>151 m²</td>\n",
       "      <td>637195.0</td>\n",
       "      <td>https://realting.com/uploads/bigSlider/93e/5c6...</td>\n",
       "      <td>https://realting.com/property-for-sale/turkey/...</td>\n",
       "    </tr>\n",
       "    <tr>\n",
       "      <th>147533</th>\n",
       "      <td>2 room apartment  in Marmara Region, Turkey</td>\n",
       "      <td>Turkey</td>\n",
       "      <td>Marmara Region, Turkey</td>\n",
       "      <td>NaN</td>\n",
       "      <td>NaN</td>\n",
       "      <td>NaN</td>\n",
       "      <td>3.0</td>\n",
       "      <td>2.0</td>\n",
       "      <td>2.0</td>\n",
       "      <td>NaN</td>\n",
       "      <td>84 m²</td>\n",
       "      <td>477146.0</td>\n",
       "      <td>https://realting.com/uploads/bigSlider/4ae/9d8...</td>\n",
       "      <td>https://realting.com/property-for-sale/turkey/...</td>\n",
       "    </tr>\n",
       "    <tr>\n",
       "      <th>147534</th>\n",
       "      <td>Apartment  in Akarca, Turkey</td>\n",
       "      <td>Turkey</td>\n",
       "      <td>Akarca, Central Anatolia Region, Turkey</td>\n",
       "      <td>2023.0</td>\n",
       "      <td>NaN</td>\n",
       "      <td>NaN</td>\n",
       "      <td>NaN</td>\n",
       "      <td>NaN</td>\n",
       "      <td>NaN</td>\n",
       "      <td>NaN</td>\n",
       "      <td>NaN</td>\n",
       "      <td>819163.0</td>\n",
       "      <td>https://realting.com/uploads/bigSlider/164/7e6...</td>\n",
       "      <td>https://realting.com/property-for-sale/turkey/...</td>\n",
       "    </tr>\n",
       "    <tr>\n",
       "      <th>147535</th>\n",
       "      <td>4 room apartment 140 m² in, Turkey</td>\n",
       "      <td>Turkey</td>\n",
       "      <td>Turkey</td>\n",
       "      <td>NaN</td>\n",
       "      <td>2.0</td>\n",
       "      <td>NaN</td>\n",
       "      <td>5.0</td>\n",
       "      <td>4.0</td>\n",
       "      <td>NaN</td>\n",
       "      <td>140 m²</td>\n",
       "      <td>NaN</td>\n",
       "      <td>939164.0</td>\n",
       "      <td>https://realting.com/uploads/bigSlider/fab/0eb...</td>\n",
       "      <td>https://realting.com/property-for-sale/turkey/...</td>\n",
       "    </tr>\n",
       "  </tbody>\n",
       "</table>\n",
       "<p>147536 rows × 14 columns</p>\n",
       "</div>"
      ],
      "text/plain": [
       "                                                    title   country  \\\n",
       "0       2 room apartment 120 m² in Mediterranean Regio...    Turkey   \n",
       "1                   4 room villa 500 m² in Kalkan, Turkey    Turkey   \n",
       "2               1 room apartment 65 m² in Antalya, Turkey    Turkey   \n",
       "3                  1 room apartment  in Pattaya, Thailand  Thailand   \n",
       "4                  2 room apartment  in Pattaya, Thailand  Thailand   \n",
       "...                                                   ...       ...   \n",
       "147531        5 room apartment 310 m² in Gazipasa, Turkey    Turkey   \n",
       "147532  4 room apartment 192 m² in Marmara Region, Turkey    Turkey   \n",
       "147533        2 room apartment  in Marmara Region, Turkey    Turkey   \n",
       "147534                       Apartment  in Akarca, Turkey    Turkey   \n",
       "147535                 4 room apartment 140 m² in, Turkey    Turkey   \n",
       "\n",
       "                                         location  building_construction_year  \\\n",
       "0                    Mediterranean Region, Turkey                         NaN   \n",
       "1       Kalkan, Mediterranean Region, Kas, Turkey                      2021.0   \n",
       "2           Mediterranean Region, Antalya, Turkey                         NaN   \n",
       "3           Chon Buri Province, Pattaya, Thailand                      2020.0   \n",
       "4           Chon Buri Province, Pattaya, Thailand                      2026.0   \n",
       "...                                           ...                         ...   \n",
       "147531     Mediterranean Region, Gazipasa, Turkey                         NaN   \n",
       "147532                     Marmara Region, Turkey                      2023.0   \n",
       "147533                     Marmara Region, Turkey                         NaN   \n",
       "147534    Akarca, Central Anatolia Region, Turkey                      2023.0   \n",
       "147535                                     Turkey                         NaN   \n",
       "\n",
       "        building_total_floors  apartment_floor  apartment_rooms  \\\n",
       "0                         5.0              1.0              3.0   \n",
       "1                         2.0              NaN              NaN   \n",
       "2                         5.0              2.0              2.0   \n",
       "3                        15.0              5.0              2.0   \n",
       "4                         8.0              3.0              3.0   \n",
       "...                       ...              ...              ...   \n",
       "147531                    NaN              NaN              NaN   \n",
       "147532                    5.0              NaN              5.0   \n",
       "147533                    NaN              NaN              3.0   \n",
       "147534                    NaN              NaN              NaN   \n",
       "147535                    2.0              NaN              5.0   \n",
       "\n",
       "        apartment_bedrooms  apartment_bathrooms apartment_total_area  \\\n",
       "0                      2.0                  2.0               120 m²   \n",
       "1                      NaN                  NaN               500 m²   \n",
       "2                      1.0                  1.0                65 m²   \n",
       "3                      1.0                  1.0                  NaN   \n",
       "4                      2.0                  1.0                  NaN   \n",
       "...                    ...                  ...                  ...   \n",
       "147531                 5.0                  NaN               310 m²   \n",
       "147532                 4.0                  2.0               192 m²   \n",
       "147533                 2.0                  2.0                  NaN   \n",
       "147534                 NaN                  NaN                  NaN   \n",
       "147535                 4.0                  NaN               140 m²   \n",
       "\n",
       "       apartment_living_area  price_in_USD  \\\n",
       "0                     110 m²      315209.0   \n",
       "1                     480 m²     1108667.0   \n",
       "2                      60 m²      173211.0   \n",
       "3                      40 m²       99900.0   \n",
       "4                      36 m²       67000.0   \n",
       "...                      ...           ...   \n",
       "147531                   NaN      597810.0   \n",
       "147532                151 m²      637195.0   \n",
       "147533                 84 m²      477146.0   \n",
       "147534                   NaN      819163.0   \n",
       "147535                   NaN      939164.0   \n",
       "\n",
       "                                                    image  \\\n",
       "0       https://realting.com/uploads/bigSlider/ab3/888...   \n",
       "1       https://realting.com/uploads/bigSlider/87b/679...   \n",
       "2       https://realting.com/uploads/bigSlider/030/a11...   \n",
       "3       https://realting.com/uploads/bigSlider/e9a/e06...   \n",
       "4       https://realting.com/uploads/bigSlider/453/aa2...   \n",
       "...                                                   ...   \n",
       "147531  https://realting.com/uploads/bigSlider/e4a/67f...   \n",
       "147532  https://realting.com/uploads/bigSlider/93e/5c6...   \n",
       "147533  https://realting.com/uploads/bigSlider/4ae/9d8...   \n",
       "147534  https://realting.com/uploads/bigSlider/164/7e6...   \n",
       "147535  https://realting.com/uploads/bigSlider/fab/0eb...   \n",
       "\n",
       "                                                      url  \n",
       "0       https://realting.com/property-for-sale/turkey/...  \n",
       "1       https://realting.com/property-for-sale/turkey/...  \n",
       "2       https://realting.com/property-for-sale/turkey/...  \n",
       "3       https://realting.com/property-for-sale/thailan...  \n",
       "4       https://realting.com/property-for-sale/thailan...  \n",
       "...                                                   ...  \n",
       "147531  https://realting.com/property-for-sale/turkey/...  \n",
       "147532  https://realting.com/property-for-sale/turkey/...  \n",
       "147533  https://realting.com/property-for-sale/turkey/...  \n",
       "147534  https://realting.com/property-for-sale/turkey/...  \n",
       "147535  https://realting.com/property-for-sale/turkey/...  \n",
       "\n",
       "[147536 rows x 14 columns]"
      ]
     },
     "execution_count": 120,
     "metadata": {},
     "output_type": "execute_result"
    }
   ],
   "source": [
    "data"
   ]
  },
  {
   "cell_type": "code",
   "execution_count": 121,
   "id": "e2b148d9",
   "metadata": {},
   "outputs": [
    {
     "name": "stdout",
     "output_type": "stream",
     "text": [
      "<class 'pandas.core.frame.DataFrame'>\n",
      "RangeIndex: 147536 entries, 0 to 147535\n",
      "Data columns (total 14 columns):\n",
      " #   Column                      Non-Null Count   Dtype  \n",
      "---  ------                      --------------   -----  \n",
      " 0   title                       147536 non-null  object \n",
      " 1   country                     147406 non-null  object \n",
      " 2   location                    147405 non-null  object \n",
      " 3   building_construction_year  64719 non-null   float64\n",
      " 4   building_total_floors       68224 non-null   float64\n",
      " 5   apartment_floor             54592 non-null   float64\n",
      " 6   apartment_rooms             74178 non-null   float64\n",
      " 7   apartment_bedrooms          36982 non-null   float64\n",
      " 8   apartment_bathrooms         55973 non-null   float64\n",
      " 9   apartment_total_area        141796 non-null  object \n",
      " 10  apartment_living_area       27712 non-null   object \n",
      " 11  price_in_USD                144961 non-null  float64\n",
      " 12  image                       147536 non-null  object \n",
      " 13  url                         147536 non-null  object \n",
      "dtypes: float64(7), object(7)\n",
      "memory usage: 15.8+ MB\n"
     ]
    }
   ],
   "source": [
    "data.info()"
   ]
  },
  {
   "cell_type": "code",
   "execution_count": 122,
   "id": "b82a695d",
   "metadata": {},
   "outputs": [],
   "source": [
    "bold = '\\033[1m'"
   ]
  },
  {
   "cell_type": "code",
   "execution_count": 123,
   "id": "e9e9757a",
   "metadata": {},
   "outputs": [
    {
     "name": "stdout",
     "output_type": "stream",
     "text": [
      "\u001b[1mWhat are the countries available in the data?\n"
     ]
    }
   ],
   "source": [
    "print(f'{bold}What are the countries available in the data?')"
   ]
  },
  {
   "cell_type": "code",
   "execution_count": 124,
   "id": "e6f17d33",
   "metadata": {},
   "outputs": [
    {
     "data": {
      "text/plain": [
       "array(['Turkey', 'Thailand', 'Georgia', 'Montenegro', 'Northern Cyprus',\n",
       "       'Lithuania', 'Belarus', 'UAE', 'Czech Republic', 'Uzbekistan', nan,\n",
       "       'Greece', 'Serbia', 'Italy', 'Hungary', 'Russia', 'Finland',\n",
       "       'Poland', 'Austria', 'Spain', 'Latvia', 'Portugal',\n",
       "       'United States', 'Armenia', 'Croatia', 'Cyprus', 'Australia',\n",
       "       'Indonesia'], dtype=object)"
      ]
     },
     "execution_count": 124,
     "metadata": {},
     "output_type": "execute_result"
    }
   ],
   "source": [
    "data['country'].unique()"
   ]
  },
  {
   "cell_type": "code",
   "execution_count": 125,
   "id": "189d7535",
   "metadata": {},
   "outputs": [
    {
     "name": "stdout",
     "output_type": "stream",
     "text": [
      "\u001b[1mHow many are they?\n"
     ]
    }
   ],
   "source": [
    "print(f'{bold}How many are they?')"
   ]
  },
  {
   "cell_type": "code",
   "execution_count": 126,
   "id": "81915ed5",
   "metadata": {},
   "outputs": [
    {
     "data": {
      "text/plain": [
       "27"
      ]
     },
     "execution_count": 126,
     "metadata": {},
     "output_type": "execute_result"
    }
   ],
   "source": [
    "data['country'].nunique()"
   ]
  },
  {
   "cell_type": "code",
   "execution_count": 127,
   "id": "57c891e5",
   "metadata": {},
   "outputs": [
    {
     "name": "stdout",
     "output_type": "stream",
     "text": [
      "\u001b[1mRemove all the NaN values from the data\n"
     ]
    }
   ],
   "source": [
    "print(f'{bold}Remove all the NaN values from the data')"
   ]
  },
  {
   "cell_type": "code",
   "execution_count": 128,
   "id": "a6831dd3",
   "metadata": {},
   "outputs": [],
   "source": [
    "data.dropna(inplace=True)"
   ]
  },
  {
   "cell_type": "code",
   "execution_count": 129,
   "id": "8463c438",
   "metadata": {},
   "outputs": [
    {
     "data": {
      "text/html": [
       "<div>\n",
       "<style scoped>\n",
       "    .dataframe tbody tr th:only-of-type {\n",
       "        vertical-align: middle;\n",
       "    }\n",
       "\n",
       "    .dataframe tbody tr th {\n",
       "        vertical-align: top;\n",
       "    }\n",
       "\n",
       "    .dataframe thead th {\n",
       "        text-align: right;\n",
       "    }\n",
       "</style>\n",
       "<table border=\"1\" class=\"dataframe\">\n",
       "  <thead>\n",
       "    <tr style=\"text-align: right;\">\n",
       "      <th></th>\n",
       "      <th>title</th>\n",
       "      <th>country</th>\n",
       "      <th>location</th>\n",
       "      <th>building_construction_year</th>\n",
       "      <th>building_total_floors</th>\n",
       "      <th>apartment_floor</th>\n",
       "      <th>apartment_rooms</th>\n",
       "      <th>apartment_bedrooms</th>\n",
       "      <th>apartment_bathrooms</th>\n",
       "      <th>apartment_total_area</th>\n",
       "      <th>apartment_living_area</th>\n",
       "      <th>price_in_USD</th>\n",
       "      <th>image</th>\n",
       "      <th>url</th>\n",
       "    </tr>\n",
       "  </thead>\n",
       "  <tbody>\n",
       "    <tr>\n",
       "      <th>6</th>\n",
       "      <td>4 room apartment 245 m² in Yesiloez, Turkey</td>\n",
       "      <td>Turkey</td>\n",
       "      <td>Yesiloez, Mediterranean Region, Alanya, Turkey</td>\n",
       "      <td>2007.0</td>\n",
       "      <td>2.0</td>\n",
       "      <td>3.0</td>\n",
       "      <td>5.0</td>\n",
       "      <td>4.0</td>\n",
       "      <td>4.0</td>\n",
       "      <td>245 m²</td>\n",
       "      <td>245 m²</td>\n",
       "      <td>274415.0</td>\n",
       "      <td>https://realting.com/uploads/bigSlider/9c8/6f1...</td>\n",
       "      <td>https://realting.com/property-for-sale/turkey/...</td>\n",
       "    </tr>\n",
       "    <tr>\n",
       "      <th>15</th>\n",
       "      <td>2 room apartment 54 m² in Prague, Czech Republic</td>\n",
       "      <td>Czech Republic</td>\n",
       "      <td>Prague, Czech Republic</td>\n",
       "      <td>2023.0</td>\n",
       "      <td>4.0</td>\n",
       "      <td>2.0</td>\n",
       "      <td>4.0</td>\n",
       "      <td>2.0</td>\n",
       "      <td>1.0</td>\n",
       "      <td>54 m²</td>\n",
       "      <td>54 m²</td>\n",
       "      <td>314990.0</td>\n",
       "      <td>https://realting.com/uploads/bigSlider/08e/1d5...</td>\n",
       "      <td>https://realting.com/property-for-sale/czech-r...</td>\n",
       "    </tr>\n",
       "    <tr>\n",
       "      <th>146</th>\n",
       "      <td>2 room apartment 93 m² in Alanya, Turkey</td>\n",
       "      <td>Turkey</td>\n",
       "      <td>Mediterranean Region, Sekerhane Mahallesi, Ala...</td>\n",
       "      <td>2020.0</td>\n",
       "      <td>4.0</td>\n",
       "      <td>4.0</td>\n",
       "      <td>3.0</td>\n",
       "      <td>2.0</td>\n",
       "      <td>1.0</td>\n",
       "      <td>93 m²</td>\n",
       "      <td>75 m²</td>\n",
       "      <td>248071.0</td>\n",
       "      <td>https://realting.com/uploads/bigSlider/638/7b0...</td>\n",
       "      <td>https://realting.com/property-for-sale/turkey/...</td>\n",
       "    </tr>\n",
       "    <tr>\n",
       "      <th>156</th>\n",
       "      <td>1 room apartment 76 m² in Tashkent, Uzbekistan</td>\n",
       "      <td>Uzbekistan</td>\n",
       "      <td>Tashkent, Chilanzar District, Uzbekistan</td>\n",
       "      <td>2025.0</td>\n",
       "      <td>11.0</td>\n",
       "      <td>8.0</td>\n",
       "      <td>2.0</td>\n",
       "      <td>1.0</td>\n",
       "      <td>1.0</td>\n",
       "      <td>76 m²</td>\n",
       "      <td>44 m²</td>\n",
       "      <td>90021.0</td>\n",
       "      <td>https://realting.com/uploads/bigSlider/276/011...</td>\n",
       "      <td>https://realting.com/uzbekistan/property/1717476</td>\n",
       "    </tr>\n",
       "    <tr>\n",
       "      <th>229</th>\n",
       "      <td>Multilevel apartments 3 bedrooms 220 m² in Kar...</td>\n",
       "      <td>Turkey</td>\n",
       "      <td>Karakocali, Mediterranean Region, Alanya, Turkey</td>\n",
       "      <td>2013.0</td>\n",
       "      <td>4.0</td>\n",
       "      <td>4.0</td>\n",
       "      <td>1.0</td>\n",
       "      <td>3.0</td>\n",
       "      <td>3.0</td>\n",
       "      <td>220 m²</td>\n",
       "      <td>216 m²</td>\n",
       "      <td>338143.0</td>\n",
       "      <td>https://realting.com/uploads/bigSlider/50e/f75...</td>\n",
       "      <td>https://realting.com/property-for-sale/turkey/...</td>\n",
       "    </tr>\n",
       "    <tr>\n",
       "      <th>...</th>\n",
       "      <td>...</td>\n",
       "      <td>...</td>\n",
       "      <td>...</td>\n",
       "      <td>...</td>\n",
       "      <td>...</td>\n",
       "      <td>...</td>\n",
       "      <td>...</td>\n",
       "      <td>...</td>\n",
       "      <td>...</td>\n",
       "      <td>...</td>\n",
       "      <td>...</td>\n",
       "      <td>...</td>\n",
       "      <td>...</td>\n",
       "      <td>...</td>\n",
       "    </tr>\n",
       "    <tr>\n",
       "      <th>147408</th>\n",
       "      <td>2 room apartment 60 m² in Ungasan, Indonesia</td>\n",
       "      <td>Indonesia</td>\n",
       "      <td>Ungasan, Kuta Selatan, Indonesia</td>\n",
       "      <td>2025.0</td>\n",
       "      <td>4.0</td>\n",
       "      <td>4.0</td>\n",
       "      <td>3.0</td>\n",
       "      <td>2.0</td>\n",
       "      <td>2.0</td>\n",
       "      <td>60 m²</td>\n",
       "      <td>60 m²</td>\n",
       "      <td>121800.0</td>\n",
       "      <td>https://realting.com/uploads/bigSlider/c4f/422...</td>\n",
       "      <td>https://realting.com/property-for-sale/indones...</td>\n",
       "    </tr>\n",
       "    <tr>\n",
       "      <th>147411</th>\n",
       "      <td>2 room apartment 88 m² in Bali, Indonesia</td>\n",
       "      <td>Indonesia</td>\n",
       "      <td>Bali, Indonesia</td>\n",
       "      <td>2024.0</td>\n",
       "      <td>4.0</td>\n",
       "      <td>4.0</td>\n",
       "      <td>2.0</td>\n",
       "      <td>2.0</td>\n",
       "      <td>2.0</td>\n",
       "      <td>88 m²</td>\n",
       "      <td>78 m²</td>\n",
       "      <td>180000.0</td>\n",
       "      <td>https://realting.com/uploads/bigSlider/f64/c1a...</td>\n",
       "      <td>https://realting.com/property-for-sale/indones...</td>\n",
       "    </tr>\n",
       "    <tr>\n",
       "      <th>147415</th>\n",
       "      <td>2 room apartment 162 m² in Canggu, Indonesia</td>\n",
       "      <td>Indonesia</td>\n",
       "      <td>Canggu, West Nusa Tenggara, Kec Ampenan, Indon...</td>\n",
       "      <td>2023.0</td>\n",
       "      <td>4.0</td>\n",
       "      <td>1.0</td>\n",
       "      <td>2.0</td>\n",
       "      <td>2.0</td>\n",
       "      <td>2.0</td>\n",
       "      <td>162 m²</td>\n",
       "      <td>162 m²</td>\n",
       "      <td>650000.0</td>\n",
       "      <td>https://realting.com/uploads/bigSlider/b17/bbc...</td>\n",
       "      <td>https://realting.com/property-for-sale/indones...</td>\n",
       "    </tr>\n",
       "    <tr>\n",
       "      <th>147422</th>\n",
       "      <td>2 room apartment 204 m² in Sanur, Indonesia</td>\n",
       "      <td>Indonesia</td>\n",
       "      <td>Sanur, Denpasar, Indonesia</td>\n",
       "      <td>2024.0</td>\n",
       "      <td>4.0</td>\n",
       "      <td>2.0</td>\n",
       "      <td>2.0</td>\n",
       "      <td>2.0</td>\n",
       "      <td>2.0</td>\n",
       "      <td>204 m²</td>\n",
       "      <td>204 m²</td>\n",
       "      <td>730000.0</td>\n",
       "      <td>https://realting.com/uploads/bigSlider/73a/9e6...</td>\n",
       "      <td>https://realting.com/property-for-sale/indones...</td>\n",
       "    </tr>\n",
       "    <tr>\n",
       "      <th>147447</th>\n",
       "      <td>2 room apartment 204 m² in Sanur, Indonesia</td>\n",
       "      <td>Indonesia</td>\n",
       "      <td>Sanur, Denpasar, Indonesia</td>\n",
       "      <td>2024.0</td>\n",
       "      <td>4.0</td>\n",
       "      <td>2.0</td>\n",
       "      <td>2.0</td>\n",
       "      <td>2.0</td>\n",
       "      <td>2.0</td>\n",
       "      <td>204 m²</td>\n",
       "      <td>204 m²</td>\n",
       "      <td>850000.0</td>\n",
       "      <td>https://realting.com/uploads/bigSlider/688/50d...</td>\n",
       "      <td>https://realting.com/property-for-sale/indones...</td>\n",
       "    </tr>\n",
       "  </tbody>\n",
       "</table>\n",
       "<p>1763 rows × 14 columns</p>\n",
       "</div>"
      ],
      "text/plain": [
       "                                                    title         country  \\\n",
       "6             4 room apartment 245 m² in Yesiloez, Turkey          Turkey   \n",
       "15       2 room apartment 54 m² in Prague, Czech Republic  Czech Republic   \n",
       "146              2 room apartment 93 m² in Alanya, Turkey          Turkey   \n",
       "156        1 room apartment 76 m² in Tashkent, Uzbekistan      Uzbekistan   \n",
       "229     Multilevel apartments 3 bedrooms 220 m² in Kar...          Turkey   \n",
       "...                                                   ...             ...   \n",
       "147408       2 room apartment 60 m² in Ungasan, Indonesia       Indonesia   \n",
       "147411          2 room apartment 88 m² in Bali, Indonesia       Indonesia   \n",
       "147415       2 room apartment 162 m² in Canggu, Indonesia       Indonesia   \n",
       "147422        2 room apartment 204 m² in Sanur, Indonesia       Indonesia   \n",
       "147447        2 room apartment 204 m² in Sanur, Indonesia       Indonesia   \n",
       "\n",
       "                                                 location  \\\n",
       "6          Yesiloez, Mediterranean Region, Alanya, Turkey   \n",
       "15                                 Prague, Czech Republic   \n",
       "146     Mediterranean Region, Sekerhane Mahallesi, Ala...   \n",
       "156              Tashkent, Chilanzar District, Uzbekistan   \n",
       "229      Karakocali, Mediterranean Region, Alanya, Turkey   \n",
       "...                                                   ...   \n",
       "147408                   Ungasan, Kuta Selatan, Indonesia   \n",
       "147411                                    Bali, Indonesia   \n",
       "147415  Canggu, West Nusa Tenggara, Kec Ampenan, Indon...   \n",
       "147422                         Sanur, Denpasar, Indonesia   \n",
       "147447                         Sanur, Denpasar, Indonesia   \n",
       "\n",
       "        building_construction_year  building_total_floors  apartment_floor  \\\n",
       "6                           2007.0                    2.0              3.0   \n",
       "15                          2023.0                    4.0              2.0   \n",
       "146                         2020.0                    4.0              4.0   \n",
       "156                         2025.0                   11.0              8.0   \n",
       "229                         2013.0                    4.0              4.0   \n",
       "...                            ...                    ...              ...   \n",
       "147408                      2025.0                    4.0              4.0   \n",
       "147411                      2024.0                    4.0              4.0   \n",
       "147415                      2023.0                    4.0              1.0   \n",
       "147422                      2024.0                    4.0              2.0   \n",
       "147447                      2024.0                    4.0              2.0   \n",
       "\n",
       "        apartment_rooms  apartment_bedrooms  apartment_bathrooms  \\\n",
       "6                   5.0                 4.0                  4.0   \n",
       "15                  4.0                 2.0                  1.0   \n",
       "146                 3.0                 2.0                  1.0   \n",
       "156                 2.0                 1.0                  1.0   \n",
       "229                 1.0                 3.0                  3.0   \n",
       "...                 ...                 ...                  ...   \n",
       "147408              3.0                 2.0                  2.0   \n",
       "147411              2.0                 2.0                  2.0   \n",
       "147415              2.0                 2.0                  2.0   \n",
       "147422              2.0                 2.0                  2.0   \n",
       "147447              2.0                 2.0                  2.0   \n",
       "\n",
       "       apartment_total_area apartment_living_area  price_in_USD  \\\n",
       "6                    245 m²                245 m²      274415.0   \n",
       "15                    54 m²                 54 m²      314990.0   \n",
       "146                   93 m²                 75 m²      248071.0   \n",
       "156                   76 m²                 44 m²       90021.0   \n",
       "229                  220 m²                216 m²      338143.0   \n",
       "...                     ...                   ...           ...   \n",
       "147408                60 m²                 60 m²      121800.0   \n",
       "147411                88 m²                 78 m²      180000.0   \n",
       "147415               162 m²                162 m²      650000.0   \n",
       "147422               204 m²                204 m²      730000.0   \n",
       "147447               204 m²                204 m²      850000.0   \n",
       "\n",
       "                                                    image  \\\n",
       "6       https://realting.com/uploads/bigSlider/9c8/6f1...   \n",
       "15      https://realting.com/uploads/bigSlider/08e/1d5...   \n",
       "146     https://realting.com/uploads/bigSlider/638/7b0...   \n",
       "156     https://realting.com/uploads/bigSlider/276/011...   \n",
       "229     https://realting.com/uploads/bigSlider/50e/f75...   \n",
       "...                                                   ...   \n",
       "147408  https://realting.com/uploads/bigSlider/c4f/422...   \n",
       "147411  https://realting.com/uploads/bigSlider/f64/c1a...   \n",
       "147415  https://realting.com/uploads/bigSlider/b17/bbc...   \n",
       "147422  https://realting.com/uploads/bigSlider/73a/9e6...   \n",
       "147447  https://realting.com/uploads/bigSlider/688/50d...   \n",
       "\n",
       "                                                      url  \n",
       "6       https://realting.com/property-for-sale/turkey/...  \n",
       "15      https://realting.com/property-for-sale/czech-r...  \n",
       "146     https://realting.com/property-for-sale/turkey/...  \n",
       "156      https://realting.com/uzbekistan/property/1717476  \n",
       "229     https://realting.com/property-for-sale/turkey/...  \n",
       "...                                                   ...  \n",
       "147408  https://realting.com/property-for-sale/indones...  \n",
       "147411  https://realting.com/property-for-sale/indones...  \n",
       "147415  https://realting.com/property-for-sale/indones...  \n",
       "147422  https://realting.com/property-for-sale/indones...  \n",
       "147447  https://realting.com/property-for-sale/indones...  \n",
       "\n",
       "[1763 rows x 14 columns]"
      ]
     },
     "execution_count": 129,
     "metadata": {},
     "output_type": "execute_result"
    }
   ],
   "source": [
    "data"
   ]
  },
  {
   "cell_type": "code",
   "execution_count": 130,
   "id": "6fdb311c",
   "metadata": {},
   "outputs": [
    {
     "name": "stdout",
     "output_type": "stream",
     "text": [
      "\u001b[1mHow many countries are there now?\n"
     ]
    }
   ],
   "source": [
    "print(f'{bold}How many countries are there now?')"
   ]
  },
  {
   "cell_type": "code",
   "execution_count": 131,
   "id": "05f80db7",
   "metadata": {},
   "outputs": [
    {
     "data": {
      "text/plain": [
       "array(['Turkey', 'Czech Republic', 'Uzbekistan', 'Montenegro', 'Italy',\n",
       "       'Greece', 'Hungary', 'Finland', 'Russia', 'Lithuania', 'Belarus',\n",
       "       'Spain', 'Latvia', 'Croatia', 'Georgia', 'Poland', 'UAE',\n",
       "       'Thailand', 'Portugal', 'Northern Cyprus', 'Cyprus', 'Australia',\n",
       "       'Indonesia'], dtype=object)"
      ]
     },
     "execution_count": 131,
     "metadata": {},
     "output_type": "execute_result"
    }
   ],
   "source": [
    "data['country'].unique()"
   ]
  },
  {
   "cell_type": "code",
   "execution_count": 132,
   "id": "7880b061",
   "metadata": {},
   "outputs": [
    {
     "data": {
      "text/plain": [
       "23"
      ]
     },
     "execution_count": 132,
     "metadata": {},
     "output_type": "execute_result"
    }
   ],
   "source": [
    "data['country'].nunique()"
   ]
  },
  {
   "cell_type": "code",
   "execution_count": 133,
   "id": "05dd2b11",
   "metadata": {},
   "outputs": [
    {
     "name": "stdout",
     "output_type": "stream",
     "text": [
      "\u001b[1mWhich country has the highest total price of apartment?\n"
     ]
    }
   ],
   "source": [
    "print(f'{bold}Which country has the highest total price of apartment?')"
   ]
  },
  {
   "cell_type": "code",
   "execution_count": 134,
   "id": "025bee1e",
   "metadata": {},
   "outputs": [],
   "source": [
    "country_totals = data.groupby('country')['price_in_USD'].sum().reset_index()"
   ]
  },
  {
   "cell_type": "code",
   "execution_count": 135,
   "id": "01fa68c3",
   "metadata": {},
   "outputs": [
    {
     "data": {
      "text/html": [
       "<div>\n",
       "<style scoped>\n",
       "    .dataframe tbody tr th:only-of-type {\n",
       "        vertical-align: middle;\n",
       "    }\n",
       "\n",
       "    .dataframe tbody tr th {\n",
       "        vertical-align: top;\n",
       "    }\n",
       "\n",
       "    .dataframe thead th {\n",
       "        text-align: right;\n",
       "    }\n",
       "</style>\n",
       "<table border=\"1\" class=\"dataframe\">\n",
       "  <thead>\n",
       "    <tr style=\"text-align: right;\">\n",
       "      <th></th>\n",
       "      <th>country</th>\n",
       "      <th>price_in_USD</th>\n",
       "    </tr>\n",
       "  </thead>\n",
       "  <tbody>\n",
       "    <tr>\n",
       "      <th>0</th>\n",
       "      <td>Australia</td>\n",
       "      <td>559000.0</td>\n",
       "    </tr>\n",
       "    <tr>\n",
       "      <th>1</th>\n",
       "      <td>Belarus</td>\n",
       "      <td>12127461.0</td>\n",
       "    </tr>\n",
       "    <tr>\n",
       "      <th>2</th>\n",
       "      <td>Croatia</td>\n",
       "      <td>1023259.0</td>\n",
       "    </tr>\n",
       "    <tr>\n",
       "      <th>3</th>\n",
       "      <td>Cyprus</td>\n",
       "      <td>3190860.0</td>\n",
       "    </tr>\n",
       "    <tr>\n",
       "      <th>4</th>\n",
       "      <td>Czech Republic</td>\n",
       "      <td>979034.0</td>\n",
       "    </tr>\n",
       "    <tr>\n",
       "      <th>5</th>\n",
       "      <td>Finland</td>\n",
       "      <td>344096.0</td>\n",
       "    </tr>\n",
       "    <tr>\n",
       "      <th>6</th>\n",
       "      <td>Georgia</td>\n",
       "      <td>40668366.0</td>\n",
       "    </tr>\n",
       "    <tr>\n",
       "      <th>7</th>\n",
       "      <td>Greece</td>\n",
       "      <td>3266425.0</td>\n",
       "    </tr>\n",
       "    <tr>\n",
       "      <th>8</th>\n",
       "      <td>Hungary</td>\n",
       "      <td>744471.0</td>\n",
       "    </tr>\n",
       "    <tr>\n",
       "      <th>9</th>\n",
       "      <td>Indonesia</td>\n",
       "      <td>5863514.0</td>\n",
       "    </tr>\n",
       "    <tr>\n",
       "      <th>10</th>\n",
       "      <td>Italy</td>\n",
       "      <td>3263065.0</td>\n",
       "    </tr>\n",
       "    <tr>\n",
       "      <th>11</th>\n",
       "      <td>Latvia</td>\n",
       "      <td>1607123.0</td>\n",
       "    </tr>\n",
       "    <tr>\n",
       "      <th>12</th>\n",
       "      <td>Lithuania</td>\n",
       "      <td>328284.0</td>\n",
       "    </tr>\n",
       "    <tr>\n",
       "      <th>13</th>\n",
       "      <td>Montenegro</td>\n",
       "      <td>9735487.0</td>\n",
       "    </tr>\n",
       "    <tr>\n",
       "      <th>14</th>\n",
       "      <td>Northern Cyprus</td>\n",
       "      <td>54864112.0</td>\n",
       "    </tr>\n",
       "    <tr>\n",
       "      <th>15</th>\n",
       "      <td>Poland</td>\n",
       "      <td>7265940.0</td>\n",
       "    </tr>\n",
       "    <tr>\n",
       "      <th>16</th>\n",
       "      <td>Portugal</td>\n",
       "      <td>39017551.0</td>\n",
       "    </tr>\n",
       "    <tr>\n",
       "      <th>17</th>\n",
       "      <td>Russia</td>\n",
       "      <td>15636016.0</td>\n",
       "    </tr>\n",
       "    <tr>\n",
       "      <th>18</th>\n",
       "      <td>Spain</td>\n",
       "      <td>71973033.0</td>\n",
       "    </tr>\n",
       "    <tr>\n",
       "      <th>19</th>\n",
       "      <td>Thailand</td>\n",
       "      <td>3619344.0</td>\n",
       "    </tr>\n",
       "    <tr>\n",
       "      <th>20</th>\n",
       "      <td>Turkey</td>\n",
       "      <td>154585163.0</td>\n",
       "    </tr>\n",
       "    <tr>\n",
       "      <th>21</th>\n",
       "      <td>UAE</td>\n",
       "      <td>17693769.0</td>\n",
       "    </tr>\n",
       "    <tr>\n",
       "      <th>22</th>\n",
       "      <td>Uzbekistan</td>\n",
       "      <td>910421.0</td>\n",
       "    </tr>\n",
       "  </tbody>\n",
       "</table>\n",
       "</div>"
      ],
      "text/plain": [
       "            country  price_in_USD\n",
       "0         Australia      559000.0\n",
       "1           Belarus    12127461.0\n",
       "2           Croatia     1023259.0\n",
       "3            Cyprus     3190860.0\n",
       "4    Czech Republic      979034.0\n",
       "5           Finland      344096.0\n",
       "6           Georgia    40668366.0\n",
       "7            Greece     3266425.0\n",
       "8           Hungary      744471.0\n",
       "9         Indonesia     5863514.0\n",
       "10            Italy     3263065.0\n",
       "11           Latvia     1607123.0\n",
       "12        Lithuania      328284.0\n",
       "13       Montenegro     9735487.0\n",
       "14  Northern Cyprus    54864112.0\n",
       "15           Poland     7265940.0\n",
       "16         Portugal    39017551.0\n",
       "17           Russia    15636016.0\n",
       "18            Spain    71973033.0\n",
       "19         Thailand     3619344.0\n",
       "20           Turkey   154585163.0\n",
       "21              UAE    17693769.0\n",
       "22       Uzbekistan      910421.0"
      ]
     },
     "execution_count": 135,
     "metadata": {},
     "output_type": "execute_result"
    }
   ],
   "source": [
    "country_totals"
   ]
  },
  {
   "cell_type": "code",
   "execution_count": 136,
   "id": "2f5589ec",
   "metadata": {},
   "outputs": [
    {
     "data": {
      "text/plain": [
       "country              Turkey\n",
       "price_in_USD    154585163.0\n",
       "Name: 20, dtype: object"
      ]
     },
     "execution_count": 136,
     "metadata": {},
     "output_type": "execute_result"
    }
   ],
   "source": [
    "country_totals.loc[country_totals['price_in_USD'].idxmax()]"
   ]
  },
  {
   "cell_type": "code",
   "execution_count": 137,
   "id": "264b71dc",
   "metadata": {},
   "outputs": [],
   "source": [
    "tur = data[data['country']=='Turkey']"
   ]
  },
  {
   "cell_type": "code",
   "execution_count": 138,
   "id": "5ae362e8",
   "metadata": {},
   "outputs": [
    {
     "name": "stdout",
     "output_type": "stream",
     "text": [
      "\u001b[1mDescribe the data of Turkey\n"
     ]
    }
   ],
   "source": [
    "print(f'{bold}Describe the data of Turkey')"
   ]
  },
  {
   "cell_type": "code",
   "execution_count": 139,
   "id": "b0194144",
   "metadata": {},
   "outputs": [
    {
     "data": {
      "text/html": [
       "<div>\n",
       "<style scoped>\n",
       "    .dataframe tbody tr th:only-of-type {\n",
       "        vertical-align: middle;\n",
       "    }\n",
       "\n",
       "    .dataframe tbody tr th {\n",
       "        vertical-align: top;\n",
       "    }\n",
       "\n",
       "    .dataframe thead th {\n",
       "        text-align: right;\n",
       "    }\n",
       "</style>\n",
       "<table border=\"1\" class=\"dataframe\">\n",
       "  <thead>\n",
       "    <tr style=\"text-align: right;\">\n",
       "      <th></th>\n",
       "      <th>building_construction_year</th>\n",
       "      <th>building_total_floors</th>\n",
       "      <th>apartment_floor</th>\n",
       "      <th>apartment_rooms</th>\n",
       "      <th>apartment_bedrooms</th>\n",
       "      <th>apartment_bathrooms</th>\n",
       "      <th>price_in_USD</th>\n",
       "    </tr>\n",
       "  </thead>\n",
       "  <tbody>\n",
       "    <tr>\n",
       "      <th>count</th>\n",
       "      <td>622.000000</td>\n",
       "      <td>622.000000</td>\n",
       "      <td>622.000000</td>\n",
       "      <td>622.000000</td>\n",
       "      <td>622.000000</td>\n",
       "      <td>622.000000</td>\n",
       "      <td>6.220000e+02</td>\n",
       "    </tr>\n",
       "    <tr>\n",
       "      <th>mean</th>\n",
       "      <td>2013.659164</td>\n",
       "      <td>8.281350</td>\n",
       "      <td>3.749196</td>\n",
       "      <td>3.053055</td>\n",
       "      <td>2.183280</td>\n",
       "      <td>1.660772</td>\n",
       "      <td>2.485292e+05</td>\n",
       "    </tr>\n",
       "    <tr>\n",
       "      <th>std</th>\n",
       "      <td>114.515037</td>\n",
       "      <td>6.232191</td>\n",
       "      <td>3.804581</td>\n",
       "      <td>1.141551</td>\n",
       "      <td>1.030224</td>\n",
       "      <td>0.717195</td>\n",
       "      <td>3.081964e+05</td>\n",
       "    </tr>\n",
       "    <tr>\n",
       "      <th>min</th>\n",
       "      <td>5.000000</td>\n",
       "      <td>1.000000</td>\n",
       "      <td>1.000000</td>\n",
       "      <td>1.000000</td>\n",
       "      <td>1.000000</td>\n",
       "      <td>1.000000</td>\n",
       "      <td>1.598500e+04</td>\n",
       "    </tr>\n",
       "    <tr>\n",
       "      <th>25%</th>\n",
       "      <td>2020.000000</td>\n",
       "      <td>4.000000</td>\n",
       "      <td>1.000000</td>\n",
       "      <td>2.000000</td>\n",
       "      <td>1.000000</td>\n",
       "      <td>1.000000</td>\n",
       "      <td>1.186142e+05</td>\n",
       "    </tr>\n",
       "    <tr>\n",
       "      <th>50%</th>\n",
       "      <td>2023.000000</td>\n",
       "      <td>6.000000</td>\n",
       "      <td>2.000000</td>\n",
       "      <td>3.000000</td>\n",
       "      <td>2.000000</td>\n",
       "      <td>2.000000</td>\n",
       "      <td>1.815170e+05</td>\n",
       "    </tr>\n",
       "    <tr>\n",
       "      <th>75%</th>\n",
       "      <td>2024.000000</td>\n",
       "      <td>11.000000</td>\n",
       "      <td>5.000000</td>\n",
       "      <td>4.000000</td>\n",
       "      <td>3.000000</td>\n",
       "      <td>2.000000</td>\n",
       "      <td>2.833525e+05</td>\n",
       "    </tr>\n",
       "    <tr>\n",
       "      <th>max</th>\n",
       "      <td>2026.000000</td>\n",
       "      <td>46.000000</td>\n",
       "      <td>27.000000</td>\n",
       "      <td>8.000000</td>\n",
       "      <td>6.000000</td>\n",
       "      <td>6.000000</td>\n",
       "      <td>5.277036e+06</td>\n",
       "    </tr>\n",
       "  </tbody>\n",
       "</table>\n",
       "</div>"
      ],
      "text/plain": [
       "       building_construction_year  building_total_floors  apartment_floor  \\\n",
       "count                  622.000000             622.000000       622.000000   \n",
       "mean                  2013.659164               8.281350         3.749196   \n",
       "std                    114.515037               6.232191         3.804581   \n",
       "min                      5.000000               1.000000         1.000000   \n",
       "25%                   2020.000000               4.000000         1.000000   \n",
       "50%                   2023.000000               6.000000         2.000000   \n",
       "75%                   2024.000000              11.000000         5.000000   \n",
       "max                   2026.000000              46.000000        27.000000   \n",
       "\n",
       "       apartment_rooms  apartment_bedrooms  apartment_bathrooms  price_in_USD  \n",
       "count       622.000000          622.000000           622.000000  6.220000e+02  \n",
       "mean          3.053055            2.183280             1.660772  2.485292e+05  \n",
       "std           1.141551            1.030224             0.717195  3.081964e+05  \n",
       "min           1.000000            1.000000             1.000000  1.598500e+04  \n",
       "25%           2.000000            1.000000             1.000000  1.186142e+05  \n",
       "50%           3.000000            2.000000             2.000000  1.815170e+05  \n",
       "75%           4.000000            3.000000             2.000000  2.833525e+05  \n",
       "max           8.000000            6.000000             6.000000  5.277036e+06  "
      ]
     },
     "execution_count": 139,
     "metadata": {},
     "output_type": "execute_result"
    }
   ],
   "source": [
    "tur.describe()"
   ]
  },
  {
   "cell_type": "code",
   "execution_count": 140,
   "id": "be13574c",
   "metadata": {},
   "outputs": [
    {
     "name": "stdout",
     "output_type": "stream",
     "text": [
      "\u001b[1mWhat is the total price of all the apartments in Turkey?\n"
     ]
    }
   ],
   "source": [
    "print(f'{bold}What is the total price of all the apartments in Turkey?')"
   ]
  },
  {
   "cell_type": "code",
   "execution_count": 141,
   "id": "3f2a6a30",
   "metadata": {},
   "outputs": [],
   "source": [
    "tur = data[data['country']=='Turkey']"
   ]
  },
  {
   "cell_type": "code",
   "execution_count": 142,
   "id": "03c254cb",
   "metadata": {},
   "outputs": [
    {
     "data": {
      "text/html": [
       "<div>\n",
       "<style scoped>\n",
       "    .dataframe tbody tr th:only-of-type {\n",
       "        vertical-align: middle;\n",
       "    }\n",
       "\n",
       "    .dataframe tbody tr th {\n",
       "        vertical-align: top;\n",
       "    }\n",
       "\n",
       "    .dataframe thead th {\n",
       "        text-align: right;\n",
       "    }\n",
       "</style>\n",
       "<table border=\"1\" class=\"dataframe\">\n",
       "  <thead>\n",
       "    <tr style=\"text-align: right;\">\n",
       "      <th></th>\n",
       "      <th>title</th>\n",
       "      <th>country</th>\n",
       "      <th>location</th>\n",
       "      <th>building_construction_year</th>\n",
       "      <th>building_total_floors</th>\n",
       "      <th>apartment_floor</th>\n",
       "      <th>apartment_rooms</th>\n",
       "      <th>apartment_bedrooms</th>\n",
       "      <th>apartment_bathrooms</th>\n",
       "      <th>apartment_total_area</th>\n",
       "      <th>apartment_living_area</th>\n",
       "      <th>price_in_USD</th>\n",
       "      <th>image</th>\n",
       "      <th>url</th>\n",
       "    </tr>\n",
       "  </thead>\n",
       "  <tbody>\n",
       "    <tr>\n",
       "      <th>6</th>\n",
       "      <td>4 room apartment 245 m² in Yesiloez, Turkey</td>\n",
       "      <td>Turkey</td>\n",
       "      <td>Yesiloez, Mediterranean Region, Alanya, Turkey</td>\n",
       "      <td>2007.0</td>\n",
       "      <td>2.0</td>\n",
       "      <td>3.0</td>\n",
       "      <td>5.0</td>\n",
       "      <td>4.0</td>\n",
       "      <td>4.0</td>\n",
       "      <td>245 m²</td>\n",
       "      <td>245 m²</td>\n",
       "      <td>274415.0</td>\n",
       "      <td>https://realting.com/uploads/bigSlider/9c8/6f1...</td>\n",
       "      <td>https://realting.com/property-for-sale/turkey/...</td>\n",
       "    </tr>\n",
       "    <tr>\n",
       "      <th>146</th>\n",
       "      <td>2 room apartment 93 m² in Alanya, Turkey</td>\n",
       "      <td>Turkey</td>\n",
       "      <td>Mediterranean Region, Sekerhane Mahallesi, Ala...</td>\n",
       "      <td>2020.0</td>\n",
       "      <td>4.0</td>\n",
       "      <td>4.0</td>\n",
       "      <td>3.0</td>\n",
       "      <td>2.0</td>\n",
       "      <td>1.0</td>\n",
       "      <td>93 m²</td>\n",
       "      <td>75 m²</td>\n",
       "      <td>248071.0</td>\n",
       "      <td>https://realting.com/uploads/bigSlider/638/7b0...</td>\n",
       "      <td>https://realting.com/property-for-sale/turkey/...</td>\n",
       "    </tr>\n",
       "    <tr>\n",
       "      <th>229</th>\n",
       "      <td>Multilevel apartments 3 bedrooms 220 m² in Kar...</td>\n",
       "      <td>Turkey</td>\n",
       "      <td>Karakocali, Mediterranean Region, Alanya, Turkey</td>\n",
       "      <td>2013.0</td>\n",
       "      <td>4.0</td>\n",
       "      <td>4.0</td>\n",
       "      <td>1.0</td>\n",
       "      <td>3.0</td>\n",
       "      <td>3.0</td>\n",
       "      <td>220 m²</td>\n",
       "      <td>216 m²</td>\n",
       "      <td>338143.0</td>\n",
       "      <td>https://realting.com/uploads/bigSlider/50e/f75...</td>\n",
       "      <td>https://realting.com/property-for-sale/turkey/...</td>\n",
       "    </tr>\n",
       "    <tr>\n",
       "      <th>280</th>\n",
       "      <td>Penthouse 4 bedrooms 210 m² in Antalya, Turkey</td>\n",
       "      <td>Turkey</td>\n",
       "      <td>Mediterranean Region, Antalya, Turkey</td>\n",
       "      <td>2019.0</td>\n",
       "      <td>7.0</td>\n",
       "      <td>7.0</td>\n",
       "      <td>5.0</td>\n",
       "      <td>4.0</td>\n",
       "      <td>2.0</td>\n",
       "      <td>210 m²</td>\n",
       "      <td>195 m²</td>\n",
       "      <td>368469.0</td>\n",
       "      <td>https://realting.com/uploads/bigSlider/5c9/55e...</td>\n",
       "      <td>https://realting.com/property-for-sale/turkey/...</td>\n",
       "    </tr>\n",
       "    <tr>\n",
       "      <th>283</th>\n",
       "      <td>3 room apartment 140 m² in Karakocali, Turkey</td>\n",
       "      <td>Turkey</td>\n",
       "      <td>Karakocali, Mediterranean Region, Alanya, Turkey</td>\n",
       "      <td>2015.0</td>\n",
       "      <td>4.0</td>\n",
       "      <td>1.0</td>\n",
       "      <td>1.0</td>\n",
       "      <td>3.0</td>\n",
       "      <td>2.0</td>\n",
       "      <td>140 m²</td>\n",
       "      <td>135 m²</td>\n",
       "      <td>299461.0</td>\n",
       "      <td>https://realting.com/uploads/bigSlider/d25/41f...</td>\n",
       "      <td>https://realting.com/property-for-sale/turkey/...</td>\n",
       "    </tr>\n",
       "    <tr>\n",
       "      <th>...</th>\n",
       "      <td>...</td>\n",
       "      <td>...</td>\n",
       "      <td>...</td>\n",
       "      <td>...</td>\n",
       "      <td>...</td>\n",
       "      <td>...</td>\n",
       "      <td>...</td>\n",
       "      <td>...</td>\n",
       "      <td>...</td>\n",
       "      <td>...</td>\n",
       "      <td>...</td>\n",
       "      <td>...</td>\n",
       "      <td>...</td>\n",
       "      <td>...</td>\n",
       "    </tr>\n",
       "    <tr>\n",
       "      <th>144332</th>\n",
       "      <td>Penthouse 4 bedrooms 140 m² in Karakocali, Turkey</td>\n",
       "      <td>Turkey</td>\n",
       "      <td>Karakocali, Mediterranean Region, Alanya, Turkey</td>\n",
       "      <td>2024.0</td>\n",
       "      <td>5.0</td>\n",
       "      <td>5.0</td>\n",
       "      <td>5.0</td>\n",
       "      <td>4.0</td>\n",
       "      <td>2.0</td>\n",
       "      <td>140 m²</td>\n",
       "      <td>126 m²</td>\n",
       "      <td>375978.0</td>\n",
       "      <td>https://realting.com/uploads/bigSlider/3ea/7d0...</td>\n",
       "      <td>https://realting.com/property-for-sale/turkey/...</td>\n",
       "    </tr>\n",
       "    <tr>\n",
       "      <th>144436</th>\n",
       "      <td>2 room apartment 100 m² in Yalinayak, Turkey</td>\n",
       "      <td>Turkey</td>\n",
       "      <td>Yalinayak, Toroslar, Mediterranean Region, Turkey</td>\n",
       "      <td>2022.0</td>\n",
       "      <td>11.0</td>\n",
       "      <td>7.0</td>\n",
       "      <td>3.0</td>\n",
       "      <td>2.0</td>\n",
       "      <td>2.0</td>\n",
       "      <td>100 m²</td>\n",
       "      <td>85 m²</td>\n",
       "      <td>99997.0</td>\n",
       "      <td>https://realting.com/uploads/bigSlider/041/f4a...</td>\n",
       "      <td>https://realting.com/property-for-sale/turkey/...</td>\n",
       "    </tr>\n",
       "    <tr>\n",
       "      <th>144570</th>\n",
       "      <td>1 room apartment 60 m² in Fethiye, Turkey</td>\n",
       "      <td>Turkey</td>\n",
       "      <td>Aegean Region, Fethiye, Turkey</td>\n",
       "      <td>2023.0</td>\n",
       "      <td>3.0</td>\n",
       "      <td>2.0</td>\n",
       "      <td>2.0</td>\n",
       "      <td>1.0</td>\n",
       "      <td>1.0</td>\n",
       "      <td>60 m²</td>\n",
       "      <td>55 m²</td>\n",
       "      <td>228255.0</td>\n",
       "      <td>https://realting.com/uploads/bigSlider/6fe/905...</td>\n",
       "      <td>https://realting.com/property-for-sale/turkey/...</td>\n",
       "    </tr>\n",
       "    <tr>\n",
       "      <th>144739</th>\n",
       "      <td>3 room apartment 190 m² in Elvanli, Turkey</td>\n",
       "      <td>Turkey</td>\n",
       "      <td>Elvanli, Mediterranean Region, Mersin, Turkey</td>\n",
       "      <td>2014.0</td>\n",
       "      <td>12.0</td>\n",
       "      <td>5.0</td>\n",
       "      <td>4.0</td>\n",
       "      <td>3.0</td>\n",
       "      <td>2.0</td>\n",
       "      <td>190 m²</td>\n",
       "      <td>172 m²</td>\n",
       "      <td>231707.0</td>\n",
       "      <td>https://realting.com/uploads/bigSlider/785/38e...</td>\n",
       "      <td>https://realting.com/property-for-sale/turkey/...</td>\n",
       "    </tr>\n",
       "    <tr>\n",
       "      <th>146241</th>\n",
       "      <td>2 room apartment 115 m² in Mudanya, Turkey</td>\n",
       "      <td>Turkey</td>\n",
       "      <td>Mudanya, Marmara Region, Bursa, Turkey</td>\n",
       "      <td>2023.0</td>\n",
       "      <td>5.0</td>\n",
       "      <td>1.0</td>\n",
       "      <td>3.0</td>\n",
       "      <td>2.0</td>\n",
       "      <td>2.0</td>\n",
       "      <td>115 m²</td>\n",
       "      <td>108 m²</td>\n",
       "      <td>182524.0</td>\n",
       "      <td>https://realting.com/uploads/bigSlider/b46/bcd...</td>\n",
       "      <td>https://realting.com/property-for-sale/turkey/...</td>\n",
       "    </tr>\n",
       "  </tbody>\n",
       "</table>\n",
       "<p>622 rows × 14 columns</p>\n",
       "</div>"
      ],
      "text/plain": [
       "                                                    title country  \\\n",
       "6             4 room apartment 245 m² in Yesiloez, Turkey  Turkey   \n",
       "146              2 room apartment 93 m² in Alanya, Turkey  Turkey   \n",
       "229     Multilevel apartments 3 bedrooms 220 m² in Kar...  Turkey   \n",
       "280        Penthouse 4 bedrooms 210 m² in Antalya, Turkey  Turkey   \n",
       "283         3 room apartment 140 m² in Karakocali, Turkey  Turkey   \n",
       "...                                                   ...     ...   \n",
       "144332  Penthouse 4 bedrooms 140 m² in Karakocali, Turkey  Turkey   \n",
       "144436       2 room apartment 100 m² in Yalinayak, Turkey  Turkey   \n",
       "144570          1 room apartment 60 m² in Fethiye, Turkey  Turkey   \n",
       "144739         3 room apartment 190 m² in Elvanli, Turkey  Turkey   \n",
       "146241         2 room apartment 115 m² in Mudanya, Turkey  Turkey   \n",
       "\n",
       "                                                 location  \\\n",
       "6          Yesiloez, Mediterranean Region, Alanya, Turkey   \n",
       "146     Mediterranean Region, Sekerhane Mahallesi, Ala...   \n",
       "229      Karakocali, Mediterranean Region, Alanya, Turkey   \n",
       "280                 Mediterranean Region, Antalya, Turkey   \n",
       "283      Karakocali, Mediterranean Region, Alanya, Turkey   \n",
       "...                                                   ...   \n",
       "144332   Karakocali, Mediterranean Region, Alanya, Turkey   \n",
       "144436  Yalinayak, Toroslar, Mediterranean Region, Turkey   \n",
       "144570                     Aegean Region, Fethiye, Turkey   \n",
       "144739      Elvanli, Mediterranean Region, Mersin, Turkey   \n",
       "146241             Mudanya, Marmara Region, Bursa, Turkey   \n",
       "\n",
       "        building_construction_year  building_total_floors  apartment_floor  \\\n",
       "6                           2007.0                    2.0              3.0   \n",
       "146                         2020.0                    4.0              4.0   \n",
       "229                         2013.0                    4.0              4.0   \n",
       "280                         2019.0                    7.0              7.0   \n",
       "283                         2015.0                    4.0              1.0   \n",
       "...                            ...                    ...              ...   \n",
       "144332                      2024.0                    5.0              5.0   \n",
       "144436                      2022.0                   11.0              7.0   \n",
       "144570                      2023.0                    3.0              2.0   \n",
       "144739                      2014.0                   12.0              5.0   \n",
       "146241                      2023.0                    5.0              1.0   \n",
       "\n",
       "        apartment_rooms  apartment_bedrooms  apartment_bathrooms  \\\n",
       "6                   5.0                 4.0                  4.0   \n",
       "146                 3.0                 2.0                  1.0   \n",
       "229                 1.0                 3.0                  3.0   \n",
       "280                 5.0                 4.0                  2.0   \n",
       "283                 1.0                 3.0                  2.0   \n",
       "...                 ...                 ...                  ...   \n",
       "144332              5.0                 4.0                  2.0   \n",
       "144436              3.0                 2.0                  2.0   \n",
       "144570              2.0                 1.0                  1.0   \n",
       "144739              4.0                 3.0                  2.0   \n",
       "146241              3.0                 2.0                  2.0   \n",
       "\n",
       "       apartment_total_area apartment_living_area  price_in_USD  \\\n",
       "6                    245 m²                245 m²      274415.0   \n",
       "146                   93 m²                 75 m²      248071.0   \n",
       "229                  220 m²                216 m²      338143.0   \n",
       "280                  210 m²                195 m²      368469.0   \n",
       "283                  140 m²                135 m²      299461.0   \n",
       "...                     ...                   ...           ...   \n",
       "144332               140 m²                126 m²      375978.0   \n",
       "144436               100 m²                 85 m²       99997.0   \n",
       "144570                60 m²                 55 m²      228255.0   \n",
       "144739               190 m²                172 m²      231707.0   \n",
       "146241               115 m²                108 m²      182524.0   \n",
       "\n",
       "                                                    image  \\\n",
       "6       https://realting.com/uploads/bigSlider/9c8/6f1...   \n",
       "146     https://realting.com/uploads/bigSlider/638/7b0...   \n",
       "229     https://realting.com/uploads/bigSlider/50e/f75...   \n",
       "280     https://realting.com/uploads/bigSlider/5c9/55e...   \n",
       "283     https://realting.com/uploads/bigSlider/d25/41f...   \n",
       "...                                                   ...   \n",
       "144332  https://realting.com/uploads/bigSlider/3ea/7d0...   \n",
       "144436  https://realting.com/uploads/bigSlider/041/f4a...   \n",
       "144570  https://realting.com/uploads/bigSlider/6fe/905...   \n",
       "144739  https://realting.com/uploads/bigSlider/785/38e...   \n",
       "146241  https://realting.com/uploads/bigSlider/b46/bcd...   \n",
       "\n",
       "                                                      url  \n",
       "6       https://realting.com/property-for-sale/turkey/...  \n",
       "146     https://realting.com/property-for-sale/turkey/...  \n",
       "229     https://realting.com/property-for-sale/turkey/...  \n",
       "280     https://realting.com/property-for-sale/turkey/...  \n",
       "283     https://realting.com/property-for-sale/turkey/...  \n",
       "...                                                   ...  \n",
       "144332  https://realting.com/property-for-sale/turkey/...  \n",
       "144436  https://realting.com/property-for-sale/turkey/...  \n",
       "144570  https://realting.com/property-for-sale/turkey/...  \n",
       "144739  https://realting.com/property-for-sale/turkey/...  \n",
       "146241  https://realting.com/property-for-sale/turkey/...  \n",
       "\n",
       "[622 rows x 14 columns]"
      ]
     },
     "execution_count": 142,
     "metadata": {},
     "output_type": "execute_result"
    }
   ],
   "source": [
    "tur"
   ]
  },
  {
   "cell_type": "code",
   "execution_count": 143,
   "id": "4c2ff9f0",
   "metadata": {},
   "outputs": [],
   "source": [
    "tur_price = tur['price_in_USD'].sum()"
   ]
  },
  {
   "cell_type": "code",
   "execution_count": 144,
   "id": "33ad7ef6",
   "metadata": {},
   "outputs": [
    {
     "data": {
      "text/plain": [
       "154585163.0"
      ]
     },
     "execution_count": 144,
     "metadata": {},
     "output_type": "execute_result"
    }
   ],
   "source": [
    "tur_price"
   ]
  },
  {
   "cell_type": "code",
   "execution_count": 145,
   "id": "bccc2cad",
   "metadata": {},
   "outputs": [
    {
     "name": "stdout",
     "output_type": "stream",
     "text": [
      "\u001b[1mHow many apartments are in Turkey?\n"
     ]
    }
   ],
   "source": [
    "print(f'{bold}How many apartments are in Turkey?')"
   ]
  },
  {
   "cell_type": "code",
   "execution_count": 146,
   "id": "756aef4f",
   "metadata": {},
   "outputs": [
    {
     "name": "stdout",
     "output_type": "stream",
     "text": [
      "<class 'pandas.core.frame.DataFrame'>\n",
      "Int64Index: 622 entries, 6 to 146241\n",
      "Data columns (total 14 columns):\n",
      " #   Column                      Non-Null Count  Dtype  \n",
      "---  ------                      --------------  -----  \n",
      " 0   title                       622 non-null    object \n",
      " 1   country                     622 non-null    object \n",
      " 2   location                    622 non-null    object \n",
      " 3   building_construction_year  622 non-null    float64\n",
      " 4   building_total_floors       622 non-null    float64\n",
      " 5   apartment_floor             622 non-null    float64\n",
      " 6   apartment_rooms             622 non-null    float64\n",
      " 7   apartment_bedrooms          622 non-null    float64\n",
      " 8   apartment_bathrooms         622 non-null    float64\n",
      " 9   apartment_total_area        622 non-null    object \n",
      " 10  apartment_living_area       622 non-null    object \n",
      " 11  price_in_USD                622 non-null    float64\n",
      " 12  image                       622 non-null    object \n",
      " 13  url                         622 non-null    object \n",
      "dtypes: float64(7), object(7)\n",
      "memory usage: 72.9+ KB\n"
     ]
    }
   ],
   "source": [
    "tur.info()"
   ]
  },
  {
   "cell_type": "code",
   "execution_count": 147,
   "id": "c6a3dd28",
   "metadata": {},
   "outputs": [
    {
     "name": "stdout",
     "output_type": "stream",
     "text": [
      "There are 622 apartments in Turkey\n"
     ]
    }
   ],
   "source": [
    "print('There are 622 apartments in Turkey')"
   ]
  },
  {
   "cell_type": "code",
   "execution_count": 148,
   "id": "af19554f",
   "metadata": {},
   "outputs": [
    {
     "name": "stdout",
     "output_type": "stream",
     "text": [
      "\u001b[1mWhat factor affects the price of apartments in Turkey the most?\n"
     ]
    }
   ],
   "source": [
    "print(f'{bold}What factor affects the price of apartments in Turkey the most?')"
   ]
  },
  {
   "cell_type": "code",
   "execution_count": 149,
   "id": "2e04bb60",
   "metadata": {},
   "outputs": [
    {
     "name": "stderr",
     "output_type": "stream",
     "text": [
      "C:\\Users\\USER\\AppData\\Local\\Temp\\ipykernel_4520\\388012249.py:1: FutureWarning:\n",
      "\n",
      "The default value of numeric_only in DataFrame.corr is deprecated. In a future version, it will default to False. Select only valid columns or specify the value of numeric_only to silence this warning.\n",
      "\n"
     ]
    },
    {
     "data": {
      "text/html": [
       "<div>\n",
       "<style scoped>\n",
       "    .dataframe tbody tr th:only-of-type {\n",
       "        vertical-align: middle;\n",
       "    }\n",
       "\n",
       "    .dataframe tbody tr th {\n",
       "        vertical-align: top;\n",
       "    }\n",
       "\n",
       "    .dataframe thead th {\n",
       "        text-align: right;\n",
       "    }\n",
       "</style>\n",
       "<table border=\"1\" class=\"dataframe\">\n",
       "  <thead>\n",
       "    <tr style=\"text-align: right;\">\n",
       "      <th></th>\n",
       "      <th>building_construction_year</th>\n",
       "      <th>building_total_floors</th>\n",
       "      <th>apartment_floor</th>\n",
       "      <th>apartment_rooms</th>\n",
       "      <th>apartment_bedrooms</th>\n",
       "      <th>apartment_bathrooms</th>\n",
       "      <th>price_in_USD</th>\n",
       "    </tr>\n",
       "  </thead>\n",
       "  <tbody>\n",
       "    <tr>\n",
       "      <th>building_construction_year</th>\n",
       "      <td>1.000000</td>\n",
       "      <td>-0.091917</td>\n",
       "      <td>-0.081813</td>\n",
       "      <td>0.019959</td>\n",
       "      <td>0.053941</td>\n",
       "      <td>0.049254</td>\n",
       "      <td>0.035637</td>\n",
       "    </tr>\n",
       "    <tr>\n",
       "      <th>building_total_floors</th>\n",
       "      <td>-0.091917</td>\n",
       "      <td>1.000000</td>\n",
       "      <td>0.560217</td>\n",
       "      <td>-0.076117</td>\n",
       "      <td>-0.106109</td>\n",
       "      <td>-0.049946</td>\n",
       "      <td>0.055392</td>\n",
       "    </tr>\n",
       "    <tr>\n",
       "      <th>apartment_floor</th>\n",
       "      <td>-0.081813</td>\n",
       "      <td>0.560217</td>\n",
       "      <td>1.000000</td>\n",
       "      <td>0.106885</td>\n",
       "      <td>0.111169</td>\n",
       "      <td>0.161159</td>\n",
       "      <td>0.221168</td>\n",
       "    </tr>\n",
       "    <tr>\n",
       "      <th>apartment_rooms</th>\n",
       "      <td>0.019959</td>\n",
       "      <td>-0.076117</td>\n",
       "      <td>0.106885</td>\n",
       "      <td>1.000000</td>\n",
       "      <td>0.885836</td>\n",
       "      <td>0.645516</td>\n",
       "      <td>0.344939</td>\n",
       "    </tr>\n",
       "    <tr>\n",
       "      <th>apartment_bedrooms</th>\n",
       "      <td>0.053941</td>\n",
       "      <td>-0.106109</td>\n",
       "      <td>0.111169</td>\n",
       "      <td>0.885836</td>\n",
       "      <td>1.000000</td>\n",
       "      <td>0.727209</td>\n",
       "      <td>0.372295</td>\n",
       "    </tr>\n",
       "    <tr>\n",
       "      <th>apartment_bathrooms</th>\n",
       "      <td>0.049254</td>\n",
       "      <td>-0.049946</td>\n",
       "      <td>0.161159</td>\n",
       "      <td>0.645516</td>\n",
       "      <td>0.727209</td>\n",
       "      <td>1.000000</td>\n",
       "      <td>0.365920</td>\n",
       "    </tr>\n",
       "    <tr>\n",
       "      <th>price_in_USD</th>\n",
       "      <td>0.035637</td>\n",
       "      <td>0.055392</td>\n",
       "      <td>0.221168</td>\n",
       "      <td>0.344939</td>\n",
       "      <td>0.372295</td>\n",
       "      <td>0.365920</td>\n",
       "      <td>1.000000</td>\n",
       "    </tr>\n",
       "  </tbody>\n",
       "</table>\n",
       "</div>"
      ],
      "text/plain": [
       "                            building_construction_year  building_total_floors  \\\n",
       "building_construction_year                    1.000000              -0.091917   \n",
       "building_total_floors                        -0.091917               1.000000   \n",
       "apartment_floor                              -0.081813               0.560217   \n",
       "apartment_rooms                               0.019959              -0.076117   \n",
       "apartment_bedrooms                            0.053941              -0.106109   \n",
       "apartment_bathrooms                           0.049254              -0.049946   \n",
       "price_in_USD                                  0.035637               0.055392   \n",
       "\n",
       "                            apartment_floor  apartment_rooms  \\\n",
       "building_construction_year        -0.081813         0.019959   \n",
       "building_total_floors              0.560217        -0.076117   \n",
       "apartment_floor                    1.000000         0.106885   \n",
       "apartment_rooms                    0.106885         1.000000   \n",
       "apartment_bedrooms                 0.111169         0.885836   \n",
       "apartment_bathrooms                0.161159         0.645516   \n",
       "price_in_USD                       0.221168         0.344939   \n",
       "\n",
       "                            apartment_bedrooms  apartment_bathrooms  \\\n",
       "building_construction_year            0.053941             0.049254   \n",
       "building_total_floors                -0.106109            -0.049946   \n",
       "apartment_floor                       0.111169             0.161159   \n",
       "apartment_rooms                       0.885836             0.645516   \n",
       "apartment_bedrooms                    1.000000             0.727209   \n",
       "apartment_bathrooms                   0.727209             1.000000   \n",
       "price_in_USD                          0.372295             0.365920   \n",
       "\n",
       "                            price_in_USD  \n",
       "building_construction_year      0.035637  \n",
       "building_total_floors           0.055392  \n",
       "apartment_floor                 0.221168  \n",
       "apartment_rooms                 0.344939  \n",
       "apartment_bedrooms              0.372295  \n",
       "apartment_bathrooms             0.365920  \n",
       "price_in_USD                    1.000000  "
      ]
     },
     "execution_count": 149,
     "metadata": {},
     "output_type": "execute_result"
    }
   ],
   "source": [
    "tur.corr()"
   ]
  },
  {
   "cell_type": "code",
   "execution_count": 150,
   "id": "0ece81b4",
   "metadata": {},
   "outputs": [
    {
     "name": "stdout",
     "output_type": "stream",
     "text": [
      "\u001b[1mThis shows how factors affects each other. Correlation value -1 means when one variable increases, the other decreases in a perfectly linear fashion.Correlation value between -1 and -0.7 means a strong negative relationship, but not perfect. As one variable increases, the other tends to decrease significantly. Correlation value between -0.7 and -0.3 means a moderate negative relationship. As one variable increases, the other tends to decrease, but the relationship is not very strong. Correlation value between -0.3 and 0 means a weak negative relationship. There is a slight tendency for one variable to decrease as the other increases. Correltion value between 0 and 0.3 means a weak positive relationship. There is slight tendency for one variable to increase as the other increases. Correlation values between 0.3 and 0.7 means a moderate positive relationship. As one variable increases, the other tends to increase, but the relationship is not very strong. Correlation value between 0.7 and 1 indicates a strong positive relationship, but not perfect. As one variable increases the other tends to increase significantly. Correlation value of 1 means when one variable increases the other increases in a perfectly linear fashion. Correlation value of 0 indicates no relationship between the two variables. \n"
     ]
    }
   ],
   "source": [
    "print(f'{bold}This shows how factors affects each other. '\n",
    "     'Correlation value -1 means when one variable increases, the other decreases in a perfectly linear fashion.'\n",
    "     'Correlation value between -1 and -0.7 means a strong negative relationship, but not perfect. As one variable increases, the other tends to decrease significantly. '\n",
    "     'Correlation value between -0.7 and -0.3 means a moderate negative relationship. As one variable increases, the other tends to decrease, but the relationship is not very strong. '\n",
    "     'Correlation value between -0.3 and 0 means a weak negative relationship. There is a slight tendency for one variable to decrease as the other increases. Correltion value between 0 and 0.3 means a weak positive relationship. There is slight tendency for one variable to increase as the other increases. Correlation values between 0.3 and 0.7 means a moderate positive relationship. As one variable increases, the other tends to increase, but the relationship is not very strong. '\n",
    "     'Correlation value between 0.7 and 1 indicates a strong positive relationship, but not perfect. As one variable increases the other tends to increase significantly. '\n",
    "     'Correlation value of 1 means when one variable increases the other increases in a perfectly linear fashion. Correlation value of 0 indicates no relationship between the two variables. ')\n",
    "\n"
   ]
  },
  {
   "cell_type": "code",
   "execution_count": 151,
   "id": "84a20f10",
   "metadata": {},
   "outputs": [
    {
     "name": "stdout",
     "output_type": "stream",
     "text": [
      "\u001b[1mWhat affects the price of apartments the most in Turkey apart from the price itself is the number of the apartment bedrooms having a correlation value of 0.372295\n"
     ]
    }
   ],
   "source": [
    "print(f'{bold}What affects the price of apartments the most in Turkey apart from the price itself is the number of the apartment bedrooms having a correlation value of 0.372295')"
   ]
  },
  {
   "cell_type": "code",
   "execution_count": 152,
   "id": "11581edc",
   "metadata": {},
   "outputs": [
    {
     "name": "stderr",
     "output_type": "stream",
     "text": [
      "C:\\Users\\USER\\AppData\\Local\\Temp\\ipykernel_4520\\3354514647.py:1: FutureWarning:\n",
      "\n",
      "The default value of numeric_only in DataFrame.corr is deprecated. In a future version, it will default to False. Select only valid columns or specify the value of numeric_only to silence this warning.\n",
      "\n"
     ]
    },
    {
     "data": {
      "text/plain": [
       "<Axes: >"
      ]
     },
     "execution_count": 152,
     "metadata": {},
     "output_type": "execute_result"
    },
    {
     "data": {
      "image/png": "[encoded data removed]",
      "text/plain": [
       "<Figure size 640x480 with 2 Axes>"
      ]
     },
     "metadata": {},
     "output_type": "display_data"
    }
   ],
   "source": [
    "sns.heatmap(tur.corr(),cmap='coolwarm')"
   ]
  },
  {
   "cell_type": "code",
   "execution_count": 153,
   "id": "171f2007",
   "metadata": {},
   "outputs": [
    {
     "name": "stdout",
     "output_type": "stream",
     "text": [
      "\u001b[1mWhat is the total number of apartments floors in Turkey?\n"
     ]
    }
   ],
   "source": [
    "print(f'{bold}What is the total number of apartments floors in Turkey?')"
   ]
  },
  {
   "cell_type": "code",
   "execution_count": 154,
   "id": "025ca6c4",
   "metadata": {},
   "outputs": [
    {
     "data": {
      "text/plain": [
       "2332.0"
      ]
     },
     "execution_count": 154,
     "metadata": {},
     "output_type": "execute_result"
    }
   ],
   "source": [
    "tur['apartment_floor'].sum()"
   ]
  },
  {
   "cell_type": "code",
   "execution_count": 155,
   "id": "571a55e2",
   "metadata": {},
   "outputs": [
    {
     "name": "stdout",
     "output_type": "stream",
     "text": [
      "\u001b[1mForecast what the total price of apartment may be for the next 5 years in Turkey\n"
     ]
    }
   ],
   "source": [
    "print(f'{bold}Forecast what the total price of apartment may be for the next 5 years in Turkey')"
   ]
  },
  {
   "cell_type": "code",
   "execution_count": 156,
   "id": "00f4cb81",
   "metadata": {},
   "outputs": [],
   "source": [
    "turp = tur.groupby('building_construction_year')['price_in_USD'].sum().reset_index()"
   ]
  },
  {
   "cell_type": "code",
   "execution_count": 157,
   "id": "1805d243",
   "metadata": {},
   "outputs": [
    {
     "data": {
      "text/html": [
       "<div>\n",
       "<style scoped>\n",
       "    .dataframe tbody tr th:only-of-type {\n",
       "        vertical-align: middle;\n",
       "    }\n",
       "\n",
       "    .dataframe tbody tr th {\n",
       "        vertical-align: top;\n",
       "    }\n",
       "\n",
       "    .dataframe thead th {\n",
       "        text-align: right;\n",
       "    }\n",
       "</style>\n",
       "<table border=\"1\" class=\"dataframe\">\n",
       "  <thead>\n",
       "    <tr style=\"text-align: right;\">\n",
       "      <th></th>\n",
       "      <th>building_construction_year</th>\n",
       "      <th>price_in_USD</th>\n",
       "    </tr>\n",
       "  </thead>\n",
       "  <tbody>\n",
       "    <tr>\n",
       "      <th>0</th>\n",
       "      <td>5.0</td>\n",
       "      <td>80168.0</td>\n",
       "    </tr>\n",
       "    <tr>\n",
       "      <th>1</th>\n",
       "      <td>1910.0</td>\n",
       "      <td>509769.0</td>\n",
       "    </tr>\n",
       "    <tr>\n",
       "      <th>2</th>\n",
       "      <td>1913.0</td>\n",
       "      <td>163039.0</td>\n",
       "    </tr>\n",
       "    <tr>\n",
       "      <th>3</th>\n",
       "      <td>1967.0</td>\n",
       "      <td>368469.0</td>\n",
       "    </tr>\n",
       "    <tr>\n",
       "      <th>4</th>\n",
       "      <td>1975.0</td>\n",
       "      <td>189126.0</td>\n",
       "    </tr>\n",
       "    <tr>\n",
       "      <th>5</th>\n",
       "      <td>1984.0</td>\n",
       "      <td>103802.0</td>\n",
       "    </tr>\n",
       "    <tr>\n",
       "      <th>6</th>\n",
       "      <td>1987.0</td>\n",
       "      <td>217386.0</td>\n",
       "    </tr>\n",
       "    <tr>\n",
       "      <th>7</th>\n",
       "      <td>1990.0</td>\n",
       "      <td>179343.0</td>\n",
       "    </tr>\n",
       "    <tr>\n",
       "      <th>8</th>\n",
       "      <td>1993.0</td>\n",
       "      <td>1377138.0</td>\n",
       "    </tr>\n",
       "    <tr>\n",
       "      <th>9</th>\n",
       "      <td>1995.0</td>\n",
       "      <td>155431.0</td>\n",
       "    </tr>\n",
       "    <tr>\n",
       "      <th>10</th>\n",
       "      <td>1996.0</td>\n",
       "      <td>489118.0</td>\n",
       "    </tr>\n",
       "    <tr>\n",
       "      <th>11</th>\n",
       "      <td>1997.0</td>\n",
       "      <td>282601.0</td>\n",
       "    </tr>\n",
       "    <tr>\n",
       "      <th>12</th>\n",
       "      <td>1998.0</td>\n",
       "      <td>776461.0</td>\n",
       "    </tr>\n",
       "    <tr>\n",
       "      <th>13</th>\n",
       "      <td>1999.0</td>\n",
       "      <td>482596.0</td>\n",
       "    </tr>\n",
       "    <tr>\n",
       "      <th>14</th>\n",
       "      <td>2002.0</td>\n",
       "      <td>568463.0</td>\n",
       "    </tr>\n",
       "    <tr>\n",
       "      <th>15</th>\n",
       "      <td>2003.0</td>\n",
       "      <td>527160.0</td>\n",
       "    </tr>\n",
       "    <tr>\n",
       "      <th>16</th>\n",
       "      <td>2004.0</td>\n",
       "      <td>249993.0</td>\n",
       "    </tr>\n",
       "    <tr>\n",
       "      <th>17</th>\n",
       "      <td>2005.0</td>\n",
       "      <td>158019.0</td>\n",
       "    </tr>\n",
       "    <tr>\n",
       "      <th>18</th>\n",
       "      <td>2006.0</td>\n",
       "      <td>364121.0</td>\n",
       "    </tr>\n",
       "    <tr>\n",
       "      <th>19</th>\n",
       "      <td>2007.0</td>\n",
       "      <td>475497.0</td>\n",
       "    </tr>\n",
       "    <tr>\n",
       "      <th>20</th>\n",
       "      <td>2008.0</td>\n",
       "      <td>294540.0</td>\n",
       "    </tr>\n",
       "    <tr>\n",
       "      <th>21</th>\n",
       "      <td>2009.0</td>\n",
       "      <td>689112.0</td>\n",
       "    </tr>\n",
       "    <tr>\n",
       "      <th>22</th>\n",
       "      <td>2010.0</td>\n",
       "      <td>1778261.0</td>\n",
       "    </tr>\n",
       "    <tr>\n",
       "      <th>23</th>\n",
       "      <td>2011.0</td>\n",
       "      <td>656110.0</td>\n",
       "    </tr>\n",
       "    <tr>\n",
       "      <th>24</th>\n",
       "      <td>2012.0</td>\n",
       "      <td>1416956.0</td>\n",
       "    </tr>\n",
       "    <tr>\n",
       "      <th>25</th>\n",
       "      <td>2013.0</td>\n",
       "      <td>2372048.0</td>\n",
       "    </tr>\n",
       "    <tr>\n",
       "      <th>26</th>\n",
       "      <td>2014.0</td>\n",
       "      <td>1635764.0</td>\n",
       "    </tr>\n",
       "    <tr>\n",
       "      <th>27</th>\n",
       "      <td>2015.0</td>\n",
       "      <td>4420040.0</td>\n",
       "    </tr>\n",
       "    <tr>\n",
       "      <th>28</th>\n",
       "      <td>2016.0</td>\n",
       "      <td>2302426.0</td>\n",
       "    </tr>\n",
       "    <tr>\n",
       "      <th>29</th>\n",
       "      <td>2017.0</td>\n",
       "      <td>3293304.0</td>\n",
       "    </tr>\n",
       "    <tr>\n",
       "      <th>30</th>\n",
       "      <td>2018.0</td>\n",
       "      <td>7192873.0</td>\n",
       "    </tr>\n",
       "    <tr>\n",
       "      <th>31</th>\n",
       "      <td>2019.0</td>\n",
       "      <td>7015884.0</td>\n",
       "    </tr>\n",
       "    <tr>\n",
       "      <th>32</th>\n",
       "      <td>2020.0</td>\n",
       "      <td>2342629.0</td>\n",
       "    </tr>\n",
       "    <tr>\n",
       "      <th>33</th>\n",
       "      <td>2021.0</td>\n",
       "      <td>11447775.0</td>\n",
       "    </tr>\n",
       "    <tr>\n",
       "      <th>34</th>\n",
       "      <td>2022.0</td>\n",
       "      <td>17716106.0</td>\n",
       "    </tr>\n",
       "    <tr>\n",
       "      <th>35</th>\n",
       "      <td>2023.0</td>\n",
       "      <td>42395546.0</td>\n",
       "    </tr>\n",
       "    <tr>\n",
       "      <th>36</th>\n",
       "      <td>2024.0</td>\n",
       "      <td>34873360.0</td>\n",
       "    </tr>\n",
       "    <tr>\n",
       "      <th>37</th>\n",
       "      <td>2025.0</td>\n",
       "      <td>4937077.0</td>\n",
       "    </tr>\n",
       "    <tr>\n",
       "      <th>38</th>\n",
       "      <td>2026.0</td>\n",
       "      <td>87652.0</td>\n",
       "    </tr>\n",
       "  </tbody>\n",
       "</table>\n",
       "</div>"
      ],
      "text/plain": [
       "    building_construction_year  price_in_USD\n",
       "0                          5.0       80168.0\n",
       "1                       1910.0      509769.0\n",
       "2                       1913.0      163039.0\n",
       "3                       1967.0      368469.0\n",
       "4                       1975.0      189126.0\n",
       "5                       1984.0      103802.0\n",
       "6                       1987.0      217386.0\n",
       "7                       1990.0      179343.0\n",
       "8                       1993.0     1377138.0\n",
       "9                       1995.0      155431.0\n",
       "10                      1996.0      489118.0\n",
       "11                      1997.0      282601.0\n",
       "12                      1998.0      776461.0\n",
       "13                      1999.0      482596.0\n",
       "14                      2002.0      568463.0\n",
       "15                      2003.0      527160.0\n",
       "16                      2004.0      249993.0\n",
       "17                      2005.0      158019.0\n",
       "18                      2006.0      364121.0\n",
       "19                      2007.0      475497.0\n",
       "20                      2008.0      294540.0\n",
       "21                      2009.0      689112.0\n",
       "22                      2010.0     1778261.0\n",
       "23                      2011.0      656110.0\n",
       "24                      2012.0     1416956.0\n",
       "25                      2013.0     2372048.0\n",
       "26                      2014.0     1635764.0\n",
       "27                      2015.0     4420040.0\n",
       "28                      2016.0     2302426.0\n",
       "29                      2017.0     3293304.0\n",
       "30                      2018.0     7192873.0\n",
       "31                      2019.0     7015884.0\n",
       "32                      2020.0     2342629.0\n",
       "33                      2021.0    11447775.0\n",
       "34                      2022.0    17716106.0\n",
       "35                      2023.0    42395546.0\n",
       "36                      2024.0    34873360.0\n",
       "37                      2025.0     4937077.0\n",
       "38                      2026.0       87652.0"
      ]
     },
     "execution_count": 157,
     "metadata": {},
     "output_type": "execute_result"
    }
   ],
   "source": [
    "turp"
   ]
  },
  {
   "cell_type": "code",
   "execution_count": 158,
   "id": "8232371f",
   "metadata": {},
   "outputs": [],
   "source": [
    "new_dates = ['1985','1986','1987','1988','1989','1990','1991','1992','1993','1994','1995','1996','1997','1998','1999',\n",
    "             '2000',\n",
    "             '2001','2002','2003',\n",
    "            '2004','2005','2006','2007','2008','2009','2010','2011','2012','2013','2014','2015','2016','2017',\n",
    "            '2018','2019','2020','2021','2022','2023']"
   ]
  },
  {
   "cell_type": "code",
   "execution_count": 159,
   "id": "54365dbc",
   "metadata": {},
   "outputs": [],
   "source": [
    "turp['building_construction_year'] = new_dates"
   ]
  },
  {
   "cell_type": "code",
   "execution_count": 160,
   "id": "a8ee896d",
   "metadata": {},
   "outputs": [
    {
     "data": {
      "text/html": [
       "<div>\n",
       "<style scoped>\n",
       "    .dataframe tbody tr th:only-of-type {\n",
       "        vertical-align: middle;\n",
       "    }\n",
       "\n",
       "    .dataframe tbody tr th {\n",
       "        vertical-align: top;\n",
       "    }\n",
       "\n",
       "    .dataframe thead th {\n",
       "        text-align: right;\n",
       "    }\n",
       "</style>\n",
       "<table border=\"1\" class=\"dataframe\">\n",
       "  <thead>\n",
       "    <tr style=\"text-align: right;\">\n",
       "      <th></th>\n",
       "      <th>building_construction_year</th>\n",
       "      <th>price_in_USD</th>\n",
       "    </tr>\n",
       "  </thead>\n",
       "  <tbody>\n",
       "    <tr>\n",
       "      <th>0</th>\n",
       "      <td>1985</td>\n",
       "      <td>80168.0</td>\n",
       "    </tr>\n",
       "    <tr>\n",
       "      <th>1</th>\n",
       "      <td>1986</td>\n",
       "      <td>509769.0</td>\n",
       "    </tr>\n",
       "    <tr>\n",
       "      <th>2</th>\n",
       "      <td>1987</td>\n",
       "      <td>163039.0</td>\n",
       "    </tr>\n",
       "    <tr>\n",
       "      <th>3</th>\n",
       "      <td>1988</td>\n",
       "      <td>368469.0</td>\n",
       "    </tr>\n",
       "    <tr>\n",
       "      <th>4</th>\n",
       "      <td>1989</td>\n",
       "      <td>189126.0</td>\n",
       "    </tr>\n",
       "    <tr>\n",
       "      <th>5</th>\n",
       "      <td>1990</td>\n",
       "      <td>103802.0</td>\n",
       "    </tr>\n",
       "    <tr>\n",
       "      <th>6</th>\n",
       "      <td>1991</td>\n",
       "      <td>217386.0</td>\n",
       "    </tr>\n",
       "    <tr>\n",
       "      <th>7</th>\n",
       "      <td>1992</td>\n",
       "      <td>179343.0</td>\n",
       "    </tr>\n",
       "    <tr>\n",
       "      <th>8</th>\n",
       "      <td>1993</td>\n",
       "      <td>1377138.0</td>\n",
       "    </tr>\n",
       "    <tr>\n",
       "      <th>9</th>\n",
       "      <td>1994</td>\n",
       "      <td>155431.0</td>\n",
       "    </tr>\n",
       "    <tr>\n",
       "      <th>10</th>\n",
       "      <td>1995</td>\n",
       "      <td>489118.0</td>\n",
       "    </tr>\n",
       "    <tr>\n",
       "      <th>11</th>\n",
       "      <td>1996</td>\n",
       "      <td>282601.0</td>\n",
       "    </tr>\n",
       "    <tr>\n",
       "      <th>12</th>\n",
       "      <td>1997</td>\n",
       "      <td>776461.0</td>\n",
       "    </tr>\n",
       "    <tr>\n",
       "      <th>13</th>\n",
       "      <td>1998</td>\n",
       "      <td>482596.0</td>\n",
       "    </tr>\n",
       "    <tr>\n",
       "      <th>14</th>\n",
       "      <td>1999</td>\n",
       "      <td>568463.0</td>\n",
       "    </tr>\n",
       "    <tr>\n",
       "      <th>15</th>\n",
       "      <td>2000</td>\n",
       "      <td>527160.0</td>\n",
       "    </tr>\n",
       "    <tr>\n",
       "      <th>16</th>\n",
       "      <td>2001</td>\n",
       "      <td>249993.0</td>\n",
       "    </tr>\n",
       "    <tr>\n",
       "      <th>17</th>\n",
       "      <td>2002</td>\n",
       "      <td>158019.0</td>\n",
       "    </tr>\n",
       "    <tr>\n",
       "      <th>18</th>\n",
       "      <td>2003</td>\n",
       "      <td>364121.0</td>\n",
       "    </tr>\n",
       "    <tr>\n",
       "      <th>19</th>\n",
       "      <td>2004</td>\n",
       "      <td>475497.0</td>\n",
       "    </tr>\n",
       "    <tr>\n",
       "      <th>20</th>\n",
       "      <td>2005</td>\n",
       "      <td>294540.0</td>\n",
       "    </tr>\n",
       "    <tr>\n",
       "      <th>21</th>\n",
       "      <td>2006</td>\n",
       "      <td>689112.0</td>\n",
       "    </tr>\n",
       "    <tr>\n",
       "      <th>22</th>\n",
       "      <td>2007</td>\n",
       "      <td>1778261.0</td>\n",
       "    </tr>\n",
       "    <tr>\n",
       "      <th>23</th>\n",
       "      <td>2008</td>\n",
       "      <td>656110.0</td>\n",
       "    </tr>\n",
       "    <tr>\n",
       "      <th>24</th>\n",
       "      <td>2009</td>\n",
       "      <td>1416956.0</td>\n",
       "    </tr>\n",
       "    <tr>\n",
       "      <th>25</th>\n",
       "      <td>2010</td>\n",
       "      <td>2372048.0</td>\n",
       "    </tr>\n",
       "    <tr>\n",
       "      <th>26</th>\n",
       "      <td>2011</td>\n",
       "      <td>1635764.0</td>\n",
       "    </tr>\n",
       "    <tr>\n",
       "      <th>27</th>\n",
       "      <td>2012</td>\n",
       "      <td>4420040.0</td>\n",
       "    </tr>\n",
       "    <tr>\n",
       "      <th>28</th>\n",
       "      <td>2013</td>\n",
       "      <td>2302426.0</td>\n",
       "    </tr>\n",
       "    <tr>\n",
       "      <th>29</th>\n",
       "      <td>2014</td>\n",
       "      <td>3293304.0</td>\n",
       "    </tr>\n",
       "    <tr>\n",
       "      <th>30</th>\n",
       "      <td>2015</td>\n",
       "      <td>7192873.0</td>\n",
       "    </tr>\n",
       "    <tr>\n",
       "      <th>31</th>\n",
       "      <td>2016</td>\n",
       "      <td>7015884.0</td>\n",
       "    </tr>\n",
       "    <tr>\n",
       "      <th>32</th>\n",
       "      <td>2017</td>\n",
       "      <td>2342629.0</td>\n",
       "    </tr>\n",
       "    <tr>\n",
       "      <th>33</th>\n",
       "      <td>2018</td>\n",
       "      <td>11447775.0</td>\n",
       "    </tr>\n",
       "    <tr>\n",
       "      <th>34</th>\n",
       "      <td>2019</td>\n",
       "      <td>17716106.0</td>\n",
       "    </tr>\n",
       "    <tr>\n",
       "      <th>35</th>\n",
       "      <td>2020</td>\n",
       "      <td>42395546.0</td>\n",
       "    </tr>\n",
       "    <tr>\n",
       "      <th>36</th>\n",
       "      <td>2021</td>\n",
       "      <td>34873360.0</td>\n",
       "    </tr>\n",
       "    <tr>\n",
       "      <th>37</th>\n",
       "      <td>2022</td>\n",
       "      <td>4937077.0</td>\n",
       "    </tr>\n",
       "    <tr>\n",
       "      <th>38</th>\n",
       "      <td>2023</td>\n",
       "      <td>87652.0</td>\n",
       "    </tr>\n",
       "  </tbody>\n",
       "</table>\n",
       "</div>"
      ],
      "text/plain": [
       "   building_construction_year  price_in_USD\n",
       "0                        1985       80168.0\n",
       "1                        1986      509769.0\n",
       "2                        1987      163039.0\n",
       "3                        1988      368469.0\n",
       "4                        1989      189126.0\n",
       "5                        1990      103802.0\n",
       "6                        1991      217386.0\n",
       "7                        1992      179343.0\n",
       "8                        1993     1377138.0\n",
       "9                        1994      155431.0\n",
       "10                       1995      489118.0\n",
       "11                       1996      282601.0\n",
       "12                       1997      776461.0\n",
       "13                       1998      482596.0\n",
       "14                       1999      568463.0\n",
       "15                       2000      527160.0\n",
       "16                       2001      249993.0\n",
       "17                       2002      158019.0\n",
       "18                       2003      364121.0\n",
       "19                       2004      475497.0\n",
       "20                       2005      294540.0\n",
       "21                       2006      689112.0\n",
       "22                       2007     1778261.0\n",
       "23                       2008      656110.0\n",
       "24                       2009     1416956.0\n",
       "25                       2010     2372048.0\n",
       "26                       2011     1635764.0\n",
       "27                       2012     4420040.0\n",
       "28                       2013     2302426.0\n",
       "29                       2014     3293304.0\n",
       "30                       2015     7192873.0\n",
       "31                       2016     7015884.0\n",
       "32                       2017     2342629.0\n",
       "33                       2018    11447775.0\n",
       "34                       2019    17716106.0\n",
       "35                       2020    42395546.0\n",
       "36                       2021    34873360.0\n",
       "37                       2022     4937077.0\n",
       "38                       2023       87652.0"
      ]
     },
     "execution_count": 160,
     "metadata": {},
     "output_type": "execute_result"
    }
   ],
   "source": [
    "turp"
   ]
  },
  {
   "cell_type": "code",
   "execution_count": 161,
   "id": "a2f92f63",
   "metadata": {},
   "outputs": [],
   "source": [
    "turp.rename(columns={'building_construction_year':'ds','price_in_USD':'y'},inplace=True)"
   ]
  },
  {
   "cell_type": "code",
   "execution_count": 162,
   "id": "85018892",
   "metadata": {},
   "outputs": [],
   "source": [
    "model = Prophet()"
   ]
  },
  {
   "cell_type": "code",
   "execution_count": 163,
   "id": "ec26ed11",
   "metadata": {},
   "outputs": [
    {
     "name": "stderr",
     "output_type": "stream",
     "text": [
      "10:55:55 - cmdstanpy - INFO - Chain [1] start processing\n",
      "10:55:55 - cmdstanpy - INFO - Chain [1] done processing\n"
     ]
    },
    {
     "data": {
      "text/plain": [
       "<prophet.forecaster.Prophet at 0x182a2a47970>"
      ]
     },
     "execution_count": 163,
     "metadata": {},
     "output_type": "execute_result"
    }
   ],
   "source": [
    "model.fit(turp)"
   ]
  },
  {
   "cell_type": "code",
   "execution_count": 164,
   "id": "7f64098c",
   "metadata": {},
   "outputs": [],
   "source": [
    "future = model.make_future_dataframe(periods=6,freq='A')"
   ]
  },
  {
   "cell_type": "code",
   "execution_count": 165,
   "id": "f0b2244b",
   "metadata": {},
   "outputs": [],
   "source": [
    "forecast = model.predict(future)"
   ]
  },
  {
   "cell_type": "code",
   "execution_count": 166,
   "id": "da259174",
   "metadata": {},
   "outputs": [
    {
     "data": {
      "image/png": "[encoded data removed]",
      "text/plain": [
       "<Figure size 1000x600 with 1 Axes>"
      ]
     },
     "metadata": {},
     "output_type": "display_data"
    }
   ],
   "source": [
    "fig = model.plot(forecast)"
   ]
  },
  {
   "cell_type": "code",
   "execution_count": 167,
   "id": "fbdd61ee",
   "metadata": {},
   "outputs": [
    {
     "data": {
      "text/html": [
       "<div>\n",
       "<style scoped>\n",
       "    .dataframe tbody tr th:only-of-type {\n",
       "        vertical-align: middle;\n",
       "    }\n",
       "\n",
       "    .dataframe tbody tr th {\n",
       "        vertical-align: top;\n",
       "    }\n",
       "\n",
       "    .dataframe thead th {\n",
       "        text-align: right;\n",
       "    }\n",
       "</style>\n",
       "<table border=\"1\" class=\"dataframe\">\n",
       "  <thead>\n",
       "    <tr style=\"text-align: right;\">\n",
       "      <th></th>\n",
       "      <th>ds</th>\n",
       "      <th>yhat</th>\n",
       "      <th>yhat_upper</th>\n",
       "      <th>yhat_lower</th>\n",
       "    </tr>\n",
       "  </thead>\n",
       "  <tbody>\n",
       "    <tr>\n",
       "      <th>40</th>\n",
       "      <td>2024-12-31</td>\n",
       "      <td>1.448232e+07</td>\n",
       "      <td>2.432064e+07</td>\n",
       "      <td>4.915844e+06</td>\n",
       "    </tr>\n",
       "    <tr>\n",
       "      <th>41</th>\n",
       "      <td>2025-12-31</td>\n",
       "      <td>1.626308e+07</td>\n",
       "      <td>2.569698e+07</td>\n",
       "      <td>6.494758e+06</td>\n",
       "    </tr>\n",
       "    <tr>\n",
       "      <th>42</th>\n",
       "      <td>2026-12-31</td>\n",
       "      <td>1.835941e+07</td>\n",
       "      <td>2.806182e+07</td>\n",
       "      <td>8.986746e+06</td>\n",
       "    </tr>\n",
       "    <tr>\n",
       "      <th>43</th>\n",
       "      <td>2027-12-31</td>\n",
       "      <td>2.076862e+07</td>\n",
       "      <td>3.015837e+07</td>\n",
       "      <td>1.153402e+07</td>\n",
       "    </tr>\n",
       "    <tr>\n",
       "      <th>44</th>\n",
       "      <td>2028-12-31</td>\n",
       "      <td>1.613446e+07</td>\n",
       "      <td>2.593004e+07</td>\n",
       "      <td>7.177767e+06</td>\n",
       "    </tr>\n",
       "  </tbody>\n",
       "</table>\n",
       "</div>"
      ],
      "text/plain": [
       "           ds          yhat    yhat_upper    yhat_lower\n",
       "40 2024-12-31  1.448232e+07  2.432064e+07  4.915844e+06\n",
       "41 2025-12-31  1.626308e+07  2.569698e+07  6.494758e+06\n",
       "42 2026-12-31  1.835941e+07  2.806182e+07  8.986746e+06\n",
       "43 2027-12-31  2.076862e+07  3.015837e+07  1.153402e+07\n",
       "44 2028-12-31  1.613446e+07  2.593004e+07  7.177767e+06"
      ]
     },
     "execution_count": 167,
     "metadata": {},
     "output_type": "execute_result"
    }
   ],
   "source": [
    "forecast[['ds','yhat','yhat_upper','yhat_lower']].tail(5)"
   ]
  },
  {
   "cell_type": "code",
   "execution_count": 168,
   "id": "618bba4c",
   "metadata": {},
   "outputs": [
    {
     "name": "stdout",
     "output_type": "stream",
     "text": [
      "\u001b[1mThe forecasted price of apartment for the next five years in Turkey is the yhat column from 1444482320 to 16134460\n"
     ]
    }
   ],
   "source": [
    "print(f'{bold}The forecasted price of apartment for the next five years in Turkey is the yhat column from '\n",
    "     '1444482320 to 16134460')"
   ]
  },
  {
   "cell_type": "code",
   "execution_count": 169,
   "id": "913e1dea",
   "metadata": {},
   "outputs": [
    {
     "name": "stdout",
     "output_type": "stream",
     "text": [
      "\u001b[1mPlot a geographical map showing the total price in USD of apartment for each country in the data set\n"
     ]
    }
   ],
   "source": [
    "print(f'{bold}Plot a geographical map showing the total price in USD of apartment for each country in the data set')"
   ]
  },
  {
   "cell_type": "code",
   "execution_count": 170,
   "id": "0a32a6fe",
   "metadata": {},
   "outputs": [
    {
     "data": {
      "text/html": [
       "<div>\n",
       "<style scoped>\n",
       "    .dataframe tbody tr th:only-of-type {\n",
       "        vertical-align: middle;\n",
       "    }\n",
       "\n",
       "    .dataframe tbody tr th {\n",
       "        vertical-align: top;\n",
       "    }\n",
       "\n",
       "    .dataframe thead th {\n",
       "        text-align: right;\n",
       "    }\n",
       "</style>\n",
       "<table border=\"1\" class=\"dataframe\">\n",
       "  <thead>\n",
       "    <tr style=\"text-align: right;\">\n",
       "      <th></th>\n",
       "      <th>country</th>\n",
       "      <th>price_in_USD</th>\n",
       "    </tr>\n",
       "  </thead>\n",
       "  <tbody>\n",
       "    <tr>\n",
       "      <th>0</th>\n",
       "      <td>Australia</td>\n",
       "      <td>559000.0</td>\n",
       "    </tr>\n",
       "    <tr>\n",
       "      <th>1</th>\n",
       "      <td>Belarus</td>\n",
       "      <td>12127461.0</td>\n",
       "    </tr>\n",
       "    <tr>\n",
       "      <th>2</th>\n",
       "      <td>Croatia</td>\n",
       "      <td>1023259.0</td>\n",
       "    </tr>\n",
       "    <tr>\n",
       "      <th>3</th>\n",
       "      <td>Cyprus</td>\n",
       "      <td>3190860.0</td>\n",
       "    </tr>\n",
       "    <tr>\n",
       "      <th>4</th>\n",
       "      <td>Czech Republic</td>\n",
       "      <td>979034.0</td>\n",
       "    </tr>\n",
       "    <tr>\n",
       "      <th>5</th>\n",
       "      <td>Finland</td>\n",
       "      <td>344096.0</td>\n",
       "    </tr>\n",
       "    <tr>\n",
       "      <th>6</th>\n",
       "      <td>Georgia</td>\n",
       "      <td>40668366.0</td>\n",
       "    </tr>\n",
       "    <tr>\n",
       "      <th>7</th>\n",
       "      <td>Greece</td>\n",
       "      <td>3266425.0</td>\n",
       "    </tr>\n",
       "    <tr>\n",
       "      <th>8</th>\n",
       "      <td>Hungary</td>\n",
       "      <td>744471.0</td>\n",
       "    </tr>\n",
       "    <tr>\n",
       "      <th>9</th>\n",
       "      <td>Indonesia</td>\n",
       "      <td>5863514.0</td>\n",
       "    </tr>\n",
       "    <tr>\n",
       "      <th>10</th>\n",
       "      <td>Italy</td>\n",
       "      <td>3263065.0</td>\n",
       "    </tr>\n",
       "    <tr>\n",
       "      <th>11</th>\n",
       "      <td>Latvia</td>\n",
       "      <td>1607123.0</td>\n",
       "    </tr>\n",
       "    <tr>\n",
       "      <th>12</th>\n",
       "      <td>Lithuania</td>\n",
       "      <td>328284.0</td>\n",
       "    </tr>\n",
       "    <tr>\n",
       "      <th>13</th>\n",
       "      <td>Montenegro</td>\n",
       "      <td>9735487.0</td>\n",
       "    </tr>\n",
       "    <tr>\n",
       "      <th>14</th>\n",
       "      <td>Northern Cyprus</td>\n",
       "      <td>54864112.0</td>\n",
       "    </tr>\n",
       "    <tr>\n",
       "      <th>15</th>\n",
       "      <td>Poland</td>\n",
       "      <td>7265940.0</td>\n",
       "    </tr>\n",
       "    <tr>\n",
       "      <th>16</th>\n",
       "      <td>Portugal</td>\n",
       "      <td>39017551.0</td>\n",
       "    </tr>\n",
       "    <tr>\n",
       "      <th>17</th>\n",
       "      <td>Russia</td>\n",
       "      <td>15636016.0</td>\n",
       "    </tr>\n",
       "    <tr>\n",
       "      <th>18</th>\n",
       "      <td>Spain</td>\n",
       "      <td>71973033.0</td>\n",
       "    </tr>\n",
       "    <tr>\n",
       "      <th>19</th>\n",
       "      <td>Thailand</td>\n",
       "      <td>3619344.0</td>\n",
       "    </tr>\n",
       "    <tr>\n",
       "      <th>20</th>\n",
       "      <td>Turkey</td>\n",
       "      <td>154585163.0</td>\n",
       "    </tr>\n",
       "    <tr>\n",
       "      <th>21</th>\n",
       "      <td>UAE</td>\n",
       "      <td>17693769.0</td>\n",
       "    </tr>\n",
       "    <tr>\n",
       "      <th>22</th>\n",
       "      <td>Uzbekistan</td>\n",
       "      <td>910421.0</td>\n",
       "    </tr>\n",
       "  </tbody>\n",
       "</table>\n",
       "</div>"
      ],
      "text/plain": [
       "            country  price_in_USD\n",
       "0         Australia      559000.0\n",
       "1           Belarus    12127461.0\n",
       "2           Croatia     1023259.0\n",
       "3            Cyprus     3190860.0\n",
       "4    Czech Republic      979034.0\n",
       "5           Finland      344096.0\n",
       "6           Georgia    40668366.0\n",
       "7            Greece     3266425.0\n",
       "8           Hungary      744471.0\n",
       "9         Indonesia     5863514.0\n",
       "10            Italy     3263065.0\n",
       "11           Latvia     1607123.0\n",
       "12        Lithuania      328284.0\n",
       "13       Montenegro     9735487.0\n",
       "14  Northern Cyprus    54864112.0\n",
       "15           Poland     7265940.0\n",
       "16         Portugal    39017551.0\n",
       "17           Russia    15636016.0\n",
       "18            Spain    71973033.0\n",
       "19         Thailand     3619344.0\n",
       "20           Turkey   154585163.0\n",
       "21              UAE    17693769.0\n",
       "22       Uzbekistan      910421.0"
      ]
     },
     "execution_count": 170,
     "metadata": {},
     "output_type": "execute_result"
    }
   ],
   "source": [
    "country_totals"
   ]
  },
  {
   "cell_type": "code",
   "execution_count": 186,
   "id": "30e01a2d",
   "metadata": {},
   "outputs": [],
   "source": [
    "datap = dict(type='choropleth',\n",
    "            z = country_totals['price_in_USD'],\n",
    "            locations = country_totals['country'],\n",
    "            text = country_totals['country'],\n",
    "            colorbar = {'title':'Total Price Of Apartments In USD'})"
   ]
  },
  {
   "cell_type": "code",
   "execution_count": 187,
   "id": "852e1e65",
   "metadata": {},
   "outputs": [],
   "source": [
    "layout = dict(title = 'Total Price Of Apartments In USD',\n",
    "             geo = dict(showframe = False, projection = {'type':'satellite'}))"
   ]
  },
  {
   "cell_type": "code",
   "execution_count": 188,
   "id": "b11ee5dd",
   "metadata": {},
   "outputs": [],
   "source": [
    "choromap = go.Figure(data=[datap],layout=layout)"
   ]
  },
  {
   "cell_type": "code",
   "execution_count": 189,
   "id": "cb66a16c",
   "metadata": {},
   "outputs": [
    {
     "data": {
      "application/vnd.plotly.v1+json": {
       "config": {
        "linkText": "Export to plot.ly",
        "plotlyServerURL": "https://plot.ly",
        "showLink": false
       },
       "data": [
        {
         "colorbar": {
          "title": {
           "text": "Total Price Of Apartments In USD"
          }
         },
         "locations": [
          "Australia",
          "Belarus",
          "Croatia",
          "Cyprus",
          "Czech Republic",
          "Finland",
          "Georgia",
          "Greece",
          "Hungary",
          "Indonesia",
          "Italy",
          "Latvia",
          "Lithuania",
          "Montenegro",
          "Northern Cyprus",
          "Poland",
          "Portugal",
          "Russia",
          "Spain",
          "Thailand",
          "Turkey",
          "UAE",
          "Uzbekistan"
         ],
         "text": [
          "Australia",
          "Belarus",
          "Croatia",
          "Cyprus",
          "Czech Republic",
          "Finland",
          "Georgia",
          "Greece",
          "Hungary",
          "Indonesia",
          "Italy",
          "Latvia",
          "Lithuania",
          "Montenegro",
          "Northern Cyprus",
          "Poland",
          "Portugal",
          "Russia",
          "Spain",
          "Thailand",
          "Turkey",
          "UAE",
          "Uzbekistan"
         ],
         "type": "choropleth",
         "z": [
          559000,
          12127461,
          1023259,
          3190860,
          979034,
          344096,
          40668366,
          3266425,
          744471,
          5863514,
          3263065,
          1607123,
          328284,
          9735487,
          54864112,
          7265940,
          39017551,
          15636016,
          71973033,
          3619344,
          154585163,
          17693769,
          910421
         ]
        }
       ],
       "layout": {
        "geo": {
         "projection": {
          "type": "satellite"
         },
         "showframe": false
        },
        "template": {
         "data": {
          "bar": [
           {
            "error_x": {
             "color": "#2a3f5f"
            },
            "error_y": {
             "color": "#2a3f5f"
            },
            "marker": {
             "line": {
              "color": "#E5ECF6",
              "width": 0.5
             },
             "pattern": {
              "fillmode": "overlay",
              "size": 10,
              "solidity": 0.2
             }
            },
            "type": "bar"
           }
          ],
          "barpolar": [
           {
            "marker": {
             "line": {
              "color": "#E5ECF6",
              "width": 0.5
             },
             "pattern": {
              "fillmode": "overlay",
              "size": 10,
              "solidity": 0.2
             }
            },
            "type": "barpolar"
           }
          ],
          "carpet": [
           {
            "aaxis": {
             "endlinecolor": "#2a3f5f",
             "gridcolor": "white",
             "linecolor": "white",
             "minorgridcolor": "white",
             "startlinecolor": "#2a3f5f"
            },
            "baxis": {
             "endlinecolor": "#2a3f5f",
             "gridcolor": "white",
             "linecolor": "white",
             "minorgridcolor": "white",
             "startlinecolor": "#2a3f5f"
            },
            "type": "carpet"
           }
          ],
          "choropleth": [
           {
            "colorbar": {
             "outlinewidth": 0,
             "ticks": ""
            },
            "type": "choropleth"
           }
          ],
          "contour": [
           {
            "colorbar": {
             "outlinewidth": 0,
             "ticks": ""
            },
            "colorscale": [
             [
              0,
              "#0d0887"
             ],
             [
              0.1111111111111111,
              "#46039f"
             ],
             [
              0.2222222222222222,
              "#7201a8"
             ],
             [
              0.3333333333333333,
              "#9c179e"
             ],
             [
              0.4444444444444444,
              "#bd3786"
             ],
             [
              0.5555555555555556,
              "#d8576b"
             ],
             [
              0.6666666666666666,
              "#ed7953"
             ],
             [
              0.7777777777777778,
              "#fb9f3a"
             ],
             [
              0.8888888888888888,
              "#fdca26"
             ],
             [
              1,
              "#f0f921"
             ]
            ],
            "type": "contour"
           }
          ],
          "contourcarpet": [
           {
            "colorbar": {
             "outlinewidth": 0,
             "ticks": ""
            },
            "type": "contourcarpet"
           }
          ],
          "heatmap": [
           {
            "colorbar": {
             "outlinewidth": 0,
             "ticks": ""
            },
            "colorscale": [
             [
              0,
              "#0d0887"
             ],
             [
              0.1111111111111111,
              "#46039f"
             ],
             [
              0.2222222222222222,
              "#7201a8"
             ],
             [
              0.3333333333333333,
              "#9c179e"
             ],
             [
              0.4444444444444444,
              "#bd3786"
             ],
             [
              0.5555555555555556,
              "#d8576b"
             ],
             [
              0.6666666666666666,
              "#ed7953"
             ],
             [
              0.7777777777777778,
              "#fb9f3a"
             ],
             [
              0.8888888888888888,
              "#fdca26"
             ],
             [
              1,
              "#f0f921"
             ]
            ],
            "type": "heatmap"
           }
          ],
          "heatmapgl": [
           {
            "colorbar": {
             "outlinewidth": 0,
             "ticks": ""
            },
            "colorscale": [
             [
              0,
              "#0d0887"
             ],
             [
              0.1111111111111111,
              "#46039f"
             ],
             [
              0.2222222222222222,
              "#7201a8"
             ],
             [
              0.3333333333333333,
              "#9c179e"
             ],
             [
              0.4444444444444444,
              "#bd3786"
             ],
             [
              0.5555555555555556,
              "#d8576b"
             ],
             [
              0.6666666666666666,
              "#ed7953"
             ],
             [
              0.7777777777777778,
              "#fb9f3a"
             ],
             [
              0.8888888888888888,
              "#fdca26"
             ],
             [
              1,
              "#f0f921"
             ]
            ],
            "type": "heatmapgl"
           }
          ],
          "histogram": [
           {
            "marker": {
             "pattern": {
              "fillmode": "overlay",
              "size": 10,
              "solidity": 0.2
             }
            },
            "type": "histogram"
           }
          ],
          "histogram2d": [
           {
            "colorbar": {
             "outlinewidth": 0,
             "ticks": ""
            },
            "colorscale": [
             [
              0,
              "#0d0887"
             ],
             [
              0.1111111111111111,
              "#46039f"
             ],
             [
              0.2222222222222222,
              "#7201a8"
             ],
             [
              0.3333333333333333,
              "#9c179e"
             ],
             [
              0.4444444444444444,
              "#bd3786"
             ],
             [
              0.5555555555555556,
              "#d8576b"
             ],
             [
              0.6666666666666666,
              "#ed7953"
             ],
             [
              0.7777777777777778,
              "#fb9f3a"
             ],
             [
              0.8888888888888888,
              "#fdca26"
             ],
             [
              1,
              "#f0f921"
             ]
            ],
            "type": "histogram2d"
           }
          ],
          "histogram2dcontour": [
           {
            "colorbar": {
             "outlinewidth": 0,
             "ticks": ""
            },
            "colorscale": [
             [
              0,
              "#0d0887"
             ],
             [
              0.1111111111111111,
              "#46039f"
             ],
             [
              0.2222222222222222,
              "#7201a8"
             ],
             [
              0.3333333333333333,
              "#9c179e"
             ],
             [
              0.4444444444444444,
              "#bd3786"
             ],
             [
              0.5555555555555556,
              "#d8576b"
             ],
             [
              0.6666666666666666,
              "#ed7953"
             ],
             [
              0.7777777777777778,
              "#fb9f3a"
             ],
             [
              0.8888888888888888,
              "#fdca26"
             ],
             [
              1,
              "#f0f921"
             ]
            ],
            "type": "histogram2dcontour"
           }
          ],
          "mesh3d": [
           {
            "colorbar": {
             "outlinewidth": 0,
             "ticks": ""
            },
            "type": "mesh3d"
           }
          ],
          "parcoords": [
           {
            "line": {
             "colorbar": {
              "outlinewidth": 0,
              "ticks": ""
             }
            },
            "type": "parcoords"
           }
          ],
          "pie": [
           {
            "automargin": true,
            "type": "pie"
           }
          ],
          "scatter": [
           {
            "fillpattern": {
             "fillmode": "overlay",
             "size": 10,
             "solidity": 0.2
            },
            "type": "scatter"
           }
          ],
          "scatter3d": [
           {
            "line": {
             "colorbar": {
              "outlinewidth": 0,
              "ticks": ""
             }
            },
            "marker": {
             "colorbar": {
              "outlinewidth": 0,
              "ticks": ""
             }
            },
            "type": "scatter3d"
           }
          ],
          "scattercarpet": [
           {
            "marker": {
             "colorbar": {
              "outlinewidth": 0,
              "ticks": ""
             }
            },
            "type": "scattercarpet"
           }
          ],
          "scattergeo": [
           {
            "marker": {
             "colorbar": {
              "outlinewidth": 0,
              "ticks": ""
             }
            },
            "type": "scattergeo"
           }
          ],
          "scattergl": [
           {
            "marker": {
             "colorbar": {
              "outlinewidth": 0,
              "ticks": ""
             }
            },
            "type": "scattergl"
           }
          ],
          "scattermapbox": [
           {
            "marker": {
             "colorbar": {
              "outlinewidth": 0,
              "ticks": ""
             }
            },
            "type": "scattermapbox"
           }
          ],
          "scatterpolar": [
           {
            "marker": {
             "colorbar": {
              "outlinewidth": 0,
              "ticks": ""
             }
            },
            "type": "scatterpolar"
           }
          ],
          "scatterpolargl": [
           {
            "marker": {
             "colorbar": {
              "outlinewidth": 0,
              "ticks": ""
             }
            },
            "type": "scatterpolargl"
           }
          ],
          "scatterternary": [
           {
            "marker": {
             "colorbar": {
              "outlinewidth": 0,
              "ticks": ""
             }
            },
            "type": "scatterternary"
           }
          ],
          "surface": [
           {
            "colorbar": {
             "outlinewidth": 0,
             "ticks": ""
            },
            "colorscale": [
             [
              0,
              "#0d0887"
             ],
             [
              0.1111111111111111,
              "#46039f"
             ],
             [
              0.2222222222222222,
              "#7201a8"
             ],
             [
              0.3333333333333333,
              "#9c179e"
             ],
             [
              0.4444444444444444,
              "#bd3786"
             ],
             [
              0.5555555555555556,
              "#d8576b"
             ],
             [
              0.6666666666666666,
              "#ed7953"
             ],
             [
              0.7777777777777778,
              "#fb9f3a"
             ],
             [
              0.8888888888888888,
              "#fdca26"
             ],
             [
              1,
              "#f0f921"
             ]
            ],
            "type": "surface"
           }
          ],
          "table": [
           {
            "cells": {
             "fill": {
              "color": "#EBF0F8"
             },
             "line": {
              "color": "white"
             }
            },
            "header": {
             "fill": {
              "color": "#C8D4E3"
             },
             "line": {
              "color": "white"
             }
            },
            "type": "table"
           }
          ]
         },
         "layout": {
          "annotationdefaults": {
           "arrowcolor": "#2a3f5f",
           "arrowhead": 0,
           "arrowwidth": 1
          },
          "autotypenumbers": "strict",
          "coloraxis": {
           "colorbar": {
            "outlinewidth": 0,
            "ticks": ""
           }
          },
          "colorscale": {
           "diverging": [
            [
             0,
             "#8e0152"
            ],
            [
             0.1,
             "#c51b7d"
            ],
            [
             0.2,
             "#de77ae"
            ],
            [
             0.3,
             "#f1b6da"
            ],
            [
             0.4,
             "#fde0ef"
            ],
            [
             0.5,
             "#f7f7f7"
            ],
            [
             0.6,
             "#e6f5d0"
            ],
            [
             0.7,
             "#b8e186"
            ],
            [
             0.8,
             "#7fbc41"
            ],
            [
             0.9,
             "#4d9221"
            ],
            [
             1,
             "#276419"
            ]
           ],
           "sequential": [
            [
             0,
             "#0d0887"
            ],
            [
             0.1111111111111111,
             "#46039f"
            ],
            [
             0.2222222222222222,
             "#7201a8"
            ],
            [
             0.3333333333333333,
             "#9c179e"
            ],
            [
             0.4444444444444444,
             "#bd3786"
            ],
            [
             0.5555555555555556,
             "#d8576b"
            ],
            [
             0.6666666666666666,
             "#ed7953"
            ],
            [
             0.7777777777777778,
             "#fb9f3a"
            ],
            [
             0.8888888888888888,
             "#fdca26"
            ],
            [
             1,
             "#f0f921"
            ]
           ],
           "sequentialminus": [
            [
             0,
             "#0d0887"
            ],
            [
             0.1111111111111111,
             "#46039f"
            ],
            [
             0.2222222222222222,
             "#7201a8"
            ],
            [
             0.3333333333333333,
             "#9c179e"
            ],
            [
             0.4444444444444444,
             "#bd3786"
            ],
            [
             0.5555555555555556,
             "#d8576b"
            ],
            [
             0.6666666666666666,
             "#ed7953"
            ],
            [
             0.7777777777777778,
             "#fb9f3a"
            ],
            [
             0.8888888888888888,
             "#fdca26"
            ],
            [
             1,
             "#f0f921"
            ]
           ]
          },
          "colorway": [
           "#636efa",
           "#EF553B",
           "#00cc96",
           "#ab63fa",
           "#FFA15A",
           "#19d3f3",
           "#FF6692",
           "#B6E880",
           "#FF97FF",
           "#FECB52"
          ],
          "font": {
           "color": "#2a3f5f"
          },
          "geo": {
           "bgcolor": "white",
           "lakecolor": "white",
           "landcolor": "#E5ECF6",
           "showlakes": true,
           "showland": true,
           "subunitcolor": "white"
          },
          "hoverlabel": {
           "align": "left"
          },
          "hovermode": "closest",
          "mapbox": {
           "style": "light"
          },
          "paper_bgcolor": "white",
          "plot_bgcolor": "#E5ECF6",
          "polar": {
           "angularaxis": {
            "gridcolor": "white",
            "linecolor": "white",
            "ticks": ""
           },
           "bgcolor": "#E5ECF6",
           "radialaxis": {
            "gridcolor": "white",
            "linecolor": "white",
            "ticks": ""
           }
          },
          "scene": {
           "xaxis": {
            "backgroundcolor": "#E5ECF6",
            "gridcolor": "white",
            "gridwidth": 2,
            "linecolor": "white",
            "showbackground": true,
            "ticks": "",
            "zerolinecolor": "white"
           },
           "yaxis": {
            "backgroundcolor": "#E5ECF6",
            "gridcolor": "white",
            "gridwidth": 2,
            "linecolor": "white",
            "showbackground": true,
            "ticks": "",
            "zerolinecolor": "white"
           },
           "zaxis": {
            "backgroundcolor": "#E5ECF6",
            "gridcolor": "white",
            "gridwidth": 2,
            "linecolor": "white",
            "showbackground": true,
            "ticks": "",
            "zerolinecolor": "white"
           }
          },
          "shapedefaults": {
           "line": {
            "color": "#2a3f5f"
           }
          },
          "ternary": {
           "aaxis": {
            "gridcolor": "white",
            "linecolor": "white",
            "ticks": ""
           },
           "baxis": {
            "gridcolor": "white",
            "linecolor": "white",
            "ticks": ""
           },
           "bgcolor": "#E5ECF6",
           "caxis": {
            "gridcolor": "white",
            "linecolor": "white",
            "ticks": ""
           }
          },
          "title": {
           "x": 0.05
          },
          "xaxis": {
           "automargin": true,
           "gridcolor": "white",
           "linecolor": "white",
           "ticks": "",
           "title": {
            "standoff": 15
           },
           "zerolinecolor": "white",
           "zerolinewidth": 2
          },
          "yaxis": {
           "automargin": true,
           "gridcolor": "white",
           "linecolor": "white",
           "ticks": "",
           "title": {
            "standoff": 15
           },
           "zerolinecolor": "white",
           "zerolinewidth": 2
          }
         }
        },
        "title": {
         "text": "Total Price Of Apartments In USD"
        }
       }
      },
      "text/html": [
       "<div>                            <div id=\"8eeff9a3-43e6-4735-89cd-33d5e259b1c6\" class=\"plotly-graph-div\" style=\"height:525px; width:100%;\"></div>            <script type=\"text/javascript\">                require([\"plotly\"], function(Plotly) {                    window.PLOTLYENV=window.PLOTLYENV || {};                                    if (document.getElementById(\"8eeff9a3-43e6-4735-89cd-33d5e259b1c6\")) {                    Plotly.newPlot(                        \"8eeff9a3-43e6-4735-89cd-33d5e259b1c6\",                        [{\"colorbar\":{\"title\":{\"text\":\"Total Price Of Apartments In USD\"}},\"locations\":[\"Australia\",\"Belarus\",\"Croatia\",\"Cyprus\",\"Czech Republic\",\"Finland\",\"Georgia\",\"Greece\",\"Hungary\",\"Indonesia\",\"Italy\",\"Latvia\",\"Lithuania\",\"Montenegro\",\"Northern Cyprus\",\"Poland\",\"Portugal\",\"Russia\",\"Spain\",\"Thailand\",\"Turkey\",\"UAE\",\"Uzbekistan\"],\"text\":[\"Australia\",\"Belarus\",\"Croatia\",\"Cyprus\",\"Czech Republic\",\"Finland\",\"Georgia\",\"Greece\",\"Hungary\",\"Indonesia\",\"Italy\",\"Latvia\",\"Lithuania\",\"Montenegro\",\"Northern Cyprus\",\"Poland\",\"Portugal\",\"Russia\",\"Spain\",\"Thailand\",\"Turkey\",\"UAE\",\"Uzbekistan\"],\"z\":[559000.0,12127461.0,1023259.0,3190860.0,979034.0,344096.0,40668366.0,3266425.0,744471.0,5863514.0,3263065.0,1607123.0,328284.0,9735487.0,54864112.0,7265940.0,39017551.0,15636016.0,71973033.0,3619344.0,154585163.0,17693769.0,910421.0],\"type\":\"choropleth\"}],                        {\"geo\":{\"projection\":{\"type\":\"satellite\"},\"showframe\":false},\"template\":{\"data\":{\"barpolar\":[{\"marker\":{\"line\":{\"color\":\"#E5ECF6\",\"width\":0.5},\"pattern\":{\"fillmode\":\"overlay\",\"size\":10,\"solidity\":0.2}},\"type\":\"barpolar\"}],\"bar\":[{\"error_x\":{\"color\":\"#2a3f5f\"},\"error_y\":{\"color\":\"#2a3f5f\"},\"marker\":{\"line\":{\"color\":\"#E5ECF6\",\"width\":0.5},\"pattern\":{\"fillmode\":\"overlay\",\"size\":10,\"solidity\":0.2}},\"type\":\"bar\"}],\"carpet\":[{\"aaxis\":{\"endlinecolor\":\"#2a3f5f\",\"gridcolor\":\"white\",\"linecolor\":\"white\",\"minorgridcolor\":\"white\",\"startlinecolor\":\"#2a3f5f\"},\"baxis\":{\"endlinecolor\":\"#2a3f5f\",\"gridcolor\":\"white\",\"linecolor\":\"white\",\"minorgridcolor\":\"white\",\"startlinecolor\":\"#2a3f5f\"},\"type\":\"carpet\"}],\"choropleth\":[{\"colorbar\":{\"outlinewidth\":0,\"ticks\":\"\"},\"type\":\"choropleth\"}],\"contourcarpet\":[{\"colorbar\":{\"outlinewidth\":0,\"ticks\":\"\"},\"type\":\"contourcarpet\"}],\"contour\":[{\"colorbar\":{\"outlinewidth\":0,\"ticks\":\"\"},\"colorscale\":[[0.0,\"#0d0887\"],[0.1111111111111111,\"#46039f\"],[0.2222222222222222,\"#7201a8\"],[0.3333333333333333,\"#9c179e\"],[0.4444444444444444,\"#bd3786\"],[0.5555555555555556,\"#d8576b\"],[0.6666666666666666,\"#ed7953\"],[0.7777777777777778,\"#fb9f3a\"],[0.8888888888888888,\"#fdca26\"],[1.0,\"#f0f921\"]],\"type\":\"contour\"}],\"heatmapgl\":[{\"colorbar\":{\"outlinewidth\":0,\"ticks\":\"\"},\"colorscale\":[[0.0,\"#0d0887\"],[0.1111111111111111,\"#46039f\"],[0.2222222222222222,\"#7201a8\"],[0.3333333333333333,\"#9c179e\"],[0.4444444444444444,\"#bd3786\"],[0.5555555555555556,\"#d8576b\"],[0.6666666666666666,\"#ed7953\"],[0.7777777777777778,\"#fb9f3a\"],[0.8888888888888888,\"#fdca26\"],[1.0,\"#f0f921\"]],\"type\":\"heatmapgl\"}],\"heatmap\":[{\"colorbar\":{\"outlinewidth\":0,\"ticks\":\"\"},\"colorscale\":[[0.0,\"#0d0887\"],[0.1111111111111111,\"#46039f\"],[0.2222222222222222,\"#7201a8\"],[0.3333333333333333,\"#9c179e\"],[0.4444444444444444,\"#bd3786\"],[0.5555555555555556,\"#d8576b\"],[0.6666666666666666,\"#ed7953\"],[0.7777777777777778,\"#fb9f3a\"],[0.8888888888888888,\"#fdca26\"],[1.0,\"#f0f921\"]],\"type\":\"heatmap\"}],\"histogram2dcontour\":[{\"colorbar\":{\"outlinewidth\":0,\"ticks\":\"\"},\"colorscale\":[[0.0,\"#0d0887\"],[0.1111111111111111,\"#46039f\"],[0.2222222222222222,\"#7201a8\"],[0.3333333333333333,\"#9c179e\"],[0.4444444444444444,\"#bd3786\"],[0.5555555555555556,\"#d8576b\"],[0.6666666666666666,\"#ed7953\"],[0.7777777777777778,\"#fb9f3a\"],[0.8888888888888888,\"#fdca26\"],[1.0,\"#f0f921\"]],\"type\":\"histogram2dcontour\"}],\"histogram2d\":[{\"colorbar\":{\"outlinewidth\":0,\"ticks\":\"\"},\"colorscale\":[[0.0,\"#0d0887\"],[0.1111111111111111,\"#46039f\"],[0.2222222222222222,\"#7201a8\"],[0.3333333333333333,\"#9c179e\"],[0.4444444444444444,\"#bd3786\"],[0.5555555555555556,\"#d8576b\"],[0.6666666666666666,\"#ed7953\"],[0.7777777777777778,\"#fb9f3a\"],[0.8888888888888888,\"#fdca26\"],[1.0,\"#f0f921\"]],\"type\":\"histogram2d\"}],\"histogram\":[{\"marker\":{\"pattern\":{\"fillmode\":\"overlay\",\"size\":10,\"solidity\":0.2}},\"type\":\"histogram\"}],\"mesh3d\":[{\"colorbar\":{\"outlinewidth\":0,\"ticks\":\"\"},\"type\":\"mesh3d\"}],\"parcoords\":[{\"line\":{\"colorbar\":{\"outlinewidth\":0,\"ticks\":\"\"}},\"type\":\"parcoords\"}],\"pie\":[{\"automargin\":true,\"type\":\"pie\"}],\"scatter3d\":[{\"line\":{\"colorbar\":{\"outlinewidth\":0,\"ticks\":\"\"}},\"marker\":{\"colorbar\":{\"outlinewidth\":0,\"ticks\":\"\"}},\"type\":\"scatter3d\"}],\"scattercarpet\":[{\"marker\":{\"colorbar\":{\"outlinewidth\":0,\"ticks\":\"\"}},\"type\":\"scattercarpet\"}],\"scattergeo\":[{\"marker\":{\"colorbar\":{\"outlinewidth\":0,\"ticks\":\"\"}},\"type\":\"scattergeo\"}],\"scattergl\":[{\"marker\":{\"colorbar\":{\"outlinewidth\":0,\"ticks\":\"\"}},\"type\":\"scattergl\"}],\"scattermapbox\":[{\"marker\":{\"colorbar\":{\"outlinewidth\":0,\"ticks\":\"\"}},\"type\":\"scattermapbox\"}],\"scatterpolargl\":[{\"marker\":{\"colorbar\":{\"outlinewidth\":0,\"ticks\":\"\"}},\"type\":\"scatterpolargl\"}],\"scatterpolar\":[{\"marker\":{\"colorbar\":{\"outlinewidth\":0,\"ticks\":\"\"}},\"type\":\"scatterpolar\"}],\"scatter\":[{\"fillpattern\":{\"fillmode\":\"overlay\",\"size\":10,\"solidity\":0.2},\"type\":\"scatter\"}],\"scatterternary\":[{\"marker\":{\"colorbar\":{\"outlinewidth\":0,\"ticks\":\"\"}},\"type\":\"scatterternary\"}],\"surface\":[{\"colorbar\":{\"outlinewidth\":0,\"ticks\":\"\"},\"colorscale\":[[0.0,\"#0d0887\"],[0.1111111111111111,\"#46039f\"],[0.2222222222222222,\"#7201a8\"],[0.3333333333333333,\"#9c179e\"],[0.4444444444444444,\"#bd3786\"],[0.5555555555555556,\"#d8576b\"],[0.6666666666666666,\"#ed7953\"],[0.7777777777777778,\"#fb9f3a\"],[0.8888888888888888,\"#fdca26\"],[1.0,\"#f0f921\"]],\"type\":\"surface\"}],\"table\":[{\"cells\":{\"fill\":{\"color\":\"#EBF0F8\"},\"line\":{\"color\":\"white\"}},\"header\":{\"fill\":{\"color\":\"#C8D4E3\"},\"line\":{\"color\":\"white\"}},\"type\":\"table\"}]},\"layout\":{\"annotationdefaults\":{\"arrowcolor\":\"#2a3f5f\",\"arrowhead\":0,\"arrowwidth\":1},\"autotypenumbers\":\"strict\",\"coloraxis\":{\"colorbar\":{\"outlinewidth\":0,\"ticks\":\"\"}},\"colorscale\":{\"diverging\":[[0,\"#8e0152\"],[0.1,\"#c51b7d\"],[0.2,\"#de77ae\"],[0.3,\"#f1b6da\"],[0.4,\"#fde0ef\"],[0.5,\"#f7f7f7\"],[0.6,\"#e6f5d0\"],[0.7,\"#b8e186\"],[0.8,\"#7fbc41\"],[0.9,\"#4d9221\"],[1,\"#276419\"]],\"sequential\":[[0.0,\"#0d0887\"],[0.1111111111111111,\"#46039f\"],[0.2222222222222222,\"#7201a8\"],[0.3333333333333333,\"#9c179e\"],[0.4444444444444444,\"#bd3786\"],[0.5555555555555556,\"#d8576b\"],[0.6666666666666666,\"#ed7953\"],[0.7777777777777778,\"#fb9f3a\"],[0.8888888888888888,\"#fdca26\"],[1.0,\"#f0f921\"]],\"sequentialminus\":[[0.0,\"#0d0887\"],[0.1111111111111111,\"#46039f\"],[0.2222222222222222,\"#7201a8\"],[0.3333333333333333,\"#9c179e\"],[0.4444444444444444,\"#bd3786\"],[0.5555555555555556,\"#d8576b\"],[0.6666666666666666,\"#ed7953\"],[0.7777777777777778,\"#fb9f3a\"],[0.8888888888888888,\"#fdca26\"],[1.0,\"#f0f921\"]]},\"colorway\":[\"#636efa\",\"#EF553B\",\"#00cc96\",\"#ab63fa\",\"#FFA15A\",\"#19d3f3\",\"#FF6692\",\"#B6E880\",\"#FF97FF\",\"#FECB52\"],\"font\":{\"color\":\"#2a3f5f\"},\"geo\":{\"bgcolor\":\"white\",\"lakecolor\":\"white\",\"landcolor\":\"#E5ECF6\",\"showlakes\":true,\"showland\":true,\"subunitcolor\":\"white\"},\"hoverlabel\":{\"align\":\"left\"},\"hovermode\":\"closest\",\"mapbox\":{\"style\":\"light\"},\"paper_bgcolor\":\"white\",\"plot_bgcolor\":\"#E5ECF6\",\"polar\":{\"angularaxis\":{\"gridcolor\":\"white\",\"linecolor\":\"white\",\"ticks\":\"\"},\"bgcolor\":\"#E5ECF6\",\"radialaxis\":{\"gridcolor\":\"white\",\"linecolor\":\"white\",\"ticks\":\"\"}},\"scene\":{\"xaxis\":{\"backgroundcolor\":\"#E5ECF6\",\"gridcolor\":\"white\",\"gridwidth\":2,\"linecolor\":\"white\",\"showbackground\":true,\"ticks\":\"\",\"zerolinecolor\":\"white\"},\"yaxis\":{\"backgroundcolor\":\"#E5ECF6\",\"gridcolor\":\"white\",\"gridwidth\":2,\"linecolor\":\"white\",\"showbackground\":true,\"ticks\":\"\",\"zerolinecolor\":\"white\"},\"zaxis\":{\"backgroundcolor\":\"#E5ECF6\",\"gridcolor\":\"white\",\"gridwidth\":2,\"linecolor\":\"white\",\"showbackground\":true,\"ticks\":\"\",\"zerolinecolor\":\"white\"}},\"shapedefaults\":{\"line\":{\"color\":\"#2a3f5f\"}},\"ternary\":{\"aaxis\":{\"gridcolor\":\"white\",\"linecolor\":\"white\",\"ticks\":\"\"},\"baxis\":{\"gridcolor\":\"white\",\"linecolor\":\"white\",\"ticks\":\"\"},\"bgcolor\":\"#E5ECF6\",\"caxis\":{\"gridcolor\":\"white\",\"linecolor\":\"white\",\"ticks\":\"\"}},\"title\":{\"x\":0.05},\"xaxis\":{\"automargin\":true,\"gridcolor\":\"white\",\"linecolor\":\"white\",\"ticks\":\"\",\"title\":{\"standoff\":15},\"zerolinecolor\":\"white\",\"zerolinewidth\":2},\"yaxis\":{\"automargin\":true,\"gridcolor\":\"white\",\"linecolor\":\"white\",\"ticks\":\"\",\"title\":{\"standoff\":15},\"zerolinecolor\":\"white\",\"zerolinewidth\":2}}},\"title\":{\"text\":\"Total Price Of Apartments In USD\"}},                        {\"responsive\": true}                    ).then(function(){\n",
       "                            \n",
       "var gd = document.getElementById('8eeff9a3-43e6-4735-89cd-33d5e259b1c6');\n",
       "var x = new MutationObserver(function (mutations, observer) {{\n",
       "        var display = window.getComputedStyle(gd).display;\n",
       "        if (!display || display === 'none') {{\n",
       "            console.log([gd, 'removed!']);\n",
       "            Plotly.purge(gd);\n",
       "            observer.disconnect();\n",
       "        }}\n",
       "}});\n",
       "\n",
       "// Listen for the removal of the full notebook cells\n",
       "var notebookContainer = gd.closest('#notebook-container');\n",
       "if (notebookContainer) {{\n",
       "    x.observe(notebookContainer, {childList: true});\n",
       "}}\n",
       "\n",
       "// Listen for the clearing of the current output cell\n",
       "var outputEl = gd.closest('.output');\n",
       "if (outputEl) {{\n",
       "    x.observe(outputEl, {childList: true});\n",
       "}}\n",
       "\n",
       "                        })                };                });            </script>        </div>"
      ]
     },
     "metadata": {},
     "output_type": "display_data"
    }
   ],
   "source": [
    "iplot(choromap)"
   ]
  },
  {
   "cell_type": "code",
   "execution_count": null,
   "id": "44fe6c72",
   "metadata": {},
   "outputs": [],
   "source": []
  }
 ],
 "metadata": {
  "kernelspec": {
   "display_name": "Python 3 (ipykernel)",
   "language": "python",
   "name": "python3"
  },
  "language_info": {
   "codemirror_mode": {
    "name": "ipython",
    "version": 3
   },
   "file_extension": ".py",
   "mimetype": "text/x-python",
   "name": "python",
   "nbconvert_exporter": "python",
   "pygments_lexer": "ipython3",
   "version": "3.10.9"
  }
 },
 "nbformat": 4,
 "nbformat_minor": 5
}
