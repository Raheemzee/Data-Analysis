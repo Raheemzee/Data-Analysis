{
 "cells": [
  {
   "cell_type": "code",
   "execution_count": 59,
   "id": "fe52c2ea",
   "metadata": {},
   "outputs": [],
   "source": [
    "import numpy as np\n",
    "import pandas as pd\n",
    "import matplotlib as plt\n",
    "import seaborn as sns\n",
    "import chart_studio.plotly as py\n",
    "import plotly.graph_objs as go\n",
    "%matplotlib inline\n",
    "from autots import AutoTS\n"
   ]
  },
  {
   "cell_type": "code",
   "execution_count": 2,
   "id": "2b6f03d1",
   "metadata": {},
   "outputs": [],
   "source": [
    "from plotly.offline import download_plotlyjs,init_notebook_mode,plot,iplot"
   ]
  },
  {
   "cell_type": "code",
   "execution_count": 3,
   "id": "c2ba3b42",
   "metadata": {},
   "outputs": [
    {
     "data": {
      "text/html": [
       "        <script type=\"text/javascript\">\n",
       "        window.PlotlyConfig = {MathJaxConfig: 'local'};\n",
       "        if (window.MathJax && window.MathJax.Hub && window.MathJax.Hub.Config) {window.MathJax.Hub.Config({SVG: {font: \"STIX-Web\"}});}\n",
       "        if (typeof require !== 'undefined') {\n",
       "        require.undef(\"plotly\");\n",
       "        requirejs.config({\n",
       "            paths: {\n",
       "                'plotly': ['https://cdn.plot.ly/plotly-2.12.1.min']\n",
       "            }\n",
       "        });\n",
       "        require(['plotly'], function(Plotly) {\n",
       "            window._Plotly = Plotly;\n",
       "        });\n",
       "        }\n",
       "        </script>\n",
       "        "
      ]
     },
     "metadata": {},
     "output_type": "display_data"
    }
   ],
   "source": [
    "init_notebook_mode(connected=True)"
   ]
  },
  {
   "cell_type": "code",
   "execution_count": 4,
   "id": "9ac93df3",
   "metadata": {},
   "outputs": [],
   "source": [
    "exp = pd.read_csv('2011_US_AGRI_Exports')"
   ]
  },
  {
   "cell_type": "code",
   "execution_count": 5,
   "id": "ecd394ab",
   "metadata": {
    "scrolled": false
   },
   "outputs": [
    {
     "data": {
      "text/html": [
       "<div>\n",
       "<style scoped>\n",
       "    .dataframe tbody tr th:only-of-type {\n",
       "        vertical-align: middle;\n",
       "    }\n",
       "\n",
       "    .dataframe tbody tr th {\n",
       "        vertical-align: top;\n",
       "    }\n",
       "\n",
       "    .dataframe thead th {\n",
       "        text-align: right;\n",
       "    }\n",
       "</style>\n",
       "<table border=\"1\" class=\"dataframe\">\n",
       "  <thead>\n",
       "    <tr style=\"text-align: right;\">\n",
       "      <th></th>\n",
       "      <th>code</th>\n",
       "      <th>state</th>\n",
       "      <th>category</th>\n",
       "      <th>total exports</th>\n",
       "      <th>beef</th>\n",
       "      <th>pork</th>\n",
       "      <th>poultry</th>\n",
       "      <th>dairy</th>\n",
       "      <th>fruits fresh</th>\n",
       "      <th>fruits proc</th>\n",
       "      <th>total fruits</th>\n",
       "      <th>veggies fresh</th>\n",
       "      <th>veggies proc</th>\n",
       "      <th>total veggies</th>\n",
       "      <th>corn</th>\n",
       "      <th>wheat</th>\n",
       "      <th>cotton</th>\n",
       "      <th>text</th>\n",
       "    </tr>\n",
       "  </thead>\n",
       "  <tbody>\n",
       "    <tr>\n",
       "      <th>0</th>\n",
       "      <td>AL</td>\n",
       "      <td>Alabama</td>\n",
       "      <td>state</td>\n",
       "      <td>1390.63</td>\n",
       "      <td>34.4</td>\n",
       "      <td>10.6</td>\n",
       "      <td>481.0</td>\n",
       "      <td>4.06</td>\n",
       "      <td>8.0</td>\n",
       "      <td>17.1</td>\n",
       "      <td>25.11</td>\n",
       "      <td>5.5</td>\n",
       "      <td>8.9</td>\n",
       "      <td>14.33</td>\n",
       "      <td>34.9</td>\n",
       "      <td>70.0</td>\n",
       "      <td>317.61</td>\n",
       "      <td>Alabama&lt;br&gt;Beef 34.4 Dairy 4.06&lt;br&gt;Fruits 25.1...</td>\n",
       "    </tr>\n",
       "    <tr>\n",
       "      <th>1</th>\n",
       "      <td>AK</td>\n",
       "      <td>Alaska</td>\n",
       "      <td>state</td>\n",
       "      <td>13.31</td>\n",
       "      <td>0.2</td>\n",
       "      <td>0.1</td>\n",
       "      <td>0.0</td>\n",
       "      <td>0.19</td>\n",
       "      <td>0.0</td>\n",
       "      <td>0.0</td>\n",
       "      <td>0.00</td>\n",
       "      <td>0.6</td>\n",
       "      <td>1.0</td>\n",
       "      <td>1.56</td>\n",
       "      <td>0.0</td>\n",
       "      <td>0.0</td>\n",
       "      <td>0.00</td>\n",
       "      <td>Alaska&lt;br&gt;Beef 0.2 Dairy 0.19&lt;br&gt;Fruits 0.0 Ve...</td>\n",
       "    </tr>\n",
       "    <tr>\n",
       "      <th>2</th>\n",
       "      <td>AZ</td>\n",
       "      <td>Arizona</td>\n",
       "      <td>state</td>\n",
       "      <td>1463.17</td>\n",
       "      <td>71.3</td>\n",
       "      <td>17.9</td>\n",
       "      <td>0.0</td>\n",
       "      <td>105.48</td>\n",
       "      <td>19.3</td>\n",
       "      <td>41.0</td>\n",
       "      <td>60.27</td>\n",
       "      <td>147.5</td>\n",
       "      <td>239.4</td>\n",
       "      <td>386.91</td>\n",
       "      <td>7.3</td>\n",
       "      <td>48.7</td>\n",
       "      <td>423.95</td>\n",
       "      <td>Arizona&lt;br&gt;Beef 71.3 Dairy 105.48&lt;br&gt;Fruits 60...</td>\n",
       "    </tr>\n",
       "    <tr>\n",
       "      <th>3</th>\n",
       "      <td>AR</td>\n",
       "      <td>Arkansas</td>\n",
       "      <td>state</td>\n",
       "      <td>3586.02</td>\n",
       "      <td>53.2</td>\n",
       "      <td>29.4</td>\n",
       "      <td>562.9</td>\n",
       "      <td>3.53</td>\n",
       "      <td>2.2</td>\n",
       "      <td>4.7</td>\n",
       "      <td>6.88</td>\n",
       "      <td>4.4</td>\n",
       "      <td>7.1</td>\n",
       "      <td>11.45</td>\n",
       "      <td>69.5</td>\n",
       "      <td>114.5</td>\n",
       "      <td>665.44</td>\n",
       "      <td>Arkansas&lt;br&gt;Beef 53.2 Dairy 3.53&lt;br&gt;Fruits 6.8...</td>\n",
       "    </tr>\n",
       "    <tr>\n",
       "      <th>4</th>\n",
       "      <td>CA</td>\n",
       "      <td>California</td>\n",
       "      <td>state</td>\n",
       "      <td>16472.88</td>\n",
       "      <td>228.7</td>\n",
       "      <td>11.1</td>\n",
       "      <td>225.4</td>\n",
       "      <td>929.95</td>\n",
       "      <td>2791.8</td>\n",
       "      <td>5944.6</td>\n",
       "      <td>8736.40</td>\n",
       "      <td>803.2</td>\n",
       "      <td>1303.5</td>\n",
       "      <td>2106.79</td>\n",
       "      <td>34.6</td>\n",
       "      <td>249.3</td>\n",
       "      <td>1064.95</td>\n",
       "      <td>California&lt;br&gt;Beef 228.7 Dairy 929.95&lt;br&gt;Frui...</td>\n",
       "    </tr>\n",
       "    <tr>\n",
       "      <th>5</th>\n",
       "      <td>CO</td>\n",
       "      <td>Colorado</td>\n",
       "      <td>state</td>\n",
       "      <td>1851.33</td>\n",
       "      <td>261.4</td>\n",
       "      <td>66.0</td>\n",
       "      <td>14.0</td>\n",
       "      <td>71.94</td>\n",
       "      <td>5.7</td>\n",
       "      <td>12.2</td>\n",
       "      <td>17.99</td>\n",
       "      <td>45.1</td>\n",
       "      <td>73.2</td>\n",
       "      <td>118.27</td>\n",
       "      <td>183.2</td>\n",
       "      <td>400.5</td>\n",
       "      <td>0.00</td>\n",
       "      <td>Colorado&lt;br&gt;Beef 261.4 Dairy 71.94&lt;br&gt;Fruits 1...</td>\n",
       "    </tr>\n",
       "    <tr>\n",
       "      <th>6</th>\n",
       "      <td>CT</td>\n",
       "      <td>Connecticut</td>\n",
       "      <td>state</td>\n",
       "      <td>259.62</td>\n",
       "      <td>1.1</td>\n",
       "      <td>0.1</td>\n",
       "      <td>6.9</td>\n",
       "      <td>9.49</td>\n",
       "      <td>4.2</td>\n",
       "      <td>8.9</td>\n",
       "      <td>13.10</td>\n",
       "      <td>4.3</td>\n",
       "      <td>6.9</td>\n",
       "      <td>11.16</td>\n",
       "      <td>0.0</td>\n",
       "      <td>0.0</td>\n",
       "      <td>0.00</td>\n",
       "      <td>Connecticut&lt;br&gt;Beef 1.1 Dairy 9.49&lt;br&gt;Fruits 1...</td>\n",
       "    </tr>\n",
       "    <tr>\n",
       "      <th>7</th>\n",
       "      <td>DE</td>\n",
       "      <td>Delaware</td>\n",
       "      <td>state</td>\n",
       "      <td>282.19</td>\n",
       "      <td>0.4</td>\n",
       "      <td>0.6</td>\n",
       "      <td>114.7</td>\n",
       "      <td>2.30</td>\n",
       "      <td>0.5</td>\n",
       "      <td>1.0</td>\n",
       "      <td>1.53</td>\n",
       "      <td>7.6</td>\n",
       "      <td>12.4</td>\n",
       "      <td>20.03</td>\n",
       "      <td>26.9</td>\n",
       "      <td>22.9</td>\n",
       "      <td>0.00</td>\n",
       "      <td>Delaware&lt;br&gt;Beef 0.4 Dairy 2.3&lt;br&gt;Fruits 1.53 ...</td>\n",
       "    </tr>\n",
       "    <tr>\n",
       "      <th>8</th>\n",
       "      <td>FL</td>\n",
       "      <td>Florida</td>\n",
       "      <td>state</td>\n",
       "      <td>3764.09</td>\n",
       "      <td>42.6</td>\n",
       "      <td>0.9</td>\n",
       "      <td>56.9</td>\n",
       "      <td>66.31</td>\n",
       "      <td>438.2</td>\n",
       "      <td>933.1</td>\n",
       "      <td>1371.36</td>\n",
       "      <td>171.9</td>\n",
       "      <td>279.0</td>\n",
       "      <td>450.86</td>\n",
       "      <td>3.5</td>\n",
       "      <td>1.8</td>\n",
       "      <td>78.24</td>\n",
       "      <td>Florida&lt;br&gt;Beef 42.6 Dairy 66.31&lt;br&gt;Fruits 137...</td>\n",
       "    </tr>\n",
       "    <tr>\n",
       "      <th>9</th>\n",
       "      <td>GA</td>\n",
       "      <td>Georgia</td>\n",
       "      <td>state</td>\n",
       "      <td>2860.84</td>\n",
       "      <td>31.0</td>\n",
       "      <td>18.9</td>\n",
       "      <td>630.4</td>\n",
       "      <td>38.38</td>\n",
       "      <td>74.6</td>\n",
       "      <td>158.9</td>\n",
       "      <td>233.51</td>\n",
       "      <td>59.0</td>\n",
       "      <td>95.8</td>\n",
       "      <td>154.77</td>\n",
       "      <td>57.8</td>\n",
       "      <td>65.4</td>\n",
       "      <td>1154.07</td>\n",
       "      <td>Georgia&lt;br&gt;Beef 31.0 Dairy 38.38&lt;br&gt;Fruits 233...</td>\n",
       "    </tr>\n",
       "    <tr>\n",
       "      <th>10</th>\n",
       "      <td>HI</td>\n",
       "      <td>Hawaii</td>\n",
       "      <td>state</td>\n",
       "      <td>401.84</td>\n",
       "      <td>4.0</td>\n",
       "      <td>0.7</td>\n",
       "      <td>1.3</td>\n",
       "      <td>1.16</td>\n",
       "      <td>17.7</td>\n",
       "      <td>37.8</td>\n",
       "      <td>55.51</td>\n",
       "      <td>9.5</td>\n",
       "      <td>15.4</td>\n",
       "      <td>24.83</td>\n",
       "      <td>0.0</td>\n",
       "      <td>0.0</td>\n",
       "      <td>0.00</td>\n",
       "      <td>Hawaii&lt;br&gt;Beef 4.0 Dairy 1.16&lt;br&gt;Fruits 55.51 ...</td>\n",
       "    </tr>\n",
       "    <tr>\n",
       "      <th>11</th>\n",
       "      <td>ID</td>\n",
       "      <td>Idaho</td>\n",
       "      <td>state</td>\n",
       "      <td>2078.89</td>\n",
       "      <td>119.8</td>\n",
       "      <td>0.0</td>\n",
       "      <td>2.4</td>\n",
       "      <td>294.60</td>\n",
       "      <td>6.9</td>\n",
       "      <td>14.7</td>\n",
       "      <td>21.64</td>\n",
       "      <td>121.7</td>\n",
       "      <td>197.5</td>\n",
       "      <td>319.19</td>\n",
       "      <td>24.0</td>\n",
       "      <td>568.2</td>\n",
       "      <td>0.00</td>\n",
       "      <td>Idaho&lt;br&gt;Beef 119.8 Dairy 294.6&lt;br&gt;Fruits 21.6...</td>\n",
       "    </tr>\n",
       "    <tr>\n",
       "      <th>12</th>\n",
       "      <td>IL</td>\n",
       "      <td>Illinois</td>\n",
       "      <td>state</td>\n",
       "      <td>8709.48</td>\n",
       "      <td>53.7</td>\n",
       "      <td>394.0</td>\n",
       "      <td>14.0</td>\n",
       "      <td>45.82</td>\n",
       "      <td>4.0</td>\n",
       "      <td>8.5</td>\n",
       "      <td>12.53</td>\n",
       "      <td>15.2</td>\n",
       "      <td>24.7</td>\n",
       "      <td>39.95</td>\n",
       "      <td>2228.5</td>\n",
       "      <td>223.8</td>\n",
       "      <td>0.00</td>\n",
       "      <td>Illinois&lt;br&gt;Beef 53.7 Dairy 45.82&lt;br&gt;Fruits 12...</td>\n",
       "    </tr>\n",
       "    <tr>\n",
       "      <th>13</th>\n",
       "      <td>IN</td>\n",
       "      <td>Indiana</td>\n",
       "      <td>state</td>\n",
       "      <td>5050.23</td>\n",
       "      <td>21.9</td>\n",
       "      <td>341.9</td>\n",
       "      <td>165.6</td>\n",
       "      <td>89.70</td>\n",
       "      <td>4.1</td>\n",
       "      <td>8.8</td>\n",
       "      <td>12.98</td>\n",
       "      <td>14.4</td>\n",
       "      <td>23.4</td>\n",
       "      <td>37.89</td>\n",
       "      <td>1123.2</td>\n",
       "      <td>114.0</td>\n",
       "      <td>0.00</td>\n",
       "      <td>Indiana&lt;br&gt;Beef 21.9 Dairy 89.7&lt;br&gt;Fruits 12.9...</td>\n",
       "    </tr>\n",
       "    <tr>\n",
       "      <th>14</th>\n",
       "      <td>IA</td>\n",
       "      <td>Iowa</td>\n",
       "      <td>state</td>\n",
       "      <td>11273.76</td>\n",
       "      <td>289.8</td>\n",
       "      <td>1895.6</td>\n",
       "      <td>155.6</td>\n",
       "      <td>107.00</td>\n",
       "      <td>1.0</td>\n",
       "      <td>2.2</td>\n",
       "      <td>3.24</td>\n",
       "      <td>2.7</td>\n",
       "      <td>4.4</td>\n",
       "      <td>7.10</td>\n",
       "      <td>2529.8</td>\n",
       "      <td>3.1</td>\n",
       "      <td>0.00</td>\n",
       "      <td>Iowa&lt;br&gt;Beef 289.8 Dairy 107.0&lt;br&gt;Fruits 3.24 ...</td>\n",
       "    </tr>\n",
       "    <tr>\n",
       "      <th>15</th>\n",
       "      <td>KS</td>\n",
       "      <td>Kansas</td>\n",
       "      <td>state</td>\n",
       "      <td>4589.01</td>\n",
       "      <td>659.3</td>\n",
       "      <td>179.4</td>\n",
       "      <td>6.4</td>\n",
       "      <td>65.45</td>\n",
       "      <td>1.0</td>\n",
       "      <td>2.1</td>\n",
       "      <td>3.11</td>\n",
       "      <td>3.6</td>\n",
       "      <td>5.8</td>\n",
       "      <td>9.32</td>\n",
       "      <td>457.3</td>\n",
       "      <td>1426.5</td>\n",
       "      <td>43.98</td>\n",
       "      <td>Kansas&lt;br&gt;Beef 659.3 Dairy 65.45&lt;br&gt;Fruits 3.1...</td>\n",
       "    </tr>\n",
       "    <tr>\n",
       "      <th>16</th>\n",
       "      <td>KY</td>\n",
       "      <td>Kentucky</td>\n",
       "      <td>state</td>\n",
       "      <td>1889.15</td>\n",
       "      <td>54.8</td>\n",
       "      <td>34.2</td>\n",
       "      <td>151.3</td>\n",
       "      <td>28.27</td>\n",
       "      <td>2.1</td>\n",
       "      <td>4.5</td>\n",
       "      <td>6.60</td>\n",
       "      <td>0.0</td>\n",
       "      <td>0.0</td>\n",
       "      <td>0.00</td>\n",
       "      <td>179.1</td>\n",
       "      <td>149.3</td>\n",
       "      <td>0.00</td>\n",
       "      <td>Kentucky&lt;br&gt;Beef 54.8 Dairy 28.27&lt;br&gt;Fruits 6....</td>\n",
       "    </tr>\n",
       "    <tr>\n",
       "      <th>17</th>\n",
       "      <td>LA</td>\n",
       "      <td>Louisiana</td>\n",
       "      <td>state</td>\n",
       "      <td>1914.23</td>\n",
       "      <td>19.8</td>\n",
       "      <td>0.8</td>\n",
       "      <td>77.2</td>\n",
       "      <td>6.02</td>\n",
       "      <td>5.7</td>\n",
       "      <td>12.1</td>\n",
       "      <td>17.83</td>\n",
       "      <td>6.6</td>\n",
       "      <td>10.7</td>\n",
       "      <td>17.25</td>\n",
       "      <td>91.4</td>\n",
       "      <td>78.7</td>\n",
       "      <td>280.42</td>\n",
       "      <td>Louisiana&lt;br&gt;Beef 19.8 Dairy 6.02&lt;br&gt;Fruits 17...</td>\n",
       "    </tr>\n",
       "    <tr>\n",
       "      <th>18</th>\n",
       "      <td>ME</td>\n",
       "      <td>Maine</td>\n",
       "      <td>state</td>\n",
       "      <td>278.37</td>\n",
       "      <td>1.4</td>\n",
       "      <td>0.5</td>\n",
       "      <td>10.4</td>\n",
       "      <td>16.18</td>\n",
       "      <td>16.6</td>\n",
       "      <td>35.4</td>\n",
       "      <td>52.01</td>\n",
       "      <td>24.0</td>\n",
       "      <td>38.9</td>\n",
       "      <td>62.90</td>\n",
       "      <td>0.0</td>\n",
       "      <td>0.0</td>\n",
       "      <td>0.00</td>\n",
       "      <td>Maine&lt;br&gt;Beef 1.4 Dairy 16.18&lt;br&gt;Fruits 52.01 ...</td>\n",
       "    </tr>\n",
       "    <tr>\n",
       "      <th>19</th>\n",
       "      <td>MD</td>\n",
       "      <td>Maryland</td>\n",
       "      <td>state</td>\n",
       "      <td>692.75</td>\n",
       "      <td>5.6</td>\n",
       "      <td>3.1</td>\n",
       "      <td>127.0</td>\n",
       "      <td>24.81</td>\n",
       "      <td>4.1</td>\n",
       "      <td>8.8</td>\n",
       "      <td>12.90</td>\n",
       "      <td>7.8</td>\n",
       "      <td>12.6</td>\n",
       "      <td>20.43</td>\n",
       "      <td>54.1</td>\n",
       "      <td>55.8</td>\n",
       "      <td>0.00</td>\n",
       "      <td>Maryland&lt;br&gt;Beef 5.6 Dairy 24.81&lt;br&gt;Fruits 12....</td>\n",
       "    </tr>\n",
       "    <tr>\n",
       "      <th>20</th>\n",
       "      <td>MA</td>\n",
       "      <td>Massachusetts</td>\n",
       "      <td>state</td>\n",
       "      <td>248.65</td>\n",
       "      <td>0.6</td>\n",
       "      <td>0.5</td>\n",
       "      <td>0.6</td>\n",
       "      <td>5.81</td>\n",
       "      <td>25.8</td>\n",
       "      <td>55.0</td>\n",
       "      <td>80.83</td>\n",
       "      <td>8.1</td>\n",
       "      <td>13.1</td>\n",
       "      <td>21.13</td>\n",
       "      <td>0.0</td>\n",
       "      <td>0.0</td>\n",
       "      <td>0.00</td>\n",
       "      <td>Massachusetts&lt;br&gt;Beef 0.6 Dairy 5.81&lt;br&gt;Fruits...</td>\n",
       "    </tr>\n",
       "    <tr>\n",
       "      <th>21</th>\n",
       "      <td>MI</td>\n",
       "      <td>Michigan</td>\n",
       "      <td>state</td>\n",
       "      <td>3164.16</td>\n",
       "      <td>37.7</td>\n",
       "      <td>118.1</td>\n",
       "      <td>32.6</td>\n",
       "      <td>214.82</td>\n",
       "      <td>82.3</td>\n",
       "      <td>175.3</td>\n",
       "      <td>257.69</td>\n",
       "      <td>72.4</td>\n",
       "      <td>117.5</td>\n",
       "      <td>189.96</td>\n",
       "      <td>381.5</td>\n",
       "      <td>247.0</td>\n",
       "      <td>0.00</td>\n",
       "      <td>Michigan&lt;br&gt;Beef 37.7 Dairy 214.82&lt;br&gt;Fruits 2...</td>\n",
       "    </tr>\n",
       "    <tr>\n",
       "      <th>22</th>\n",
       "      <td>MN</td>\n",
       "      <td>Minnesota</td>\n",
       "      <td>state</td>\n",
       "      <td>7192.33</td>\n",
       "      <td>112.3</td>\n",
       "      <td>740.4</td>\n",
       "      <td>189.2</td>\n",
       "      <td>218.05</td>\n",
       "      <td>2.5</td>\n",
       "      <td>5.4</td>\n",
       "      <td>7.91</td>\n",
       "      <td>45.9</td>\n",
       "      <td>74.5</td>\n",
       "      <td>120.37</td>\n",
       "      <td>1264.3</td>\n",
       "      <td>538.1</td>\n",
       "      <td>0.00</td>\n",
       "      <td>Minnesota&lt;br&gt;Beef 112.3 Dairy 218.05&lt;br&gt;Fruits...</td>\n",
       "    </tr>\n",
       "    <tr>\n",
       "      <th>23</th>\n",
       "      <td>MS</td>\n",
       "      <td>Mississippi</td>\n",
       "      <td>state</td>\n",
       "      <td>2170.80</td>\n",
       "      <td>12.8</td>\n",
       "      <td>30.4</td>\n",
       "      <td>370.8</td>\n",
       "      <td>5.45</td>\n",
       "      <td>5.4</td>\n",
       "      <td>11.6</td>\n",
       "      <td>17.04</td>\n",
       "      <td>10.6</td>\n",
       "      <td>17.2</td>\n",
       "      <td>27.87</td>\n",
       "      <td>110.0</td>\n",
       "      <td>102.2</td>\n",
       "      <td>494.75</td>\n",
       "      <td>Mississippi&lt;br&gt;Beef 12.8 Dairy 5.45&lt;br&gt;Fruits ...</td>\n",
       "    </tr>\n",
       "    <tr>\n",
       "      <th>24</th>\n",
       "      <td>MO</td>\n",
       "      <td>Missouri</td>\n",
       "      <td>state</td>\n",
       "      <td>3933.42</td>\n",
       "      <td>137.2</td>\n",
       "      <td>277.3</td>\n",
       "      <td>196.1</td>\n",
       "      <td>34.26</td>\n",
       "      <td>4.2</td>\n",
       "      <td>9.0</td>\n",
       "      <td>13.18</td>\n",
       "      <td>6.8</td>\n",
       "      <td>11.1</td>\n",
       "      <td>17.90</td>\n",
       "      <td>428.8</td>\n",
       "      <td>161.7</td>\n",
       "      <td>345.29</td>\n",
       "      <td>Missouri&lt;br&gt;Beef 137.2 Dairy 34.26&lt;br&gt;Fruits 1...</td>\n",
       "    </tr>\n",
       "    <tr>\n",
       "      <th>25</th>\n",
       "      <td>MT</td>\n",
       "      <td>Montana</td>\n",
       "      <td>state</td>\n",
       "      <td>1718.00</td>\n",
       "      <td>105.0</td>\n",
       "      <td>16.7</td>\n",
       "      <td>1.7</td>\n",
       "      <td>6.82</td>\n",
       "      <td>1.1</td>\n",
       "      <td>2.2</td>\n",
       "      <td>3.30</td>\n",
       "      <td>17.3</td>\n",
       "      <td>28.0</td>\n",
       "      <td>45.27</td>\n",
       "      <td>5.4</td>\n",
       "      <td>1198.1</td>\n",
       "      <td>0.00</td>\n",
       "      <td>Montana&lt;br&gt;Beef 105.0 Dairy 6.82&lt;br&gt;Fruits 3.3...</td>\n",
       "    </tr>\n",
       "    <tr>\n",
       "      <th>26</th>\n",
       "      <td>NE</td>\n",
       "      <td>Nebraska</td>\n",
       "      <td>state</td>\n",
       "      <td>7114.13</td>\n",
       "      <td>762.2</td>\n",
       "      <td>262.5</td>\n",
       "      <td>31.4</td>\n",
       "      <td>30.07</td>\n",
       "      <td>0.7</td>\n",
       "      <td>1.5</td>\n",
       "      <td>2.16</td>\n",
       "      <td>20.4</td>\n",
       "      <td>33.1</td>\n",
       "      <td>53.50</td>\n",
       "      <td>1735.9</td>\n",
       "      <td>292.3</td>\n",
       "      <td>0.00</td>\n",
       "      <td>Nebraska&lt;br&gt;Beef 762.2 Dairy 30.07&lt;br&gt;Fruits 2...</td>\n",
       "    </tr>\n",
       "    <tr>\n",
       "      <th>27</th>\n",
       "      <td>NV</td>\n",
       "      <td>Nevada</td>\n",
       "      <td>state</td>\n",
       "      <td>139.89</td>\n",
       "      <td>21.8</td>\n",
       "      <td>0.2</td>\n",
       "      <td>0.0</td>\n",
       "      <td>16.57</td>\n",
       "      <td>0.4</td>\n",
       "      <td>0.8</td>\n",
       "      <td>1.19</td>\n",
       "      <td>10.6</td>\n",
       "      <td>17.3</td>\n",
       "      <td>27.93</td>\n",
       "      <td>0.0</td>\n",
       "      <td>5.4</td>\n",
       "      <td>0.00</td>\n",
       "      <td>Nevada&lt;br&gt;Beef 21.8 Dairy 16.57&lt;br&gt;Fruits 1.19...</td>\n",
       "    </tr>\n",
       "    <tr>\n",
       "      <th>28</th>\n",
       "      <td>NH</td>\n",
       "      <td>New Hampshire</td>\n",
       "      <td>state</td>\n",
       "      <td>73.06</td>\n",
       "      <td>0.6</td>\n",
       "      <td>0.2</td>\n",
       "      <td>0.8</td>\n",
       "      <td>7.46</td>\n",
       "      <td>2.6</td>\n",
       "      <td>5.4</td>\n",
       "      <td>7.98</td>\n",
       "      <td>1.7</td>\n",
       "      <td>2.8</td>\n",
       "      <td>4.50</td>\n",
       "      <td>0.0</td>\n",
       "      <td>0.0</td>\n",
       "      <td>0.00</td>\n",
       "      <td>New Hampshire&lt;br&gt;Beef 0.6 Dairy 7.46&lt;br&gt;Fruits...</td>\n",
       "    </tr>\n",
       "    <tr>\n",
       "      <th>29</th>\n",
       "      <td>NJ</td>\n",
       "      <td>New Jersey</td>\n",
       "      <td>state</td>\n",
       "      <td>500.40</td>\n",
       "      <td>0.8</td>\n",
       "      <td>0.4</td>\n",
       "      <td>4.6</td>\n",
       "      <td>3.37</td>\n",
       "      <td>35.0</td>\n",
       "      <td>74.5</td>\n",
       "      <td>109.45</td>\n",
       "      <td>21.6</td>\n",
       "      <td>35.0</td>\n",
       "      <td>56.54</td>\n",
       "      <td>10.1</td>\n",
       "      <td>6.7</td>\n",
       "      <td>0.00</td>\n",
       "      <td>New Jersey&lt;br&gt;Beef 0.8 Dairy 3.37&lt;br&gt;Fruits 10...</td>\n",
       "    </tr>\n",
       "    <tr>\n",
       "      <th>30</th>\n",
       "      <td>NM</td>\n",
       "      <td>New Mexico</td>\n",
       "      <td>state</td>\n",
       "      <td>751.58</td>\n",
       "      <td>117.2</td>\n",
       "      <td>0.1</td>\n",
       "      <td>0.3</td>\n",
       "      <td>191.01</td>\n",
       "      <td>32.6</td>\n",
       "      <td>69.3</td>\n",
       "      <td>101.90</td>\n",
       "      <td>16.7</td>\n",
       "      <td>27.1</td>\n",
       "      <td>43.88</td>\n",
       "      <td>11.2</td>\n",
       "      <td>13.9</td>\n",
       "      <td>72.62</td>\n",
       "      <td>New Mexico&lt;br&gt;Beef 117.2 Dairy 191.01&lt;br&gt;Fruit...</td>\n",
       "    </tr>\n",
       "    <tr>\n",
       "      <th>31</th>\n",
       "      <td>NY</td>\n",
       "      <td>New York</td>\n",
       "      <td>state</td>\n",
       "      <td>1488.90</td>\n",
       "      <td>22.2</td>\n",
       "      <td>5.8</td>\n",
       "      <td>17.7</td>\n",
       "      <td>331.80</td>\n",
       "      <td>64.7</td>\n",
       "      <td>137.8</td>\n",
       "      <td>202.56</td>\n",
       "      <td>54.7</td>\n",
       "      <td>88.7</td>\n",
       "      <td>143.37</td>\n",
       "      <td>106.1</td>\n",
       "      <td>29.9</td>\n",
       "      <td>0.00</td>\n",
       "      <td>New York&lt;br&gt;Beef 22.2 Dairy 331.8&lt;br&gt;Fruits 20...</td>\n",
       "    </tr>\n",
       "    <tr>\n",
       "      <th>32</th>\n",
       "      <td>NC</td>\n",
       "      <td>North Carolina</td>\n",
       "      <td>state</td>\n",
       "      <td>3806.05</td>\n",
       "      <td>24.8</td>\n",
       "      <td>702.8</td>\n",
       "      <td>598.4</td>\n",
       "      <td>24.90</td>\n",
       "      <td>23.8</td>\n",
       "      <td>50.7</td>\n",
       "      <td>74.47</td>\n",
       "      <td>57.4</td>\n",
       "      <td>93.1</td>\n",
       "      <td>150.45</td>\n",
       "      <td>92.2</td>\n",
       "      <td>200.3</td>\n",
       "      <td>470.86</td>\n",
       "      <td>North Carolina&lt;br&gt;Beef 24.8 Dairy 24.9&lt;br&gt;Frui...</td>\n",
       "    </tr>\n",
       "    <tr>\n",
       "      <th>33</th>\n",
       "      <td>ND</td>\n",
       "      <td>North Dakota</td>\n",
       "      <td>state</td>\n",
       "      <td>3761.96</td>\n",
       "      <td>78.5</td>\n",
       "      <td>16.1</td>\n",
       "      <td>0.5</td>\n",
       "      <td>8.14</td>\n",
       "      <td>0.1</td>\n",
       "      <td>0.2</td>\n",
       "      <td>0.25</td>\n",
       "      <td>49.9</td>\n",
       "      <td>80.9</td>\n",
       "      <td>130.79</td>\n",
       "      <td>236.1</td>\n",
       "      <td>1664.5</td>\n",
       "      <td>0.00</td>\n",
       "      <td>North Dakota&lt;br&gt;Beef 78.5 Dairy 8.14&lt;br&gt;Fruits...</td>\n",
       "    </tr>\n",
       "    <tr>\n",
       "      <th>34</th>\n",
       "      <td>OH</td>\n",
       "      <td>Ohio</td>\n",
       "      <td>state</td>\n",
       "      <td>3979.79</td>\n",
       "      <td>36.2</td>\n",
       "      <td>199.1</td>\n",
       "      <td>129.9</td>\n",
       "      <td>134.57</td>\n",
       "      <td>8.7</td>\n",
       "      <td>18.5</td>\n",
       "      <td>27.21</td>\n",
       "      <td>20.4</td>\n",
       "      <td>33.1</td>\n",
       "      <td>53.53</td>\n",
       "      <td>535.1</td>\n",
       "      <td>207.4</td>\n",
       "      <td>0.00</td>\n",
       "      <td>Ohio&lt;br&gt;Beef 36.2 Dairy 134.57&lt;br&gt;Fruits 27.21...</td>\n",
       "    </tr>\n",
       "    <tr>\n",
       "      <th>35</th>\n",
       "      <td>OK</td>\n",
       "      <td>Oklahoma</td>\n",
       "      <td>state</td>\n",
       "      <td>1646.41</td>\n",
       "      <td>337.6</td>\n",
       "      <td>265.3</td>\n",
       "      <td>131.1</td>\n",
       "      <td>24.35</td>\n",
       "      <td>3.0</td>\n",
       "      <td>6.3</td>\n",
       "      <td>9.24</td>\n",
       "      <td>3.4</td>\n",
       "      <td>5.5</td>\n",
       "      <td>8.90</td>\n",
       "      <td>27.5</td>\n",
       "      <td>324.8</td>\n",
       "      <td>110.54</td>\n",
       "      <td>Oklahoma&lt;br&gt;Beef 337.6 Dairy 24.35&lt;br&gt;Fruits 9...</td>\n",
       "    </tr>\n",
       "    <tr>\n",
       "      <th>36</th>\n",
       "      <td>OR</td>\n",
       "      <td>Oregon</td>\n",
       "      <td>state</td>\n",
       "      <td>1794.57</td>\n",
       "      <td>58.8</td>\n",
       "      <td>1.4</td>\n",
       "      <td>14.2</td>\n",
       "      <td>63.66</td>\n",
       "      <td>100.7</td>\n",
       "      <td>214.4</td>\n",
       "      <td>315.04</td>\n",
       "      <td>48.2</td>\n",
       "      <td>78.3</td>\n",
       "      <td>126.50</td>\n",
       "      <td>11.7</td>\n",
       "      <td>320.3</td>\n",
       "      <td>0.00</td>\n",
       "      <td>Oregon&lt;br&gt;Beef 58.8 Dairy 63.66&lt;br&gt;Fruits 315....</td>\n",
       "    </tr>\n",
       "    <tr>\n",
       "      <th>37</th>\n",
       "      <td>PA</td>\n",
       "      <td>Pennsylvania</td>\n",
       "      <td>state</td>\n",
       "      <td>1969.87</td>\n",
       "      <td>50.9</td>\n",
       "      <td>91.3</td>\n",
       "      <td>169.8</td>\n",
       "      <td>280.87</td>\n",
       "      <td>28.6</td>\n",
       "      <td>60.9</td>\n",
       "      <td>89.48</td>\n",
       "      <td>14.6</td>\n",
       "      <td>23.7</td>\n",
       "      <td>38.26</td>\n",
       "      <td>112.1</td>\n",
       "      <td>41.0</td>\n",
       "      <td>0.00</td>\n",
       "      <td>Pennsylvania&lt;br&gt;Beef 50.9 Dairy 280.87&lt;br&gt;Frui...</td>\n",
       "    </tr>\n",
       "    <tr>\n",
       "      <th>38</th>\n",
       "      <td>RI</td>\n",
       "      <td>Rhode Island</td>\n",
       "      <td>state</td>\n",
       "      <td>31.59</td>\n",
       "      <td>0.1</td>\n",
       "      <td>0.1</td>\n",
       "      <td>0.2</td>\n",
       "      <td>0.52</td>\n",
       "      <td>0.9</td>\n",
       "      <td>1.9</td>\n",
       "      <td>2.83</td>\n",
       "      <td>1.2</td>\n",
       "      <td>1.9</td>\n",
       "      <td>3.02</td>\n",
       "      <td>0.0</td>\n",
       "      <td>0.0</td>\n",
       "      <td>0.00</td>\n",
       "      <td>Rhode Island&lt;br&gt;Beef 0.1 Dairy 0.52&lt;br&gt;Fruits ...</td>\n",
       "    </tr>\n",
       "    <tr>\n",
       "      <th>39</th>\n",
       "      <td>SC</td>\n",
       "      <td>South Carolina</td>\n",
       "      <td>state</td>\n",
       "      <td>929.93</td>\n",
       "      <td>15.2</td>\n",
       "      <td>10.9</td>\n",
       "      <td>186.5</td>\n",
       "      <td>7.62</td>\n",
       "      <td>17.1</td>\n",
       "      <td>36.4</td>\n",
       "      <td>53.45</td>\n",
       "      <td>16.3</td>\n",
       "      <td>26.4</td>\n",
       "      <td>42.66</td>\n",
       "      <td>32.1</td>\n",
       "      <td>55.3</td>\n",
       "      <td>206.10</td>\n",
       "      <td>South Carolina&lt;br&gt;Beef 15.2 Dairy 7.62&lt;br&gt;Frui...</td>\n",
       "    </tr>\n",
       "    <tr>\n",
       "      <th>40</th>\n",
       "      <td>SD</td>\n",
       "      <td>South Dakota</td>\n",
       "      <td>state</td>\n",
       "      <td>3770.19</td>\n",
       "      <td>193.5</td>\n",
       "      <td>160.2</td>\n",
       "      <td>29.3</td>\n",
       "      <td>46.77</td>\n",
       "      <td>0.3</td>\n",
       "      <td>0.5</td>\n",
       "      <td>0.80</td>\n",
       "      <td>1.5</td>\n",
       "      <td>2.5</td>\n",
       "      <td>4.06</td>\n",
       "      <td>643.6</td>\n",
       "      <td>704.5</td>\n",
       "      <td>0.00</td>\n",
       "      <td>South Dakota&lt;br&gt;Beef 193.5 Dairy 46.77&lt;br&gt;Frui...</td>\n",
       "    </tr>\n",
       "    <tr>\n",
       "      <th>41</th>\n",
       "      <td>TN</td>\n",
       "      <td>Tennessee</td>\n",
       "      <td>state</td>\n",
       "      <td>1535.13</td>\n",
       "      <td>51.1</td>\n",
       "      <td>17.6</td>\n",
       "      <td>82.4</td>\n",
       "      <td>21.18</td>\n",
       "      <td>2.0</td>\n",
       "      <td>4.2</td>\n",
       "      <td>6.23</td>\n",
       "      <td>9.4</td>\n",
       "      <td>15.3</td>\n",
       "      <td>24.67</td>\n",
       "      <td>88.8</td>\n",
       "      <td>100.0</td>\n",
       "      <td>363.83</td>\n",
       "      <td>Tennessee&lt;br&gt;Beef 51.1 Dairy 21.18&lt;br&gt;Fruits 6...</td>\n",
       "    </tr>\n",
       "    <tr>\n",
       "      <th>42</th>\n",
       "      <td>TX</td>\n",
       "      <td>Texas</td>\n",
       "      <td>state</td>\n",
       "      <td>6648.22</td>\n",
       "      <td>961.0</td>\n",
       "      <td>42.7</td>\n",
       "      <td>339.2</td>\n",
       "      <td>240.55</td>\n",
       "      <td>31.9</td>\n",
       "      <td>68.0</td>\n",
       "      <td>99.90</td>\n",
       "      <td>43.9</td>\n",
       "      <td>71.3</td>\n",
       "      <td>115.23</td>\n",
       "      <td>167.2</td>\n",
       "      <td>309.7</td>\n",
       "      <td>2308.76</td>\n",
       "      <td>Texas&lt;br&gt;Beef 961.0 Dairy 240.55&lt;br&gt;Fruits 99....</td>\n",
       "    </tr>\n",
       "    <tr>\n",
       "      <th>43</th>\n",
       "      <td>UT</td>\n",
       "      <td>Utah</td>\n",
       "      <td>state</td>\n",
       "      <td>453.39</td>\n",
       "      <td>27.9</td>\n",
       "      <td>59.0</td>\n",
       "      <td>23.1</td>\n",
       "      <td>48.60</td>\n",
       "      <td>3.9</td>\n",
       "      <td>8.4</td>\n",
       "      <td>12.34</td>\n",
       "      <td>2.5</td>\n",
       "      <td>4.1</td>\n",
       "      <td>6.60</td>\n",
       "      <td>5.3</td>\n",
       "      <td>42.8</td>\n",
       "      <td>0.00</td>\n",
       "      <td>Utah&lt;br&gt;Beef 27.9 Dairy 48.6&lt;br&gt;Fruits 12.34 V...</td>\n",
       "    </tr>\n",
       "    <tr>\n",
       "      <th>44</th>\n",
       "      <td>VT</td>\n",
       "      <td>Vermont</td>\n",
       "      <td>state</td>\n",
       "      <td>180.14</td>\n",
       "      <td>6.2</td>\n",
       "      <td>0.2</td>\n",
       "      <td>0.9</td>\n",
       "      <td>65.98</td>\n",
       "      <td>2.6</td>\n",
       "      <td>5.4</td>\n",
       "      <td>8.01</td>\n",
       "      <td>1.5</td>\n",
       "      <td>2.5</td>\n",
       "      <td>4.05</td>\n",
       "      <td>0.0</td>\n",
       "      <td>0.0</td>\n",
       "      <td>0.00</td>\n",
       "      <td>Vermont&lt;br&gt;Beef 6.2 Dairy 65.98&lt;br&gt;Fruits 8.01...</td>\n",
       "    </tr>\n",
       "    <tr>\n",
       "      <th>45</th>\n",
       "      <td>VA</td>\n",
       "      <td>Virginia</td>\n",
       "      <td>state</td>\n",
       "      <td>1146.48</td>\n",
       "      <td>39.5</td>\n",
       "      <td>16.9</td>\n",
       "      <td>164.7</td>\n",
       "      <td>47.85</td>\n",
       "      <td>11.7</td>\n",
       "      <td>24.8</td>\n",
       "      <td>36.48</td>\n",
       "      <td>10.4</td>\n",
       "      <td>16.9</td>\n",
       "      <td>27.25</td>\n",
       "      <td>39.5</td>\n",
       "      <td>77.5</td>\n",
       "      <td>64.84</td>\n",
       "      <td>Virginia&lt;br&gt;Beef 39.5 Dairy 47.85&lt;br&gt;Fruits 36...</td>\n",
       "    </tr>\n",
       "    <tr>\n",
       "      <th>46</th>\n",
       "      <td>WA</td>\n",
       "      <td>Washington</td>\n",
       "      <td>state</td>\n",
       "      <td>3894.81</td>\n",
       "      <td>59.2</td>\n",
       "      <td>0.0</td>\n",
       "      <td>35.6</td>\n",
       "      <td>154.18</td>\n",
       "      <td>555.6</td>\n",
       "      <td>1183.0</td>\n",
       "      <td>1738.57</td>\n",
       "      <td>138.7</td>\n",
       "      <td>225.1</td>\n",
       "      <td>363.79</td>\n",
       "      <td>29.5</td>\n",
       "      <td>786.3</td>\n",
       "      <td>0.00</td>\n",
       "      <td>Washington&lt;br&gt;Beef 59.2 Dairy 154.18&lt;br&gt;Fruits...</td>\n",
       "    </tr>\n",
       "    <tr>\n",
       "      <th>47</th>\n",
       "      <td>WV</td>\n",
       "      <td>West Virginia</td>\n",
       "      <td>state</td>\n",
       "      <td>138.89</td>\n",
       "      <td>12.0</td>\n",
       "      <td>0.3</td>\n",
       "      <td>45.4</td>\n",
       "      <td>3.90</td>\n",
       "      <td>3.7</td>\n",
       "      <td>7.9</td>\n",
       "      <td>11.54</td>\n",
       "      <td>0.0</td>\n",
       "      <td>0.0</td>\n",
       "      <td>0.00</td>\n",
       "      <td>3.5</td>\n",
       "      <td>1.6</td>\n",
       "      <td>0.00</td>\n",
       "      <td>West Virginia&lt;br&gt;Beef 12.0 Dairy 3.9&lt;br&gt;Fruits...</td>\n",
       "    </tr>\n",
       "    <tr>\n",
       "      <th>48</th>\n",
       "      <td>WI</td>\n",
       "      <td>Wisconsin</td>\n",
       "      <td>state</td>\n",
       "      <td>3090.23</td>\n",
       "      <td>107.3</td>\n",
       "      <td>38.6</td>\n",
       "      <td>34.5</td>\n",
       "      <td>633.60</td>\n",
       "      <td>42.8</td>\n",
       "      <td>91.0</td>\n",
       "      <td>133.80</td>\n",
       "      <td>56.8</td>\n",
       "      <td>92.2</td>\n",
       "      <td>148.99</td>\n",
       "      <td>460.5</td>\n",
       "      <td>96.7</td>\n",
       "      <td>0.00</td>\n",
       "      <td>Wisconsin&lt;br&gt;Beef 107.3 Dairy 633.6&lt;br&gt;Fruits ...</td>\n",
       "    </tr>\n",
       "    <tr>\n",
       "      <th>49</th>\n",
       "      <td>WY</td>\n",
       "      <td>Wyoming</td>\n",
       "      <td>state</td>\n",
       "      <td>349.69</td>\n",
       "      <td>75.1</td>\n",
       "      <td>33.2</td>\n",
       "      <td>0.1</td>\n",
       "      <td>2.89</td>\n",
       "      <td>0.1</td>\n",
       "      <td>0.1</td>\n",
       "      <td>0.17</td>\n",
       "      <td>3.9</td>\n",
       "      <td>6.3</td>\n",
       "      <td>10.23</td>\n",
       "      <td>9.0</td>\n",
       "      <td>20.7</td>\n",
       "      <td>0.00</td>\n",
       "      <td>Wyoming&lt;br&gt;Beef 75.1 Dairy 2.89&lt;br&gt;Fruits 0.17...</td>\n",
       "    </tr>\n",
       "  </tbody>\n",
       "</table>\n",
       "</div>"
      ],
      "text/plain": [
       "   code           state category  total exports   beef    pork  poultry  \\\n",
       "0    AL         Alabama    state        1390.63   34.4    10.6    481.0   \n",
       "1    AK          Alaska    state          13.31    0.2     0.1      0.0   \n",
       "2    AZ         Arizona    state        1463.17   71.3    17.9      0.0   \n",
       "3    AR        Arkansas    state        3586.02   53.2    29.4    562.9   \n",
       "4    CA      California    state       16472.88  228.7    11.1    225.4   \n",
       "5    CO        Colorado    state        1851.33  261.4    66.0     14.0   \n",
       "6    CT     Connecticut    state         259.62    1.1     0.1      6.9   \n",
       "7    DE        Delaware    state         282.19    0.4     0.6    114.7   \n",
       "8    FL         Florida    state        3764.09   42.6     0.9     56.9   \n",
       "9    GA         Georgia    state        2860.84   31.0    18.9    630.4   \n",
       "10   HI          Hawaii    state         401.84    4.0     0.7      1.3   \n",
       "11   ID           Idaho    state        2078.89  119.8     0.0      2.4   \n",
       "12   IL        Illinois    state        8709.48   53.7   394.0     14.0   \n",
       "13   IN         Indiana    state        5050.23   21.9   341.9    165.6   \n",
       "14   IA            Iowa    state       11273.76  289.8  1895.6    155.6   \n",
       "15   KS          Kansas    state        4589.01  659.3   179.4      6.4   \n",
       "16   KY        Kentucky    state        1889.15   54.8    34.2    151.3   \n",
       "17   LA       Louisiana    state        1914.23   19.8     0.8     77.2   \n",
       "18   ME           Maine    state         278.37    1.4     0.5     10.4   \n",
       "19   MD        Maryland    state         692.75    5.6     3.1    127.0   \n",
       "20   MA   Massachusetts    state         248.65    0.6     0.5      0.6   \n",
       "21   MI        Michigan    state        3164.16   37.7   118.1     32.6   \n",
       "22   MN       Minnesota    state        7192.33  112.3   740.4    189.2   \n",
       "23   MS     Mississippi    state        2170.80   12.8    30.4    370.8   \n",
       "24   MO        Missouri    state        3933.42  137.2   277.3    196.1   \n",
       "25   MT         Montana    state        1718.00  105.0    16.7      1.7   \n",
       "26   NE        Nebraska    state        7114.13  762.2   262.5     31.4   \n",
       "27   NV          Nevada    state         139.89   21.8     0.2      0.0   \n",
       "28   NH   New Hampshire    state          73.06    0.6     0.2      0.8   \n",
       "29   NJ      New Jersey    state         500.40    0.8     0.4      4.6   \n",
       "30   NM      New Mexico    state         751.58  117.2     0.1      0.3   \n",
       "31   NY        New York    state        1488.90   22.2     5.8     17.7   \n",
       "32   NC  North Carolina    state        3806.05   24.8   702.8    598.4   \n",
       "33   ND    North Dakota    state        3761.96   78.5    16.1      0.5   \n",
       "34   OH            Ohio    state        3979.79   36.2   199.1    129.9   \n",
       "35   OK        Oklahoma    state        1646.41  337.6   265.3    131.1   \n",
       "36   OR          Oregon    state        1794.57   58.8     1.4     14.2   \n",
       "37   PA    Pennsylvania    state        1969.87   50.9    91.3    169.8   \n",
       "38   RI    Rhode Island    state          31.59    0.1     0.1      0.2   \n",
       "39   SC  South Carolina    state         929.93   15.2    10.9    186.5   \n",
       "40   SD    South Dakota    state        3770.19  193.5   160.2     29.3   \n",
       "41   TN       Tennessee    state        1535.13   51.1    17.6     82.4   \n",
       "42   TX           Texas    state        6648.22  961.0    42.7    339.2   \n",
       "43   UT            Utah    state         453.39   27.9    59.0     23.1   \n",
       "44   VT         Vermont    state         180.14    6.2     0.2      0.9   \n",
       "45   VA        Virginia    state        1146.48   39.5    16.9    164.7   \n",
       "46   WA      Washington    state        3894.81   59.2     0.0     35.6   \n",
       "47   WV   West Virginia    state         138.89   12.0     0.3     45.4   \n",
       "48   WI       Wisconsin    state        3090.23  107.3    38.6     34.5   \n",
       "49   WY         Wyoming    state         349.69   75.1    33.2      0.1   \n",
       "\n",
       "     dairy  fruits fresh  fruits proc  total fruits  veggies fresh  \\\n",
       "0     4.06           8.0         17.1         25.11            5.5   \n",
       "1     0.19           0.0          0.0          0.00            0.6   \n",
       "2   105.48          19.3         41.0         60.27          147.5   \n",
       "3     3.53           2.2          4.7          6.88            4.4   \n",
       "4   929.95        2791.8       5944.6       8736.40          803.2   \n",
       "5    71.94           5.7         12.2         17.99           45.1   \n",
       "6     9.49           4.2          8.9         13.10            4.3   \n",
       "7     2.30           0.5          1.0          1.53            7.6   \n",
       "8    66.31         438.2        933.1       1371.36          171.9   \n",
       "9    38.38          74.6        158.9        233.51           59.0   \n",
       "10    1.16          17.7         37.8         55.51            9.5   \n",
       "11  294.60           6.9         14.7         21.64          121.7   \n",
       "12   45.82           4.0          8.5         12.53           15.2   \n",
       "13   89.70           4.1          8.8         12.98           14.4   \n",
       "14  107.00           1.0          2.2          3.24            2.7   \n",
       "15   65.45           1.0          2.1          3.11            3.6   \n",
       "16   28.27           2.1          4.5          6.60            0.0   \n",
       "17    6.02           5.7         12.1         17.83            6.6   \n",
       "18   16.18          16.6         35.4         52.01           24.0   \n",
       "19   24.81           4.1          8.8         12.90            7.8   \n",
       "20    5.81          25.8         55.0         80.83            8.1   \n",
       "21  214.82          82.3        175.3        257.69           72.4   \n",
       "22  218.05           2.5          5.4          7.91           45.9   \n",
       "23    5.45           5.4         11.6         17.04           10.6   \n",
       "24   34.26           4.2          9.0         13.18            6.8   \n",
       "25    6.82           1.1          2.2          3.30           17.3   \n",
       "26   30.07           0.7          1.5          2.16           20.4   \n",
       "27   16.57           0.4          0.8          1.19           10.6   \n",
       "28    7.46           2.6          5.4          7.98            1.7   \n",
       "29    3.37          35.0         74.5        109.45           21.6   \n",
       "30  191.01          32.6         69.3        101.90           16.7   \n",
       "31  331.80          64.7        137.8        202.56           54.7   \n",
       "32   24.90          23.8         50.7         74.47           57.4   \n",
       "33    8.14           0.1          0.2          0.25           49.9   \n",
       "34  134.57           8.7         18.5         27.21           20.4   \n",
       "35   24.35           3.0          6.3          9.24            3.4   \n",
       "36   63.66         100.7        214.4        315.04           48.2   \n",
       "37  280.87          28.6         60.9         89.48           14.6   \n",
       "38    0.52           0.9          1.9          2.83            1.2   \n",
       "39    7.62          17.1         36.4         53.45           16.3   \n",
       "40   46.77           0.3          0.5          0.80            1.5   \n",
       "41   21.18           2.0          4.2          6.23            9.4   \n",
       "42  240.55          31.9         68.0         99.90           43.9   \n",
       "43   48.60           3.9          8.4         12.34            2.5   \n",
       "44   65.98           2.6          5.4          8.01            1.5   \n",
       "45   47.85          11.7         24.8         36.48           10.4   \n",
       "46  154.18         555.6       1183.0       1738.57          138.7   \n",
       "47    3.90           3.7          7.9         11.54            0.0   \n",
       "48  633.60          42.8         91.0        133.80           56.8   \n",
       "49    2.89           0.1          0.1          0.17            3.9   \n",
       "\n",
       "    veggies proc  total veggies    corn   wheat   cotton  \\\n",
       "0            8.9          14.33    34.9    70.0   317.61   \n",
       "1            1.0           1.56     0.0     0.0     0.00   \n",
       "2          239.4         386.91     7.3    48.7   423.95   \n",
       "3            7.1          11.45    69.5   114.5   665.44   \n",
       "4         1303.5        2106.79    34.6   249.3  1064.95   \n",
       "5           73.2         118.27   183.2   400.5     0.00   \n",
       "6            6.9          11.16     0.0     0.0     0.00   \n",
       "7           12.4          20.03    26.9    22.9     0.00   \n",
       "8          279.0         450.86     3.5     1.8    78.24   \n",
       "9           95.8         154.77    57.8    65.4  1154.07   \n",
       "10          15.4          24.83     0.0     0.0     0.00   \n",
       "11         197.5         319.19    24.0   568.2     0.00   \n",
       "12          24.7          39.95  2228.5   223.8     0.00   \n",
       "13          23.4          37.89  1123.2   114.0     0.00   \n",
       "14           4.4           7.10  2529.8     3.1     0.00   \n",
       "15           5.8           9.32   457.3  1426.5    43.98   \n",
       "16           0.0           0.00   179.1   149.3     0.00   \n",
       "17          10.7          17.25    91.4    78.7   280.42   \n",
       "18          38.9          62.90     0.0     0.0     0.00   \n",
       "19          12.6          20.43    54.1    55.8     0.00   \n",
       "20          13.1          21.13     0.0     0.0     0.00   \n",
       "21         117.5         189.96   381.5   247.0     0.00   \n",
       "22          74.5         120.37  1264.3   538.1     0.00   \n",
       "23          17.2          27.87   110.0   102.2   494.75   \n",
       "24          11.1          17.90   428.8   161.7   345.29   \n",
       "25          28.0          45.27     5.4  1198.1     0.00   \n",
       "26          33.1          53.50  1735.9   292.3     0.00   \n",
       "27          17.3          27.93     0.0     5.4     0.00   \n",
       "28           2.8           4.50     0.0     0.0     0.00   \n",
       "29          35.0          56.54    10.1     6.7     0.00   \n",
       "30          27.1          43.88    11.2    13.9    72.62   \n",
       "31          88.7         143.37   106.1    29.9     0.00   \n",
       "32          93.1         150.45    92.2   200.3   470.86   \n",
       "33          80.9         130.79   236.1  1664.5     0.00   \n",
       "34          33.1          53.53   535.1   207.4     0.00   \n",
       "35           5.5           8.90    27.5   324.8   110.54   \n",
       "36          78.3         126.50    11.7   320.3     0.00   \n",
       "37          23.7          38.26   112.1    41.0     0.00   \n",
       "38           1.9           3.02     0.0     0.0     0.00   \n",
       "39          26.4          42.66    32.1    55.3   206.10   \n",
       "40           2.5           4.06   643.6   704.5     0.00   \n",
       "41          15.3          24.67    88.8   100.0   363.83   \n",
       "42          71.3         115.23   167.2   309.7  2308.76   \n",
       "43           4.1           6.60     5.3    42.8     0.00   \n",
       "44           2.5           4.05     0.0     0.0     0.00   \n",
       "45          16.9          27.25    39.5    77.5    64.84   \n",
       "46         225.1         363.79    29.5   786.3     0.00   \n",
       "47           0.0           0.00     3.5     1.6     0.00   \n",
       "48          92.2         148.99   460.5    96.7     0.00   \n",
       "49           6.3          10.23     9.0    20.7     0.00   \n",
       "\n",
       "                                                 text  \n",
       "0   Alabama<br>Beef 34.4 Dairy 4.06<br>Fruits 25.1...  \n",
       "1   Alaska<br>Beef 0.2 Dairy 0.19<br>Fruits 0.0 Ve...  \n",
       "2   Arizona<br>Beef 71.3 Dairy 105.48<br>Fruits 60...  \n",
       "3   Arkansas<br>Beef 53.2 Dairy 3.53<br>Fruits 6.8...  \n",
       "4    California<br>Beef 228.7 Dairy 929.95<br>Frui...  \n",
       "5   Colorado<br>Beef 261.4 Dairy 71.94<br>Fruits 1...  \n",
       "6   Connecticut<br>Beef 1.1 Dairy 9.49<br>Fruits 1...  \n",
       "7   Delaware<br>Beef 0.4 Dairy 2.3<br>Fruits 1.53 ...  \n",
       "8   Florida<br>Beef 42.6 Dairy 66.31<br>Fruits 137...  \n",
       "9   Georgia<br>Beef 31.0 Dairy 38.38<br>Fruits 233...  \n",
       "10  Hawaii<br>Beef 4.0 Dairy 1.16<br>Fruits 55.51 ...  \n",
       "11  Idaho<br>Beef 119.8 Dairy 294.6<br>Fruits 21.6...  \n",
       "12  Illinois<br>Beef 53.7 Dairy 45.82<br>Fruits 12...  \n",
       "13  Indiana<br>Beef 21.9 Dairy 89.7<br>Fruits 12.9...  \n",
       "14  Iowa<br>Beef 289.8 Dairy 107.0<br>Fruits 3.24 ...  \n",
       "15  Kansas<br>Beef 659.3 Dairy 65.45<br>Fruits 3.1...  \n",
       "16  Kentucky<br>Beef 54.8 Dairy 28.27<br>Fruits 6....  \n",
       "17  Louisiana<br>Beef 19.8 Dairy 6.02<br>Fruits 17...  \n",
       "18  Maine<br>Beef 1.4 Dairy 16.18<br>Fruits 52.01 ...  \n",
       "19  Maryland<br>Beef 5.6 Dairy 24.81<br>Fruits 12....  \n",
       "20  Massachusetts<br>Beef 0.6 Dairy 5.81<br>Fruits...  \n",
       "21  Michigan<br>Beef 37.7 Dairy 214.82<br>Fruits 2...  \n",
       "22  Minnesota<br>Beef 112.3 Dairy 218.05<br>Fruits...  \n",
       "23  Mississippi<br>Beef 12.8 Dairy 5.45<br>Fruits ...  \n",
       "24  Missouri<br>Beef 137.2 Dairy 34.26<br>Fruits 1...  \n",
       "25  Montana<br>Beef 105.0 Dairy 6.82<br>Fruits 3.3...  \n",
       "26  Nebraska<br>Beef 762.2 Dairy 30.07<br>Fruits 2...  \n",
       "27  Nevada<br>Beef 21.8 Dairy 16.57<br>Fruits 1.19...  \n",
       "28  New Hampshire<br>Beef 0.6 Dairy 7.46<br>Fruits...  \n",
       "29  New Jersey<br>Beef 0.8 Dairy 3.37<br>Fruits 10...  \n",
       "30  New Mexico<br>Beef 117.2 Dairy 191.01<br>Fruit...  \n",
       "31  New York<br>Beef 22.2 Dairy 331.8<br>Fruits 20...  \n",
       "32  North Carolina<br>Beef 24.8 Dairy 24.9<br>Frui...  \n",
       "33  North Dakota<br>Beef 78.5 Dairy 8.14<br>Fruits...  \n",
       "34  Ohio<br>Beef 36.2 Dairy 134.57<br>Fruits 27.21...  \n",
       "35  Oklahoma<br>Beef 337.6 Dairy 24.35<br>Fruits 9...  \n",
       "36  Oregon<br>Beef 58.8 Dairy 63.66<br>Fruits 315....  \n",
       "37  Pennsylvania<br>Beef 50.9 Dairy 280.87<br>Frui...  \n",
       "38  Rhode Island<br>Beef 0.1 Dairy 0.52<br>Fruits ...  \n",
       "39  South Carolina<br>Beef 15.2 Dairy 7.62<br>Frui...  \n",
       "40  South Dakota<br>Beef 193.5 Dairy 46.77<br>Frui...  \n",
       "41  Tennessee<br>Beef 51.1 Dairy 21.18<br>Fruits 6...  \n",
       "42  Texas<br>Beef 961.0 Dairy 240.55<br>Fruits 99....  \n",
       "43  Utah<br>Beef 27.9 Dairy 48.6<br>Fruits 12.34 V...  \n",
       "44  Vermont<br>Beef 6.2 Dairy 65.98<br>Fruits 8.01...  \n",
       "45  Virginia<br>Beef 39.5 Dairy 47.85<br>Fruits 36...  \n",
       "46  Washington<br>Beef 59.2 Dairy 154.18<br>Fruits...  \n",
       "47  West Virginia<br>Beef 12.0 Dairy 3.9<br>Fruits...  \n",
       "48  Wisconsin<br>Beef 107.3 Dairy 633.6<br>Fruits ...  \n",
       "49  Wyoming<br>Beef 75.1 Dairy 2.89<br>Fruits 0.17...  "
      ]
     },
     "execution_count": 5,
     "metadata": {},
     "output_type": "execute_result"
    }
   ],
   "source": [
    "exp"
   ]
  },
  {
   "cell_type": "code",
   "execution_count": 6,
   "id": "ad6da422",
   "metadata": {},
   "outputs": [
    {
     "data": {
      "text/html": [
       "<div>\n",
       "<style scoped>\n",
       "    .dataframe tbody tr th:only-of-type {\n",
       "        vertical-align: middle;\n",
       "    }\n",
       "\n",
       "    .dataframe tbody tr th {\n",
       "        vertical-align: top;\n",
       "    }\n",
       "\n",
       "    .dataframe thead th {\n",
       "        text-align: right;\n",
       "    }\n",
       "</style>\n",
       "<table border=\"1\" class=\"dataframe\">\n",
       "  <thead>\n",
       "    <tr style=\"text-align: right;\">\n",
       "      <th></th>\n",
       "      <th>total exports</th>\n",
       "      <th>beef</th>\n",
       "      <th>pork</th>\n",
       "      <th>poultry</th>\n",
       "      <th>dairy</th>\n",
       "      <th>fruits fresh</th>\n",
       "      <th>fruits proc</th>\n",
       "      <th>total fruits</th>\n",
       "      <th>veggies fresh</th>\n",
       "      <th>veggies proc</th>\n",
       "      <th>total veggies</th>\n",
       "      <th>corn</th>\n",
       "      <th>wheat</th>\n",
       "      <th>cotton</th>\n",
       "    </tr>\n",
       "  </thead>\n",
       "  <tbody>\n",
       "    <tr>\n",
       "      <th>count</th>\n",
       "      <td>50.000000</td>\n",
       "      <td>50.000000</td>\n",
       "      <td>50.000000</td>\n",
       "      <td>50.000000</td>\n",
       "      <td>50.000000</td>\n",
       "      <td>50.00000</td>\n",
       "      <td>50.000000</td>\n",
       "      <td>50.00000</td>\n",
       "      <td>50.000000</td>\n",
       "      <td>50.000000</td>\n",
       "      <td>50.000000</td>\n",
       "      <td>50.000000</td>\n",
       "      <td>50.000000</td>\n",
       "      <td>50.00000</td>\n",
       "    </tr>\n",
       "    <tr>\n",
       "      <th>mean</th>\n",
       "      <td>2728.889000</td>\n",
       "      <td>108.394000</td>\n",
       "      <td>122.282000</td>\n",
       "      <td>112.700000</td>\n",
       "      <td>95.725200</td>\n",
       "      <td>90.05000</td>\n",
       "      <td>191.736000</td>\n",
       "      <td>281.79000</td>\n",
       "      <td>44.428000</td>\n",
       "      <td>72.102000</td>\n",
       "      <td>116.523800</td>\n",
       "      <td>273.042000</td>\n",
       "      <td>222.824000</td>\n",
       "      <td>169.32500</td>\n",
       "    </tr>\n",
       "    <tr>\n",
       "      <th>std</th>\n",
       "      <td>3144.837608</td>\n",
       "      <td>193.762904</td>\n",
       "      <td>303.492907</td>\n",
       "      <td>162.878644</td>\n",
       "      <td>168.016886</td>\n",
       "      <td>402.16488</td>\n",
       "      <td>856.334256</td>\n",
       "      <td>1258.49891</td>\n",
       "      <td>116.513625</td>\n",
       "      <td>189.088833</td>\n",
       "      <td>305.615222</td>\n",
       "      <td>556.824919</td>\n",
       "      <td>362.291291</td>\n",
       "      <td>402.92782</td>\n",
       "    </tr>\n",
       "    <tr>\n",
       "      <th>min</th>\n",
       "      <td>13.310000</td>\n",
       "      <td>0.100000</td>\n",
       "      <td>0.000000</td>\n",
       "      <td>0.000000</td>\n",
       "      <td>0.190000</td>\n",
       "      <td>0.00000</td>\n",
       "      <td>0.000000</td>\n",
       "      <td>0.00000</td>\n",
       "      <td>0.000000</td>\n",
       "      <td>0.000000</td>\n",
       "      <td>0.000000</td>\n",
       "      <td>0.000000</td>\n",
       "      <td>0.000000</td>\n",
       "      <td>0.00000</td>\n",
       "    </tr>\n",
       "    <tr>\n",
       "      <th>25%</th>\n",
       "      <td>465.142500</td>\n",
       "      <td>13.400000</td>\n",
       "      <td>0.525000</td>\n",
       "      <td>2.950000</td>\n",
       "      <td>6.980000</td>\n",
       "      <td>2.12500</td>\n",
       "      <td>4.550000</td>\n",
       "      <td>6.67000</td>\n",
       "      <td>4.325000</td>\n",
       "      <td>6.950000</td>\n",
       "      <td>11.232500</td>\n",
       "      <td>5.875000</td>\n",
       "      <td>8.500000</td>\n",
       "      <td>0.00000</td>\n",
       "    </tr>\n",
       "    <tr>\n",
       "      <th>50%</th>\n",
       "      <td>1822.950000</td>\n",
       "      <td>41.050000</td>\n",
       "      <td>16.800000</td>\n",
       "      <td>33.550000</td>\n",
       "      <td>32.165000</td>\n",
       "      <td>4.80000</td>\n",
       "      <td>10.300000</td>\n",
       "      <td>15.11000</td>\n",
       "      <td>12.500000</td>\n",
       "      <td>20.350000</td>\n",
       "      <td>32.910000</td>\n",
       "      <td>37.200000</td>\n",
       "      <td>78.100000</td>\n",
       "      <td>0.00000</td>\n",
       "    </tr>\n",
       "    <tr>\n",
       "      <th>75%</th>\n",
       "      <td>3768.665000</td>\n",
       "      <td>106.725000</td>\n",
       "      <td>84.975000</td>\n",
       "      <td>162.425000</td>\n",
       "      <td>101.535000</td>\n",
       "      <td>25.30000</td>\n",
       "      <td>53.925000</td>\n",
       "      <td>79.24000</td>\n",
       "      <td>45.700000</td>\n",
       "      <td>74.175000</td>\n",
       "      <td>119.845000</td>\n",
       "      <td>182.175000</td>\n",
       "      <td>248.725000</td>\n",
       "      <td>102.46500</td>\n",
       "    </tr>\n",
       "    <tr>\n",
       "      <th>max</th>\n",
       "      <td>16472.880000</td>\n",
       "      <td>961.000000</td>\n",
       "      <td>1895.600000</td>\n",
       "      <td>630.400000</td>\n",
       "      <td>929.950000</td>\n",
       "      <td>2791.80000</td>\n",
       "      <td>5944.600000</td>\n",
       "      <td>8736.40000</td>\n",
       "      <td>803.200000</td>\n",
       "      <td>1303.500000</td>\n",
       "      <td>2106.790000</td>\n",
       "      <td>2529.800000</td>\n",
       "      <td>1664.500000</td>\n",
       "      <td>2308.76000</td>\n",
       "    </tr>\n",
       "  </tbody>\n",
       "</table>\n",
       "</div>"
      ],
      "text/plain": [
       "       total exports        beef         pork     poultry       dairy  \\\n",
       "count      50.000000   50.000000    50.000000   50.000000   50.000000   \n",
       "mean     2728.889000  108.394000   122.282000  112.700000   95.725200   \n",
       "std      3144.837608  193.762904   303.492907  162.878644  168.016886   \n",
       "min        13.310000    0.100000     0.000000    0.000000    0.190000   \n",
       "25%       465.142500   13.400000     0.525000    2.950000    6.980000   \n",
       "50%      1822.950000   41.050000    16.800000   33.550000   32.165000   \n",
       "75%      3768.665000  106.725000    84.975000  162.425000  101.535000   \n",
       "max     16472.880000  961.000000  1895.600000  630.400000  929.950000   \n",
       "\n",
       "       fruits fresh  fruits proc  total fruits  veggies fresh  veggies proc  \\\n",
       "count      50.00000    50.000000      50.00000      50.000000     50.000000   \n",
       "mean       90.05000   191.736000     281.79000      44.428000     72.102000   \n",
       "std       402.16488   856.334256    1258.49891     116.513625    189.088833   \n",
       "min         0.00000     0.000000       0.00000       0.000000      0.000000   \n",
       "25%         2.12500     4.550000       6.67000       4.325000      6.950000   \n",
       "50%         4.80000    10.300000      15.11000      12.500000     20.350000   \n",
       "75%        25.30000    53.925000      79.24000      45.700000     74.175000   \n",
       "max      2791.80000  5944.600000    8736.40000     803.200000   1303.500000   \n",
       "\n",
       "       total veggies         corn        wheat      cotton  \n",
       "count      50.000000    50.000000    50.000000    50.00000  \n",
       "mean      116.523800   273.042000   222.824000   169.32500  \n",
       "std       305.615222   556.824919   362.291291   402.92782  \n",
       "min         0.000000     0.000000     0.000000     0.00000  \n",
       "25%        11.232500     5.875000     8.500000     0.00000  \n",
       "50%        32.910000    37.200000    78.100000     0.00000  \n",
       "75%       119.845000   182.175000   248.725000   102.46500  \n",
       "max      2106.790000  2529.800000  1664.500000  2308.76000  "
      ]
     },
     "execution_count": 6,
     "metadata": {},
     "output_type": "execute_result"
    }
   ],
   "source": [
    "exp.describe()"
   ]
  },
  {
   "cell_type": "code",
   "execution_count": 7,
   "id": "d3d8f0d6",
   "metadata": {},
   "outputs": [
    {
     "name": "stderr",
     "output_type": "stream",
     "text": [
      "C:\\Users\\USER\\AppData\\Local\\Temp\\ipykernel_5484\\1029250583.py:1: FutureWarning:\n",
      "\n",
      "The default value of numeric_only in DataFrame.corr is deprecated. In a future version, it will default to False. Select only valid columns or specify the value of numeric_only to silence this warning.\n",
      "\n"
     ]
    },
    {
     "data": {
      "text/html": [
       "<div>\n",
       "<style scoped>\n",
       "    .dataframe tbody tr th:only-of-type {\n",
       "        vertical-align: middle;\n",
       "    }\n",
       "\n",
       "    .dataframe tbody tr th {\n",
       "        vertical-align: top;\n",
       "    }\n",
       "\n",
       "    .dataframe thead th {\n",
       "        text-align: right;\n",
       "    }\n",
       "</style>\n",
       "<table border=\"1\" class=\"dataframe\">\n",
       "  <thead>\n",
       "    <tr style=\"text-align: right;\">\n",
       "      <th></th>\n",
       "      <th>total exports</th>\n",
       "      <th>beef</th>\n",
       "      <th>pork</th>\n",
       "      <th>poultry</th>\n",
       "      <th>dairy</th>\n",
       "      <th>fruits fresh</th>\n",
       "      <th>fruits proc</th>\n",
       "      <th>total fruits</th>\n",
       "      <th>veggies fresh</th>\n",
       "      <th>veggies proc</th>\n",
       "      <th>total veggies</th>\n",
       "      <th>corn</th>\n",
       "      <th>wheat</th>\n",
       "      <th>cotton</th>\n",
       "    </tr>\n",
       "  </thead>\n",
       "  <tbody>\n",
       "    <tr>\n",
       "      <th>total exports</th>\n",
       "      <td>1.000000</td>\n",
       "      <td>0.458794</td>\n",
       "      <td>0.540014</td>\n",
       "      <td>0.245310</td>\n",
       "      <td>0.582472</td>\n",
       "      <td>0.631087</td>\n",
       "      <td>0.631103</td>\n",
       "      <td>0.631101</td>\n",
       "      <td>0.635084</td>\n",
       "      <td>0.635107</td>\n",
       "      <td>0.635120</td>\n",
       "      <td>0.631140</td>\n",
       "      <td>0.235126</td>\n",
       "      <td>0.368125</td>\n",
       "    </tr>\n",
       "    <tr>\n",
       "      <th>beef</th>\n",
       "      <td>0.458794</td>\n",
       "      <td>1.000000</td>\n",
       "      <td>0.204522</td>\n",
       "      <td>0.052795</td>\n",
       "      <td>0.179425</td>\n",
       "      <td>0.069559</td>\n",
       "      <td>0.069565</td>\n",
       "      <td>0.069561</td>\n",
       "      <td>0.083844</td>\n",
       "      <td>0.083865</td>\n",
       "      <td>0.083863</td>\n",
       "      <td>0.325479</td>\n",
       "      <td>0.355487</td>\n",
       "      <td>0.478439</td>\n",
       "    </tr>\n",
       "    <tr>\n",
       "      <th>pork</th>\n",
       "      <td>0.540014</td>\n",
       "      <td>0.204522</td>\n",
       "      <td>1.000000</td>\n",
       "      <td>0.187752</td>\n",
       "      <td>0.010602</td>\n",
       "      <td>-0.079007</td>\n",
       "      <td>-0.078988</td>\n",
       "      <td>-0.078990</td>\n",
       "      <td>-0.078251</td>\n",
       "      <td>-0.078237</td>\n",
       "      <td>-0.078232</td>\n",
       "      <td>0.770032</td>\n",
       "      <td>0.014054</td>\n",
       "      <td>-0.064012</td>\n",
       "    </tr>\n",
       "    <tr>\n",
       "      <th>poultry</th>\n",
       "      <td>0.245310</td>\n",
       "      <td>0.052795</td>\n",
       "      <td>0.187752</td>\n",
       "      <td>1.000000</td>\n",
       "      <td>0.011617</td>\n",
       "      <td>0.083640</td>\n",
       "      <td>0.083670</td>\n",
       "      <td>0.083659</td>\n",
       "      <td>0.081216</td>\n",
       "      <td>0.081215</td>\n",
       "      <td>0.081201</td>\n",
       "      <td>-0.019033</td>\n",
       "      <td>-0.138554</td>\n",
       "      <td>0.614722</td>\n",
       "    </tr>\n",
       "    <tr>\n",
       "      <th>dairy</th>\n",
       "      <td>0.582472</td>\n",
       "      <td>0.179425</td>\n",
       "      <td>0.010602</td>\n",
       "      <td>0.011617</td>\n",
       "      <td>1.000000</td>\n",
       "      <td>0.720998</td>\n",
       "      <td>0.720993</td>\n",
       "      <td>0.720999</td>\n",
       "      <td>0.766206</td>\n",
       "      <td>0.766219</td>\n",
       "      <td>0.766228</td>\n",
       "      <td>0.044129</td>\n",
       "      <td>0.027174</td>\n",
       "      <td>0.269166</td>\n",
       "    </tr>\n",
       "    <tr>\n",
       "      <th>fruits fresh</th>\n",
       "      <td>0.631087</td>\n",
       "      <td>0.069559</td>\n",
       "      <td>-0.079007</td>\n",
       "      <td>0.083640</td>\n",
       "      <td>0.720998</td>\n",
       "      <td>1.000000</td>\n",
       "      <td>1.000000</td>\n",
       "      <td>1.000000</td>\n",
       "      <td>0.969611</td>\n",
       "      <td>0.969612</td>\n",
       "      <td>0.969613</td>\n",
       "      <td>-0.091823</td>\n",
       "      <td>0.032449</td>\n",
       "      <td>0.307506</td>\n",
       "    </tr>\n",
       "    <tr>\n",
       "      <th>fruits proc</th>\n",
       "      <td>0.631103</td>\n",
       "      <td>0.069565</td>\n",
       "      <td>-0.078988</td>\n",
       "      <td>0.083670</td>\n",
       "      <td>0.720993</td>\n",
       "      <td>1.000000</td>\n",
       "      <td>1.000000</td>\n",
       "      <td>1.000000</td>\n",
       "      <td>0.969612</td>\n",
       "      <td>0.969612</td>\n",
       "      <td>0.969614</td>\n",
       "      <td>-0.091808</td>\n",
       "      <td>0.032436</td>\n",
       "      <td>0.307524</td>\n",
       "    </tr>\n",
       "    <tr>\n",
       "      <th>total fruits</th>\n",
       "      <td>0.631101</td>\n",
       "      <td>0.069561</td>\n",
       "      <td>-0.078990</td>\n",
       "      <td>0.083659</td>\n",
       "      <td>0.720999</td>\n",
       "      <td>1.000000</td>\n",
       "      <td>1.000000</td>\n",
       "      <td>1.000000</td>\n",
       "      <td>0.969613</td>\n",
       "      <td>0.969613</td>\n",
       "      <td>0.969614</td>\n",
       "      <td>-0.091808</td>\n",
       "      <td>0.032436</td>\n",
       "      <td>0.307517</td>\n",
       "    </tr>\n",
       "    <tr>\n",
       "      <th>veggies fresh</th>\n",
       "      <td>0.635084</td>\n",
       "      <td>0.083844</td>\n",
       "      <td>-0.078251</td>\n",
       "      <td>0.081216</td>\n",
       "      <td>0.766206</td>\n",
       "      <td>0.969611</td>\n",
       "      <td>0.969612</td>\n",
       "      <td>0.969613</td>\n",
       "      <td>1.000000</td>\n",
       "      <td>1.000000</td>\n",
       "      <td>1.000000</td>\n",
       "      <td>-0.094406</td>\n",
       "      <td>0.066485</td>\n",
       "      <td>0.336901</td>\n",
       "    </tr>\n",
       "    <tr>\n",
       "      <th>veggies proc</th>\n",
       "      <td>0.635107</td>\n",
       "      <td>0.083865</td>\n",
       "      <td>-0.078237</td>\n",
       "      <td>0.081215</td>\n",
       "      <td>0.766219</td>\n",
       "      <td>0.969612</td>\n",
       "      <td>0.969612</td>\n",
       "      <td>0.969613</td>\n",
       "      <td>1.000000</td>\n",
       "      <td>1.000000</td>\n",
       "      <td>1.000000</td>\n",
       "      <td>-0.094371</td>\n",
       "      <td>0.066428</td>\n",
       "      <td>0.336941</td>\n",
       "    </tr>\n",
       "    <tr>\n",
       "      <th>total veggies</th>\n",
       "      <td>0.635120</td>\n",
       "      <td>0.083863</td>\n",
       "      <td>-0.078232</td>\n",
       "      <td>0.081201</td>\n",
       "      <td>0.766228</td>\n",
       "      <td>0.969613</td>\n",
       "      <td>0.969614</td>\n",
       "      <td>0.969614</td>\n",
       "      <td>1.000000</td>\n",
       "      <td>1.000000</td>\n",
       "      <td>1.000000</td>\n",
       "      <td>-0.094347</td>\n",
       "      <td>0.066438</td>\n",
       "      <td>0.336929</td>\n",
       "    </tr>\n",
       "    <tr>\n",
       "      <th>corn</th>\n",
       "      <td>0.631140</td>\n",
       "      <td>0.325479</td>\n",
       "      <td>0.770032</td>\n",
       "      <td>-0.019033</td>\n",
       "      <td>0.044129</td>\n",
       "      <td>-0.091823</td>\n",
       "      <td>-0.091808</td>\n",
       "      <td>-0.091808</td>\n",
       "      <td>-0.094406</td>\n",
       "      <td>-0.094371</td>\n",
       "      <td>-0.094347</td>\n",
       "      <td>1.000000</td>\n",
       "      <td>0.090225</td>\n",
       "      <td>-0.129564</td>\n",
       "    </tr>\n",
       "    <tr>\n",
       "      <th>wheat</th>\n",
       "      <td>0.235126</td>\n",
       "      <td>0.355487</td>\n",
       "      <td>0.014054</td>\n",
       "      <td>-0.138554</td>\n",
       "      <td>0.027174</td>\n",
       "      <td>0.032449</td>\n",
       "      <td>0.032436</td>\n",
       "      <td>0.032436</td>\n",
       "      <td>0.066485</td>\n",
       "      <td>0.066428</td>\n",
       "      <td>0.066438</td>\n",
       "      <td>0.090225</td>\n",
       "      <td>1.000000</td>\n",
       "      <td>-0.046980</td>\n",
       "    </tr>\n",
       "    <tr>\n",
       "      <th>cotton</th>\n",
       "      <td>0.368125</td>\n",
       "      <td>0.478439</td>\n",
       "      <td>-0.064012</td>\n",
       "      <td>0.614722</td>\n",
       "      <td>0.269166</td>\n",
       "      <td>0.307506</td>\n",
       "      <td>0.307524</td>\n",
       "      <td>0.307517</td>\n",
       "      <td>0.336901</td>\n",
       "      <td>0.336941</td>\n",
       "      <td>0.336929</td>\n",
       "      <td>-0.129564</td>\n",
       "      <td>-0.046980</td>\n",
       "      <td>1.000000</td>\n",
       "    </tr>\n",
       "  </tbody>\n",
       "</table>\n",
       "</div>"
      ],
      "text/plain": [
       "               total exports      beef      pork   poultry     dairy  \\\n",
       "total exports       1.000000  0.458794  0.540014  0.245310  0.582472   \n",
       "beef                0.458794  1.000000  0.204522  0.052795  0.179425   \n",
       "pork                0.540014  0.204522  1.000000  0.187752  0.010602   \n",
       "poultry             0.245310  0.052795  0.187752  1.000000  0.011617   \n",
       "dairy               0.582472  0.179425  0.010602  0.011617  1.000000   \n",
       "fruits fresh        0.631087  0.069559 -0.079007  0.083640  0.720998   \n",
       "fruits proc         0.631103  0.069565 -0.078988  0.083670  0.720993   \n",
       "total fruits        0.631101  0.069561 -0.078990  0.083659  0.720999   \n",
       "veggies fresh       0.635084  0.083844 -0.078251  0.081216  0.766206   \n",
       "veggies proc        0.635107  0.083865 -0.078237  0.081215  0.766219   \n",
       "total veggies       0.635120  0.083863 -0.078232  0.081201  0.766228   \n",
       "corn                0.631140  0.325479  0.770032 -0.019033  0.044129   \n",
       "wheat               0.235126  0.355487  0.014054 -0.138554  0.027174   \n",
       "cotton              0.368125  0.478439 -0.064012  0.614722  0.269166   \n",
       "\n",
       "               fruits fresh  fruits proc  total fruits  veggies fresh  \\\n",
       "total exports      0.631087     0.631103      0.631101       0.635084   \n",
       "beef               0.069559     0.069565      0.069561       0.083844   \n",
       "pork              -0.079007    -0.078988     -0.078990      -0.078251   \n",
       "poultry            0.083640     0.083670      0.083659       0.081216   \n",
       "dairy              0.720998     0.720993      0.720999       0.766206   \n",
       "fruits fresh       1.000000     1.000000      1.000000       0.969611   \n",
       "fruits proc        1.000000     1.000000      1.000000       0.969612   \n",
       "total fruits       1.000000     1.000000      1.000000       0.969613   \n",
       "veggies fresh      0.969611     0.969612      0.969613       1.000000   \n",
       "veggies proc       0.969612     0.969612      0.969613       1.000000   \n",
       "total veggies      0.969613     0.969614      0.969614       1.000000   \n",
       "corn              -0.091823    -0.091808     -0.091808      -0.094406   \n",
       "wheat              0.032449     0.032436      0.032436       0.066485   \n",
       "cotton             0.307506     0.307524      0.307517       0.336901   \n",
       "\n",
       "               veggies proc  total veggies      corn     wheat    cotton  \n",
       "total exports      0.635107       0.635120  0.631140  0.235126  0.368125  \n",
       "beef               0.083865       0.083863  0.325479  0.355487  0.478439  \n",
       "pork              -0.078237      -0.078232  0.770032  0.014054 -0.064012  \n",
       "poultry            0.081215       0.081201 -0.019033 -0.138554  0.614722  \n",
       "dairy              0.766219       0.766228  0.044129  0.027174  0.269166  \n",
       "fruits fresh       0.969612       0.969613 -0.091823  0.032449  0.307506  \n",
       "fruits proc        0.969612       0.969614 -0.091808  0.032436  0.307524  \n",
       "total fruits       0.969613       0.969614 -0.091808  0.032436  0.307517  \n",
       "veggies fresh      1.000000       1.000000 -0.094406  0.066485  0.336901  \n",
       "veggies proc       1.000000       1.000000 -0.094371  0.066428  0.336941  \n",
       "total veggies      1.000000       1.000000 -0.094347  0.066438  0.336929  \n",
       "corn              -0.094371      -0.094347  1.000000  0.090225 -0.129564  \n",
       "wheat              0.066428       0.066438  0.090225  1.000000 -0.046980  \n",
       "cotton             0.336941       0.336929 -0.129564 -0.046980  1.000000  "
      ]
     },
     "execution_count": 7,
     "metadata": {},
     "output_type": "execute_result"
    }
   ],
   "source": [
    "exp.corr()"
   ]
  },
  {
   "cell_type": "code",
   "execution_count": 8,
   "id": "7daee54e",
   "metadata": {},
   "outputs": [
    {
     "name": "stdout",
     "output_type": "stream",
     "text": [
      "This shows how the export of a product affects the other products. Correlation value -1 means when one variable increases, the other decreases in a perfectly linear fashion.Correlation value between -1 and -0.7 means a strong negative relationship, but not perfect. As one variable increases, the other tends to decrease significantly. Correlation value between -0.7 and -0.3 means a moderate negative relationship. As one variable increases, the other tends to decrease, but the relationship is not very strong. Correlation value between -0.3 and 0 means a weak negative relationship. There is a slight tendency for one variable to decrease as the other increases. Correltion value between 0 and 0.3 means a weak positive relationship. There is slight tendency for one variable to increase as the other increases. Correlation values between 0.3 and 0.7 means a moderate positive relationship. As one variable increases, the other tends to increase, but the relationship is not very strong. Correlation value between 0.7 and 1 indicates a strong positive relationship, but not perfect. As one variable increases the other tends to increase significantly. Correlation value of 1 means when one variable increases the other increases in a perfectly linear fashion. Correlation value of 0 indicates no relationship between the two variables. \n"
     ]
    }
   ],
   "source": [
    "print('This shows how the export of a product affects the other products. '\n",
    "     'Correlation value -1 means when one variable increases, the other decreases in a perfectly linear fashion.'\n",
    "     'Correlation value between -1 and -0.7 means a strong negative relationship, but not perfect. As one variable increases, the other tends to decrease significantly. '\n",
    "     'Correlation value between -0.7 and -0.3 means a moderate negative relationship. As one variable increases, the other tends to decrease, but the relationship is not very strong. '\n",
    "     'Correlation value between -0.3 and 0 means a weak negative relationship. There is a slight tendency for one variable to decrease as the other increases. Correltion value between 0 and 0.3 means a weak positive relationship. There is slight tendency for one variable to increase as the other increases. Correlation values between 0.3 and 0.7 means a moderate positive relationship. As one variable increases, the other tends to increase, but the relationship is not very strong. '\n",
    "     'Correlation value between 0.7 and 1 indicates a strong positive relationship, but not perfect. As one variable increases the other tends to increase significantly. '\n",
    "     'Correlation value of 1 means when one variable increases the other increases in a perfectly linear fashion. Correlation value of 0 indicates no relationship between the two variables. ')\n",
    "\n"
   ]
  },
  {
   "cell_type": "code",
   "execution_count": 9,
   "id": "6e7e44fc",
   "metadata": {},
   "outputs": [
    {
     "name": "stderr",
     "output_type": "stream",
     "text": [
      "C:\\Users\\USER\\AppData\\Local\\Temp\\ipykernel_5484\\3549475397.py:1: FutureWarning:\n",
      "\n",
      "The default value of numeric_only in DataFrame.corr is deprecated. In a future version, it will default to False. Select only valid columns or specify the value of numeric_only to silence this warning.\n",
      "\n"
     ]
    },
    {
     "data": {
      "text/plain": [
       "<Axes: >"
      ]
     },
     "execution_count": 9,
     "metadata": {},
     "output_type": "execute_result"
    },
    {
     "data": {
      "image/png": "[encoded data removed]",
      "text/plain": [
       "<Figure size 640x480 with 2 Axes>"
      ]
     },
     "metadata": {},
     "output_type": "display_data"
    }
   ],
   "source": [
    "sns.heatmap(exp.corr(),cmap='coolwarm',linewidth=1)"
   ]
  },
  {
   "cell_type": "code",
   "execution_count": 10,
   "id": "50a371fb",
   "metadata": {},
   "outputs": [
    {
     "name": "stdout",
     "output_type": "stream",
     "text": [
      "Which State has the highest total exports?\n"
     ]
    }
   ],
   "source": [
    "print('Which State has the highest total exports?')"
   ]
  },
  {
   "cell_type": "code",
   "execution_count": 11,
   "id": "8bb805a6",
   "metadata": {},
   "outputs": [
    {
     "data": {
      "text/html": [
       "<div>\n",
       "<style scoped>\n",
       "    .dataframe tbody tr th:only-of-type {\n",
       "        vertical-align: middle;\n",
       "    }\n",
       "\n",
       "    .dataframe tbody tr th {\n",
       "        vertical-align: top;\n",
       "    }\n",
       "\n",
       "    .dataframe thead th {\n",
       "        text-align: right;\n",
       "    }\n",
       "</style>\n",
       "<table border=\"1\" class=\"dataframe\">\n",
       "  <thead>\n",
       "    <tr style=\"text-align: right;\">\n",
       "      <th></th>\n",
       "      <th>code</th>\n",
       "      <th>state</th>\n",
       "      <th>category</th>\n",
       "      <th>total exports</th>\n",
       "      <th>beef</th>\n",
       "      <th>pork</th>\n",
       "      <th>poultry</th>\n",
       "      <th>dairy</th>\n",
       "      <th>fruits fresh</th>\n",
       "      <th>fruits proc</th>\n",
       "      <th>total fruits</th>\n",
       "      <th>veggies fresh</th>\n",
       "      <th>veggies proc</th>\n",
       "      <th>total veggies</th>\n",
       "      <th>corn</th>\n",
       "      <th>wheat</th>\n",
       "      <th>cotton</th>\n",
       "      <th>text</th>\n",
       "    </tr>\n",
       "  </thead>\n",
       "  <tbody>\n",
       "    <tr>\n",
       "      <th>4</th>\n",
       "      <td>CA</td>\n",
       "      <td>California</td>\n",
       "      <td>state</td>\n",
       "      <td>16472.88</td>\n",
       "      <td>228.7</td>\n",
       "      <td>11.1</td>\n",
       "      <td>225.4</td>\n",
       "      <td>929.95</td>\n",
       "      <td>2791.8</td>\n",
       "      <td>5944.6</td>\n",
       "      <td>8736.4</td>\n",
       "      <td>803.2</td>\n",
       "      <td>1303.5</td>\n",
       "      <td>2106.79</td>\n",
       "      <td>34.6</td>\n",
       "      <td>249.3</td>\n",
       "      <td>1064.95</td>\n",
       "      <td>California&lt;br&gt;Beef 228.7 Dairy 929.95&lt;br&gt;Frui...</td>\n",
       "    </tr>\n",
       "  </tbody>\n",
       "</table>\n",
       "</div>"
      ],
      "text/plain": [
       "  code        state category  total exports   beef  pork  poultry   dairy  \\\n",
       "4   CA   California    state       16472.88  228.7  11.1    225.4  929.95   \n",
       "\n",
       "   fruits fresh  fruits proc  total fruits  veggies fresh  veggies proc  \\\n",
       "4        2791.8       5944.6        8736.4          803.2        1303.5   \n",
       "\n",
       "   total veggies  corn  wheat   cotton  \\\n",
       "4        2106.79  34.6  249.3  1064.95   \n",
       "\n",
       "                                                text  \n",
       "4   California<br>Beef 228.7 Dairy 929.95<br>Frui...  "
      ]
     },
     "execution_count": 11,
     "metadata": {},
     "output_type": "execute_result"
    }
   ],
   "source": [
    "exp[exp['total exports'] == exp['total exports'].max()]"
   ]
  },
  {
   "cell_type": "code",
   "execution_count": 12,
   "id": "3a2482f8",
   "metadata": {},
   "outputs": [
    {
     "name": "stdout",
     "output_type": "stream",
     "text": [
      "Which state has the lowest total exports?\n"
     ]
    }
   ],
   "source": [
    "print('Which state has the lowest total exports?')"
   ]
  },
  {
   "cell_type": "code",
   "execution_count": 13,
   "id": "d7b0524d",
   "metadata": {},
   "outputs": [
    {
     "data": {
      "text/html": [
       "<div>\n",
       "<style scoped>\n",
       "    .dataframe tbody tr th:only-of-type {\n",
       "        vertical-align: middle;\n",
       "    }\n",
       "\n",
       "    .dataframe tbody tr th {\n",
       "        vertical-align: top;\n",
       "    }\n",
       "\n",
       "    .dataframe thead th {\n",
       "        text-align: right;\n",
       "    }\n",
       "</style>\n",
       "<table border=\"1\" class=\"dataframe\">\n",
       "  <thead>\n",
       "    <tr style=\"text-align: right;\">\n",
       "      <th></th>\n",
       "      <th>code</th>\n",
       "      <th>state</th>\n",
       "      <th>category</th>\n",
       "      <th>total exports</th>\n",
       "      <th>beef</th>\n",
       "      <th>pork</th>\n",
       "      <th>poultry</th>\n",
       "      <th>dairy</th>\n",
       "      <th>fruits fresh</th>\n",
       "      <th>fruits proc</th>\n",
       "      <th>total fruits</th>\n",
       "      <th>veggies fresh</th>\n",
       "      <th>veggies proc</th>\n",
       "      <th>total veggies</th>\n",
       "      <th>corn</th>\n",
       "      <th>wheat</th>\n",
       "      <th>cotton</th>\n",
       "      <th>text</th>\n",
       "    </tr>\n",
       "  </thead>\n",
       "  <tbody>\n",
       "    <tr>\n",
       "      <th>1</th>\n",
       "      <td>AK</td>\n",
       "      <td>Alaska</td>\n",
       "      <td>state</td>\n",
       "      <td>13.31</td>\n",
       "      <td>0.2</td>\n",
       "      <td>0.1</td>\n",
       "      <td>0.0</td>\n",
       "      <td>0.19</td>\n",
       "      <td>0.0</td>\n",
       "      <td>0.0</td>\n",
       "      <td>0.0</td>\n",
       "      <td>0.6</td>\n",
       "      <td>1.0</td>\n",
       "      <td>1.56</td>\n",
       "      <td>0.0</td>\n",
       "      <td>0.0</td>\n",
       "      <td>0.0</td>\n",
       "      <td>Alaska&lt;br&gt;Beef 0.2 Dairy 0.19&lt;br&gt;Fruits 0.0 Ve...</td>\n",
       "    </tr>\n",
       "  </tbody>\n",
       "</table>\n",
       "</div>"
      ],
      "text/plain": [
       "  code   state category  total exports  beef  pork  poultry  dairy  \\\n",
       "1   AK  Alaska    state          13.31   0.2   0.1      0.0   0.19   \n",
       "\n",
       "   fruits fresh  fruits proc  total fruits  veggies fresh  veggies proc  \\\n",
       "1           0.0          0.0           0.0            0.6           1.0   \n",
       "\n",
       "   total veggies  corn  wheat  cotton  \\\n",
       "1           1.56   0.0    0.0     0.0   \n",
       "\n",
       "                                                text  \n",
       "1  Alaska<br>Beef 0.2 Dairy 0.19<br>Fruits 0.0 Ve...  "
      ]
     },
     "execution_count": 13,
     "metadata": {},
     "output_type": "execute_result"
    }
   ],
   "source": [
    "exp[exp['total exports']==exp['total exports'].min()]"
   ]
  },
  {
   "cell_type": "code",
   "execution_count": 14,
   "id": "fbd00c32",
   "metadata": {},
   "outputs": [
    {
     "name": "stdout",
     "output_type": "stream",
     "text": [
      "Which State is the highest exporter of beef?\n"
     ]
    }
   ],
   "source": [
    "print('Which State is the highest exporter of beef?')"
   ]
  },
  {
   "cell_type": "code",
   "execution_count": 15,
   "id": "18c76292",
   "metadata": {},
   "outputs": [
    {
     "data": {
      "text/html": [
       "<div>\n",
       "<style scoped>\n",
       "    .dataframe tbody tr th:only-of-type {\n",
       "        vertical-align: middle;\n",
       "    }\n",
       "\n",
       "    .dataframe tbody tr th {\n",
       "        vertical-align: top;\n",
       "    }\n",
       "\n",
       "    .dataframe thead th {\n",
       "        text-align: right;\n",
       "    }\n",
       "</style>\n",
       "<table border=\"1\" class=\"dataframe\">\n",
       "  <thead>\n",
       "    <tr style=\"text-align: right;\">\n",
       "      <th></th>\n",
       "      <th>code</th>\n",
       "      <th>state</th>\n",
       "      <th>category</th>\n",
       "      <th>total exports</th>\n",
       "      <th>beef</th>\n",
       "      <th>pork</th>\n",
       "      <th>poultry</th>\n",
       "      <th>dairy</th>\n",
       "      <th>fruits fresh</th>\n",
       "      <th>fruits proc</th>\n",
       "      <th>total fruits</th>\n",
       "      <th>veggies fresh</th>\n",
       "      <th>veggies proc</th>\n",
       "      <th>total veggies</th>\n",
       "      <th>corn</th>\n",
       "      <th>wheat</th>\n",
       "      <th>cotton</th>\n",
       "      <th>text</th>\n",
       "    </tr>\n",
       "  </thead>\n",
       "  <tbody>\n",
       "    <tr>\n",
       "      <th>42</th>\n",
       "      <td>TX</td>\n",
       "      <td>Texas</td>\n",
       "      <td>state</td>\n",
       "      <td>6648.22</td>\n",
       "      <td>961.0</td>\n",
       "      <td>42.7</td>\n",
       "      <td>339.2</td>\n",
       "      <td>240.55</td>\n",
       "      <td>31.9</td>\n",
       "      <td>68.0</td>\n",
       "      <td>99.9</td>\n",
       "      <td>43.9</td>\n",
       "      <td>71.3</td>\n",
       "      <td>115.23</td>\n",
       "      <td>167.2</td>\n",
       "      <td>309.7</td>\n",
       "      <td>2308.76</td>\n",
       "      <td>Texas&lt;br&gt;Beef 961.0 Dairy 240.55&lt;br&gt;Fruits 99....</td>\n",
       "    </tr>\n",
       "  </tbody>\n",
       "</table>\n",
       "</div>"
      ],
      "text/plain": [
       "   code  state category  total exports   beef  pork  poultry   dairy  \\\n",
       "42   TX  Texas    state        6648.22  961.0  42.7    339.2  240.55   \n",
       "\n",
       "    fruits fresh  fruits proc  total fruits  veggies fresh  veggies proc  \\\n",
       "42          31.9         68.0          99.9           43.9          71.3   \n",
       "\n",
       "    total veggies   corn  wheat   cotton  \\\n",
       "42         115.23  167.2  309.7  2308.76   \n",
       "\n",
       "                                                 text  \n",
       "42  Texas<br>Beef 961.0 Dairy 240.55<br>Fruits 99....  "
      ]
     },
     "execution_count": 15,
     "metadata": {},
     "output_type": "execute_result"
    }
   ],
   "source": [
    "exp[exp['beef']==exp['beef'].max()]"
   ]
  },
  {
   "cell_type": "code",
   "execution_count": 16,
   "id": "772cf21e",
   "metadata": {},
   "outputs": [
    {
     "name": "stdout",
     "output_type": "stream",
     "text": [
      "Which State is the lowest exporter of beef?\n"
     ]
    }
   ],
   "source": [
    "print('Which State is the lowest exporter of beef?')"
   ]
  },
  {
   "cell_type": "code",
   "execution_count": 17,
   "id": "c1d4cccd",
   "metadata": {},
   "outputs": [
    {
     "data": {
      "text/html": [
       "<div>\n",
       "<style scoped>\n",
       "    .dataframe tbody tr th:only-of-type {\n",
       "        vertical-align: middle;\n",
       "    }\n",
       "\n",
       "    .dataframe tbody tr th {\n",
       "        vertical-align: top;\n",
       "    }\n",
       "\n",
       "    .dataframe thead th {\n",
       "        text-align: right;\n",
       "    }\n",
       "</style>\n",
       "<table border=\"1\" class=\"dataframe\">\n",
       "  <thead>\n",
       "    <tr style=\"text-align: right;\">\n",
       "      <th></th>\n",
       "      <th>code</th>\n",
       "      <th>state</th>\n",
       "      <th>category</th>\n",
       "      <th>total exports</th>\n",
       "      <th>beef</th>\n",
       "      <th>pork</th>\n",
       "      <th>poultry</th>\n",
       "      <th>dairy</th>\n",
       "      <th>fruits fresh</th>\n",
       "      <th>fruits proc</th>\n",
       "      <th>total fruits</th>\n",
       "      <th>veggies fresh</th>\n",
       "      <th>veggies proc</th>\n",
       "      <th>total veggies</th>\n",
       "      <th>corn</th>\n",
       "      <th>wheat</th>\n",
       "      <th>cotton</th>\n",
       "      <th>text</th>\n",
       "    </tr>\n",
       "  </thead>\n",
       "  <tbody>\n",
       "    <tr>\n",
       "      <th>38</th>\n",
       "      <td>RI</td>\n",
       "      <td>Rhode Island</td>\n",
       "      <td>state</td>\n",
       "      <td>31.59</td>\n",
       "      <td>0.1</td>\n",
       "      <td>0.1</td>\n",
       "      <td>0.2</td>\n",
       "      <td>0.52</td>\n",
       "      <td>0.9</td>\n",
       "      <td>1.9</td>\n",
       "      <td>2.83</td>\n",
       "      <td>1.2</td>\n",
       "      <td>1.9</td>\n",
       "      <td>3.02</td>\n",
       "      <td>0.0</td>\n",
       "      <td>0.0</td>\n",
       "      <td>0.0</td>\n",
       "      <td>Rhode Island&lt;br&gt;Beef 0.1 Dairy 0.52&lt;br&gt;Fruits ...</td>\n",
       "    </tr>\n",
       "  </tbody>\n",
       "</table>\n",
       "</div>"
      ],
      "text/plain": [
       "   code         state category  total exports  beef  pork  poultry  dairy  \\\n",
       "38   RI  Rhode Island    state          31.59   0.1   0.1      0.2   0.52   \n",
       "\n",
       "    fruits fresh  fruits proc  total fruits  veggies fresh  veggies proc  \\\n",
       "38           0.9          1.9          2.83            1.2           1.9   \n",
       "\n",
       "    total veggies  corn  wheat  cotton  \\\n",
       "38           3.02   0.0    0.0     0.0   \n",
       "\n",
       "                                                 text  \n",
       "38  Rhode Island<br>Beef 0.1 Dairy 0.52<br>Fruits ...  "
      ]
     },
     "execution_count": 17,
     "metadata": {},
     "output_type": "execute_result"
    }
   ],
   "source": [
    "exp[exp['beef']==exp['beef'].min()]"
   ]
  },
  {
   "cell_type": "code",
   "execution_count": 18,
   "id": "71599b75",
   "metadata": {},
   "outputs": [
    {
     "name": "stdout",
     "output_type": "stream",
     "text": [
      "Which State is the highest exporter of wheat?\n"
     ]
    }
   ],
   "source": [
    "print('Which State is the highest exporter of wheat?')"
   ]
  },
  {
   "cell_type": "code",
   "execution_count": 19,
   "id": "3a582612",
   "metadata": {},
   "outputs": [
    {
     "data": {
      "text/html": [
       "<div>\n",
       "<style scoped>\n",
       "    .dataframe tbody tr th:only-of-type {\n",
       "        vertical-align: middle;\n",
       "    }\n",
       "\n",
       "    .dataframe tbody tr th {\n",
       "        vertical-align: top;\n",
       "    }\n",
       "\n",
       "    .dataframe thead th {\n",
       "        text-align: right;\n",
       "    }\n",
       "</style>\n",
       "<table border=\"1\" class=\"dataframe\">\n",
       "  <thead>\n",
       "    <tr style=\"text-align: right;\">\n",
       "      <th></th>\n",
       "      <th>code</th>\n",
       "      <th>state</th>\n",
       "      <th>category</th>\n",
       "      <th>total exports</th>\n",
       "      <th>beef</th>\n",
       "      <th>pork</th>\n",
       "      <th>poultry</th>\n",
       "      <th>dairy</th>\n",
       "      <th>fruits fresh</th>\n",
       "      <th>fruits proc</th>\n",
       "      <th>total fruits</th>\n",
       "      <th>veggies fresh</th>\n",
       "      <th>veggies proc</th>\n",
       "      <th>total veggies</th>\n",
       "      <th>corn</th>\n",
       "      <th>wheat</th>\n",
       "      <th>cotton</th>\n",
       "      <th>text</th>\n",
       "    </tr>\n",
       "  </thead>\n",
       "  <tbody>\n",
       "    <tr>\n",
       "      <th>33</th>\n",
       "      <td>ND</td>\n",
       "      <td>North Dakota</td>\n",
       "      <td>state</td>\n",
       "      <td>3761.96</td>\n",
       "      <td>78.5</td>\n",
       "      <td>16.1</td>\n",
       "      <td>0.5</td>\n",
       "      <td>8.14</td>\n",
       "      <td>0.1</td>\n",
       "      <td>0.2</td>\n",
       "      <td>0.25</td>\n",
       "      <td>49.9</td>\n",
       "      <td>80.9</td>\n",
       "      <td>130.79</td>\n",
       "      <td>236.1</td>\n",
       "      <td>1664.5</td>\n",
       "      <td>0.0</td>\n",
       "      <td>North Dakota&lt;br&gt;Beef 78.5 Dairy 8.14&lt;br&gt;Fruits...</td>\n",
       "    </tr>\n",
       "  </tbody>\n",
       "</table>\n",
       "</div>"
      ],
      "text/plain": [
       "   code         state category  total exports  beef  pork  poultry  dairy  \\\n",
       "33   ND  North Dakota    state        3761.96  78.5  16.1      0.5   8.14   \n",
       "\n",
       "    fruits fresh  fruits proc  total fruits  veggies fresh  veggies proc  \\\n",
       "33           0.1          0.2          0.25           49.9          80.9   \n",
       "\n",
       "    total veggies   corn   wheat  cotton  \\\n",
       "33         130.79  236.1  1664.5     0.0   \n",
       "\n",
       "                                                 text  \n",
       "33  North Dakota<br>Beef 78.5 Dairy 8.14<br>Fruits...  "
      ]
     },
     "execution_count": 19,
     "metadata": {},
     "output_type": "execute_result"
    }
   ],
   "source": [
    "exp[exp['wheat']==exp['wheat'].max()]"
   ]
  },
  {
   "cell_type": "code",
   "execution_count": 20,
   "id": "509571bb",
   "metadata": {},
   "outputs": [
    {
     "data": {
      "text/plain": [
       "Index(['code', 'state', 'category', 'total exports', 'beef', 'pork', 'poultry',\n",
       "       'dairy', 'fruits fresh', 'fruits proc', 'total fruits', 'veggies fresh',\n",
       "       'veggies proc', 'total veggies', 'corn', 'wheat', 'cotton', 'text'],\n",
       "      dtype='object')"
      ]
     },
     "execution_count": 20,
     "metadata": {},
     "output_type": "execute_result"
    }
   ],
   "source": [
    "exp.columns"
   ]
  },
  {
   "cell_type": "code",
   "execution_count": 21,
   "id": "0ca56d7c",
   "metadata": {},
   "outputs": [],
   "source": [
    "X = exp[['beef', 'pork', 'poultry',\n",
    "       'dairy', 'fruits fresh', 'fruits proc', 'total fruits', 'veggies fresh',\n",
    "       'veggies proc', 'total veggies', 'corn', 'wheat', 'cotton']]"
   ]
  },
  {
   "cell_type": "code",
   "execution_count": 22,
   "id": "79be6f44",
   "metadata": {},
   "outputs": [],
   "source": [
    "y=exp['total exports']"
   ]
  },
  {
   "cell_type": "code",
   "execution_count": 23,
   "id": "23961e11",
   "metadata": {},
   "outputs": [],
   "source": [
    "from sklearn.model_selection import train_test_split"
   ]
  },
  {
   "cell_type": "code",
   "execution_count": 24,
   "id": "0f49e52f",
   "metadata": {},
   "outputs": [],
   "source": [
    "X_train, X_test, y_train, y_test = train_test_split(X, y, test_size=0.33, random_state=101)"
   ]
  },
  {
   "cell_type": "code",
   "execution_count": 25,
   "id": "59cf46ab",
   "metadata": {},
   "outputs": [],
   "source": [
    "from sklearn.linear_model import LinearRegression"
   ]
  },
  {
   "cell_type": "code",
   "execution_count": 26,
   "id": "0481725f",
   "metadata": {},
   "outputs": [],
   "source": [
    "lm = LinearRegression()"
   ]
  },
  {
   "cell_type": "code",
   "execution_count": 27,
   "id": "dc8b432d",
   "metadata": {},
   "outputs": [
    {
     "data": {
      "text/html": [
       "<style>#sk-container-id-1 {color: black;background-color: white;}#sk-container-id-1 pre{padding: 0;}#sk-container-id-1 div.sk-toggleable {background-color: white;}#sk-container-id-1 label.sk-toggleable__label {cursor: pointer;display: block;width: 100%;margin-bottom: 0;padding: 0.3em;box-sizing: border-box;text-align: center;}#sk-container-id-1 label.sk-toggleable__label-arrow:before {content: \"▸\";float: left;margin-right: 0.25em;color: #696969;}#sk-container-id-1 label.sk-toggleable__label-arrow:hover:before {color: black;}#sk-container-id-1 div.sk-estimator:hover label.sk-toggleable__label-arrow:before {color: black;}#sk-container-id-1 div.sk-toggleable__content {max-height: 0;max-width: 0;overflow: hidden;text-align: left;background-color: #f0f8ff;}#sk-container-id-1 div.sk-toggleable__content pre {margin: 0.2em;color: black;border-radius: 0.25em;background-color: #f0f8ff;}#sk-container-id-1 input.sk-toggleable__control:checked~div.sk-toggleable__content {max-height: 200px;max-width: 100%;overflow: auto;}#sk-container-id-1 input.sk-toggleable__control:checked~label.sk-toggleable__label-arrow:before {content: \"▾\";}#sk-container-id-1 div.sk-estimator input.sk-toggleable__control:checked~label.sk-toggleable__label {background-color: #d4ebff;}#sk-container-id-1 div.sk-label input.sk-toggleable__control:checked~label.sk-toggleable__label {background-color: #d4ebff;}#sk-container-id-1 input.sk-hidden--visually {border: 0;clip: rect(1px 1px 1px 1px);clip: rect(1px, 1px, 1px, 1px);height: 1px;margin: -1px;overflow: hidden;padding: 0;position: absolute;width: 1px;}#sk-container-id-1 div.sk-estimator {font-family: monospace;background-color: #f0f8ff;border: 1px dotted black;border-radius: 0.25em;box-sizing: border-box;margin-bottom: 0.5em;}#sk-container-id-1 div.sk-estimator:hover {background-color: #d4ebff;}#sk-container-id-1 div.sk-parallel-item::after {content: \"\";width: 100%;border-bottom: 1px solid gray;flex-grow: 1;}#sk-container-id-1 div.sk-label:hover label.sk-toggleable__label {background-color: #d4ebff;}#sk-container-id-1 div.sk-serial::before {content: \"\";position: absolute;border-left: 1px solid gray;box-sizing: border-box;top: 0;bottom: 0;left: 50%;z-index: 0;}#sk-container-id-1 div.sk-serial {display: flex;flex-direction: column;align-items: center;background-color: white;padding-right: 0.2em;padding-left: 0.2em;position: relative;}#sk-container-id-1 div.sk-item {position: relative;z-index: 1;}#sk-container-id-1 div.sk-parallel {display: flex;align-items: stretch;justify-content: center;background-color: white;position: relative;}#sk-container-id-1 div.sk-item::before, #sk-container-id-1 div.sk-parallel-item::before {content: \"\";position: absolute;border-left: 1px solid gray;box-sizing: border-box;top: 0;bottom: 0;left: 50%;z-index: -1;}#sk-container-id-1 div.sk-parallel-item {display: flex;flex-direction: column;z-index: 1;position: relative;background-color: white;}#sk-container-id-1 div.sk-parallel-item:first-child::after {align-self: flex-end;width: 50%;}#sk-container-id-1 div.sk-parallel-item:last-child::after {align-self: flex-start;width: 50%;}#sk-container-id-1 div.sk-parallel-item:only-child::after {width: 0;}#sk-container-id-1 div.sk-dashed-wrapped {border: 1px dashed gray;margin: 0 0.4em 0.5em 0.4em;box-sizing: border-box;padding-bottom: 0.4em;background-color: white;}#sk-container-id-1 div.sk-label label {font-family: monospace;font-weight: bold;display: inline-block;line-height: 1.2em;}#sk-container-id-1 div.sk-label-container {text-align: center;}#sk-container-id-1 div.sk-container {/* jupyter's `normalize.less` sets `[hidden] { display: none; }` but bootstrap.min.css set `[hidden] { display: none !important; }` so we also need the `!important` here to be able to override the default hidden behavior on the sphinx rendered scikit-learn.org. See: https://github.com/scikit-learn/scikit-learn/issues/21755 */display: inline-block !important;position: relative;}#sk-container-id-1 div.sk-text-repr-fallback {display: none;}</style><div id=\"sk-container-id-1\" class=\"sk-top-container\"><div class=\"sk-text-repr-fallback\"><pre>LinearRegression()</pre><b>In a Jupyter environment, please rerun this cell to show the HTML representation or trust the notebook. <br />On GitHub, the HTML representation is unable to render, please try loading this page with nbviewer.org.</b></div><div class=\"sk-container\" hidden><div class=\"sk-item\"><div class=\"sk-estimator sk-toggleable\"><input class=\"sk-toggleable__control sk-hidden--visually\" id=\"sk-estimator-id-1\" type=\"checkbox\" checked><label for=\"sk-estimator-id-1\" class=\"sk-toggleable__label sk-toggleable__label-arrow\">LinearRegression</label><div class=\"sk-toggleable__content\"><pre>LinearRegression()</pre></div></div></div></div></div>"
      ],
      "text/plain": [
       "LinearRegression()"
      ]
     },
     "execution_count": 27,
     "metadata": {},
     "output_type": "execute_result"
    }
   ],
   "source": [
    "lm.fit(X_train,y_train)"
   ]
  },
  {
   "cell_type": "code",
   "execution_count": 28,
   "id": "1099b2c7",
   "metadata": {},
   "outputs": [
    {
     "name": "stdout",
     "output_type": "stream",
     "text": [
      "[ 2.59592430e-01  2.05556126e+00  1.77076706e+00  7.96308639e-01\n",
      " -1.48755261e+03 -3.20651914e+02  6.94629179e+02 -7.96584731e+02\n",
      "  1.62580091e+03 -7.00018642e+02  3.25520500e+00  1.42448487e+00\n",
      "  5.14482330e-01]\n"
     ]
    }
   ],
   "source": [
    "print(lm.coef_)"
   ]
  },
  {
   "cell_type": "code",
   "execution_count": 29,
   "id": "0d3a7176",
   "metadata": {},
   "outputs": [],
   "source": [
    "prediction = lm.predict(X_train)"
   ]
  },
  {
   "cell_type": "code",
   "execution_count": 30,
   "id": "525c3b15",
   "metadata": {},
   "outputs": [
    {
     "data": {
      "text/plain": [
       "array([  648.12561009,  4448.26907089,   457.79734317,   681.83758403,\n",
       "         302.32742028,   320.02631721,  1009.53536199,   467.06054155,\n",
       "         325.44251035,  2060.97877725,  3647.99685353,  1496.95405266,\n",
       "        1600.13058196,   397.55961494,  3176.4144512 ,  1697.03721858,\n",
       "        3081.12506307,   782.92547808,   510.78198135,  8834.03384019,\n",
       "        2113.78659526,  1642.6305049 ,   264.37160259, 16585.94745498,\n",
       "        3808.41883157,  5301.08515026,  3024.49930933,  3025.96187417,\n",
       "        1844.03929592,   263.38879997,  1056.27363683,  2188.40414822,\n",
       "        1512.99312362])"
      ]
     },
     "execution_count": 30,
     "metadata": {},
     "output_type": "execute_result"
    }
   ],
   "source": [
    "prediction"
   ]
  },
  {
   "cell_type": "code",
   "execution_count": 31,
   "id": "90cc9799",
   "metadata": {},
   "outputs": [],
   "source": [
    "cdf = pd.DataFrame(lm.coef_,X_train.columns,columns=['Coefficients'])"
   ]
  },
  {
   "cell_type": "code",
   "execution_count": 32,
   "id": "3e65a426",
   "metadata": {},
   "outputs": [
    {
     "data": {
      "text/html": [
       "<div>\n",
       "<style scoped>\n",
       "    .dataframe tbody tr th:only-of-type {\n",
       "        vertical-align: middle;\n",
       "    }\n",
       "\n",
       "    .dataframe tbody tr th {\n",
       "        vertical-align: top;\n",
       "    }\n",
       "\n",
       "    .dataframe thead th {\n",
       "        text-align: right;\n",
       "    }\n",
       "</style>\n",
       "<table border=\"1\" class=\"dataframe\">\n",
       "  <thead>\n",
       "    <tr style=\"text-align: right;\">\n",
       "      <th></th>\n",
       "      <th>Coefficients</th>\n",
       "    </tr>\n",
       "  </thead>\n",
       "  <tbody>\n",
       "    <tr>\n",
       "      <th>beef</th>\n",
       "      <td>0.259592</td>\n",
       "    </tr>\n",
       "    <tr>\n",
       "      <th>pork</th>\n",
       "      <td>2.055561</td>\n",
       "    </tr>\n",
       "    <tr>\n",
       "      <th>poultry</th>\n",
       "      <td>1.770767</td>\n",
       "    </tr>\n",
       "    <tr>\n",
       "      <th>dairy</th>\n",
       "      <td>0.796309</td>\n",
       "    </tr>\n",
       "    <tr>\n",
       "      <th>fruits fresh</th>\n",
       "      <td>-1487.552614</td>\n",
       "    </tr>\n",
       "    <tr>\n",
       "      <th>fruits proc</th>\n",
       "      <td>-320.651914</td>\n",
       "    </tr>\n",
       "    <tr>\n",
       "      <th>total fruits</th>\n",
       "      <td>694.629179</td>\n",
       "    </tr>\n",
       "    <tr>\n",
       "      <th>veggies fresh</th>\n",
       "      <td>-796.584731</td>\n",
       "    </tr>\n",
       "    <tr>\n",
       "      <th>veggies proc</th>\n",
       "      <td>1625.800906</td>\n",
       "    </tr>\n",
       "    <tr>\n",
       "      <th>total veggies</th>\n",
       "      <td>-700.018642</td>\n",
       "    </tr>\n",
       "    <tr>\n",
       "      <th>corn</th>\n",
       "      <td>3.255205</td>\n",
       "    </tr>\n",
       "    <tr>\n",
       "      <th>wheat</th>\n",
       "      <td>1.424485</td>\n",
       "    </tr>\n",
       "    <tr>\n",
       "      <th>cotton</th>\n",
       "      <td>0.514482</td>\n",
       "    </tr>\n",
       "  </tbody>\n",
       "</table>\n",
       "</div>"
      ],
      "text/plain": [
       "               Coefficients\n",
       "beef               0.259592\n",
       "pork               2.055561\n",
       "poultry            1.770767\n",
       "dairy              0.796309\n",
       "fruits fresh   -1487.552614\n",
       "fruits proc     -320.651914\n",
       "total fruits     694.629179\n",
       "veggies fresh   -796.584731\n",
       "veggies proc    1625.800906\n",
       "total veggies   -700.018642\n",
       "corn               3.255205\n",
       "wheat              1.424485\n",
       "cotton             0.514482"
      ]
     },
     "execution_count": 32,
     "metadata": {},
     "output_type": "execute_result"
    }
   ],
   "source": [
    "cdf"
   ]
  },
  {
   "cell_type": "code",
   "execution_count": 33,
   "id": "98044cb7",
   "metadata": {
    "scrolled": false
   },
   "outputs": [
    {
     "data": {
      "text/plain": [
       "<Axes: xlabel='total veggies', ylabel='total exports'>"
      ]
     },
     "execution_count": 33,
     "metadata": {},
     "output_type": "execute_result"
    },
    {
     "data": {
      "image/png": "[encoded data removed]",
      "text/plain": [
       "<Figure size 640x480 with 1 Axes>"
      ]
     },
     "metadata": {},
     "output_type": "display_data"
    }
   ],
   "source": [
    "sns.set_style('whitegrid')\n",
    "sns.lineplot(x=exp['total veggies'], y=exp['total exports'])"
   ]
  },
  {
   "cell_type": "code",
   "execution_count": 34,
   "id": "bd1ef4e7",
   "metadata": {},
   "outputs": [
    {
     "data": {
      "text/plain": [
       "<Axes: xlabel='corn', ylabel='total exports'>"
      ]
     },
     "execution_count": 34,
     "metadata": {},
     "output_type": "execute_result"
    },
    {
     "data": {
      "image/png": "[encoded data removed]",
      "text/plain": [
       "<Figure size 640x480 with 1 Axes>"
      ]
     },
     "metadata": {},
     "output_type": "display_data"
    }
   ],
   "source": [
    "sns.lineplot(x=exp['corn'], y=exp['total exports'])"
   ]
  },
  {
   "cell_type": "code",
   "execution_count": 35,
   "id": "241bbe12",
   "metadata": {},
   "outputs": [
    {
     "data": {
      "text/plain": [
       "<Axes: xlabel='wheat', ylabel='total exports'>"
      ]
     },
     "execution_count": 35,
     "metadata": {},
     "output_type": "execute_result"
    },
    {
     "data": {
      "image/png": "[encoded data removed]",
      "text/plain": [
       "<Figure size 640x480 with 1 Axes>"
      ]
     },
     "metadata": {},
     "output_type": "display_data"
    }
   ],
   "source": [
    "sns.lineplot(x=exp['wheat'], y=exp['total exports'])"
   ]
  },
  {
   "cell_type": "code",
   "execution_count": 36,
   "id": "7b0df3e6",
   "metadata": {},
   "outputs": [
    {
     "data": {
      "text/plain": [
       "<Axes: xlabel='cotton', ylabel='total exports'>"
      ]
     },
     "execution_count": 36,
     "metadata": {},
     "output_type": "execute_result"
    },
    {
     "data": {
      "image/png": "[encoded data removed]",
      "text/plain": [
       "<Figure size 640x480 with 1 Axes>"
      ]
     },
     "metadata": {},
     "output_type": "display_data"
    }
   ],
   "source": [
    "sns.lineplot(x=exp['cotton'], y=exp['total exports'])"
   ]
  },
  {
   "cell_type": "code",
   "execution_count": 37,
   "id": "6cabd844",
   "metadata": {},
   "outputs": [
    {
     "data": {
      "text/plain": [
       "<Axes: xlabel='poultry', ylabel='total exports'>"
      ]
     },
     "execution_count": 37,
     "metadata": {},
     "output_type": "execute_result"
    },
    {
     "data": {
      "image/png": "[encoded data removed]",
      "text/plain": [
       "<Figure size 640x480 with 1 Axes>"
      ]
     },
     "metadata": {},
     "output_type": "display_data"
    }
   ],
   "source": [
    "sns.lineplot(x=exp['poultry'], y=exp['total exports'])"
   ]
  },
  {
   "cell_type": "code",
   "execution_count": 38,
   "id": "964e5906",
   "metadata": {},
   "outputs": [
    {
     "data": {
      "text/plain": [
       "<Axes: xlabel='total fruits', ylabel='total exports'>"
      ]
     },
     "execution_count": 38,
     "metadata": {},
     "output_type": "execute_result"
    },
    {
     "data": {
      "image/png": "[encoded data removed]",
      "text/plain": [
       "<Figure size 640x480 with 1 Axes>"
      ]
     },
     "metadata": {},
     "output_type": "display_data"
    }
   ],
   "source": [
    "sns.lineplot(x=exp['total fruits'], y=exp['total exports'])"
   ]
  },
  {
   "cell_type": "code",
   "execution_count": 39,
   "id": "e8e43559",
   "metadata": {},
   "outputs": [
    {
     "data": {
      "text/plain": [
       "<Axes: xlabel='beef', ylabel='total exports'>"
      ]
     },
     "execution_count": 39,
     "metadata": {},
     "output_type": "execute_result"
    },
    {
     "data": {
      "image/png": "[encoded data removed]",
      "text/plain": [
       "<Figure size 640x480 with 1 Axes>"
      ]
     },
     "metadata": {},
     "output_type": "display_data"
    }
   ],
   "source": [
    "sns.lineplot(x=exp['beef'], y=exp['total exports'])"
   ]
  },
  {
   "cell_type": "code",
   "execution_count": 40,
   "id": "dad433f5",
   "metadata": {},
   "outputs": [
    {
     "data": {
      "text/plain": [
       "<Axes: xlabel='pork', ylabel='total exports'>"
      ]
     },
     "execution_count": 40,
     "metadata": {},
     "output_type": "execute_result"
    },
    {
     "data": {
      "image/png": "[encoded data removed]",
      "text/plain": [
       "<Figure size 640x480 with 1 Axes>"
      ]
     },
     "metadata": {},
     "output_type": "display_data"
    }
   ],
   "source": [
    "sns.lineplot(x=exp['pork'], y=exp['total exports'])"
   ]
  },
  {
   "cell_type": "code",
   "execution_count": 41,
   "id": "c7b4bafd",
   "metadata": {},
   "outputs": [
    {
     "data": {
      "text/plain": [
       "<Axes: xlabel='dairy', ylabel='total exports'>"
      ]
     },
     "execution_count": 41,
     "metadata": {},
     "output_type": "execute_result"
    },
    {
     "data": {
      "image/png": "[encoded data removed]",
      "text/plain": [
       "<Figure size 640x480 with 1 Axes>"
      ]
     },
     "metadata": {},
     "output_type": "display_data"
    }
   ],
   "source": [
    "sns.lineplot(x=exp['dairy'], y=exp['total exports'])"
   ]
  },
  {
   "cell_type": "code",
   "execution_count": 42,
   "id": "7261d75f",
   "metadata": {},
   "outputs": [],
   "source": [
    "data = dict(type='choropleth',\n",
    "           colorscale='Portland',\n",
    "           locations = exp['code'],\n",
    "           locationmode= 'USA-states',\n",
    "           z= exp['total exports'],\n",
    "           text = exp['text'],\n",
    "           marker = dict(line = dict(color = 'rgb(255,255,255)', width=2)),\n",
    "           colorbar = {'title':'Millions USD'}\n",
    "           )"
   ]
  },
  {
   "cell_type": "code",
   "execution_count": 43,
   "id": "44c883cb",
   "metadata": {},
   "outputs": [],
   "source": [
    "layout = dict(title = '2011 US Agricultural Exports By States',\n",
    "             geo = {'scope':'usa'})"
   ]
  },
  {
   "cell_type": "code",
   "execution_count": 44,
   "id": "8203e0b2",
   "metadata": {},
   "outputs": [],
   "source": [
    "choromap = go.Figure(data=[data],layout=layout)"
   ]
  },
  {
   "cell_type": "code",
   "execution_count": 51,
   "id": "7debb7b8",
   "metadata": {},
   "outputs": [
    {
     "data": {
      "application/vnd.plotly.v1+json": {
       "config": {
        "linkText": "Export to plot.ly",
        "plotlyServerURL": "https://plot.ly",
        "showLink": false
       },
       "data": [
        {
         "colorbar": {
          "title": {
           "text": "Millions USD"
          }
         },
         "colorscale": [
          [
           0,
           "rgb(12,51,131)"
          ],
          [
           0.25,
           "rgb(10,136,186)"
          ],
          [
           0.5,
           "rgb(242,211,56)"
          ],
          [
           0.75,
           "rgb(242,143,56)"
          ],
          [
           1,
           "rgb(217,30,30)"
          ]
         ],
         "locationmode": "USA-states",
         "locations": [
          "AL",
          "AK",
          "AZ",
          "AR",
          "CA",
          "CO",
          "CT",
          "DE",
          "FL",
          "GA",
          "HI",
          "ID",
          "IL",
          "IN",
          "IA",
          "KS",
          "KY",
          "LA",
          "ME",
          "MD",
          "MA",
          "MI",
          "MN",
          "MS",
          "MO",
          "MT",
          "NE",
          "NV",
          "NH",
          "NJ",
          "NM",
          "NY",
          "NC",
          "ND",
          "OH",
          "OK",
          "OR",
          "PA",
          "RI",
          "SC",
          "SD",
          "TN",
          "TX",
          "UT",
          "VT",
          "VA",
          "WA",
          "WV",
          "WI",
          "WY"
         ],
         "marker": {
          "line": {
           "color": "rgb(255,255,255)",
           "width": 2
          }
         },
         "text": [
          "Alabama<br>Beef 34.4 Dairy 4.06<br>Fruits 25.11 Veggies 14.33<br>Wheat 70.0 Corn 34.9",
          "Alaska<br>Beef 0.2 Dairy 0.19<br>Fruits 0.0 Veggies 1.56<br>Wheat 0.0 Corn 0.0",
          "Arizona<br>Beef 71.3 Dairy 105.48<br>Fruits 60.27 Veggies 386.91<br>Wheat 48.7 Corn 7.3",
          "Arkansas<br>Beef 53.2 Dairy 3.53<br>Fruits 6.88 Veggies 11.45<br>Wheat 114.5 Corn 69.5",
          " California<br>Beef 228.7 Dairy 929.95<br>Fruits 8736.4 Veggies 2106.79<br>Wheat 249.3 Corn 34.6",
          "Colorado<br>Beef 261.4 Dairy 71.94<br>Fruits 17.99 Veggies 118.27<br>Wheat 400.5 Corn 183.2",
          "Connecticut<br>Beef 1.1 Dairy 9.49<br>Fruits 13.1 Veggies 11.16<br>Wheat 0.0 Corn 0.0",
          "Delaware<br>Beef 0.4 Dairy 2.3<br>Fruits 1.53 Veggies 20.03<br>Wheat 22.9 Corn 26.9",
          "Florida<br>Beef 42.6 Dairy 66.31<br>Fruits 1371.36 Veggies 450.86<br>Wheat 1.8 Corn 3.5",
          "Georgia<br>Beef 31.0 Dairy 38.38<br>Fruits 233.51 Veggies 154.77<br>Wheat 65.4 Corn 57.8",
          "Hawaii<br>Beef 4.0 Dairy 1.16<br>Fruits 55.51 Veggies 24.83<br>Wheat 0.0 Corn 0.0",
          "Idaho<br>Beef 119.8 Dairy 294.6<br>Fruits 21.64 Veggies 319.19<br>Wheat 568.2 Corn 24.0",
          "Illinois<br>Beef 53.7 Dairy 45.82<br>Fruits 12.53 Veggies 39.95<br>Wheat 223.8 Corn 2228.5",
          "Indiana<br>Beef 21.9 Dairy 89.7<br>Fruits 12.98 Veggies 37.89<br>Wheat 114.0 Corn 1123.2",
          "Iowa<br>Beef 289.8 Dairy 107.0<br>Fruits 3.24 Veggies 7.1<br>Wheat 3.1 Corn 2529.8",
          "Kansas<br>Beef 659.3 Dairy 65.45<br>Fruits 3.11 Veggies 9.32<br>Wheat 1426.5 Corn 457.3",
          "Kentucky<br>Beef 54.8 Dairy 28.27<br>Fruits 6.6 Veggies 0.0<br>Wheat 149.3 Corn 179.1",
          "Louisiana<br>Beef 19.8 Dairy 6.02<br>Fruits 17.83 Veggies 17.25<br>Wheat 78.7 Corn 91.4",
          "Maine<br>Beef 1.4 Dairy 16.18<br>Fruits 52.01 Veggies 62.9<br>Wheat 0.0 Corn 0.0",
          "Maryland<br>Beef 5.6 Dairy 24.81<br>Fruits 12.9 Veggies 20.43<br>Wheat 55.8 Corn 54.1",
          "Massachusetts<br>Beef 0.6 Dairy 5.81<br>Fruits 80.83 Veggies 21.13<br>Wheat 0.0 Corn 0.0",
          "Michigan<br>Beef 37.7 Dairy 214.82<br>Fruits 257.69 Veggies 189.96<br>Wheat 247.0 Corn 381.5",
          "Minnesota<br>Beef 112.3 Dairy 218.05<br>Fruits 7.91 Veggies 120.37<br>Wheat 538.1 Corn 1264.3",
          "Mississippi<br>Beef 12.8 Dairy 5.45<br>Fruits 17.04 Veggies 27.87<br>Wheat 102.2 Corn 110.0",
          "Missouri<br>Beef 137.2 Dairy 34.26<br>Fruits 13.18 Veggies 17.9<br>Wheat 161.7 Corn 428.8",
          "Montana<br>Beef 105.0 Dairy 6.82<br>Fruits 3.3 Veggies 45.27<br>Wheat 1198.1 Corn 5.4",
          "Nebraska<br>Beef 762.2 Dairy 30.07<br>Fruits 2.16 Veggies 53.5<br>Wheat 292.3 Corn 1735.9",
          "Nevada<br>Beef 21.8 Dairy 16.57<br>Fruits 1.19 Veggies 27.93<br>Wheat 5.4 Corn 0.0",
          "New Hampshire<br>Beef 0.6 Dairy 7.46<br>Fruits 7.98 Veggies 4.5<br>Wheat 0.0 Corn 0.0",
          "New Jersey<br>Beef 0.8 Dairy 3.37<br>Fruits 109.45 Veggies 56.54<br>Wheat 6.7 Corn 10.1",
          "New Mexico<br>Beef 117.2 Dairy 191.01<br>Fruits 101.9 Veggies 43.88<br>Wheat 13.9 Corn 11.2",
          "New York<br>Beef 22.2 Dairy 331.8<br>Fruits 202.56 Veggies 143.37<br>Wheat 29.9 Corn 106.1",
          "North Carolina<br>Beef 24.8 Dairy 24.9<br>Fruits 74.47 Veggies 150.45<br>Wheat 200.3 Corn 92.2",
          "North Dakota<br>Beef 78.5 Dairy 8.14<br>Fruits 0.25 Veggies 130.79<br>Wheat 1664.5 Corn 236.1",
          "Ohio<br>Beef 36.2 Dairy 134.57<br>Fruits 27.21 Veggies 53.53<br>Wheat 207.4 Corn 535.1",
          "Oklahoma<br>Beef 337.6 Dairy 24.35<br>Fruits 9.24 Veggies 8.9<br>Wheat 324.8 Corn 27.5",
          "Oregon<br>Beef 58.8 Dairy 63.66<br>Fruits 315.04 Veggies 126.5<br>Wheat 320.3 Corn 11.7",
          "Pennsylvania<br>Beef 50.9 Dairy 280.87<br>Fruits 89.48 Veggies 38.26<br>Wheat 41.0 Corn 112.1",
          "Rhode Island<br>Beef 0.1 Dairy 0.52<br>Fruits 2.83 Veggies 3.02<br>Wheat 0.0 Corn 0.0",
          "South Carolina<br>Beef 15.2 Dairy 7.62<br>Fruits 53.45 Veggies 42.66<br>Wheat 55.3 Corn 32.1",
          "South Dakota<br>Beef 193.5 Dairy 46.77<br>Fruits 0.8 Veggies 4.06<br>Wheat 704.5 Corn 643.6",
          "Tennessee<br>Beef 51.1 Dairy 21.18<br>Fruits 6.23 Veggies 24.67<br>Wheat 100.0 Corn 88.8",
          "Texas<br>Beef 961.0 Dairy 240.55<br>Fruits 99.9 Veggies 115.23<br>Wheat 309.7 Corn 167.2",
          "Utah<br>Beef 27.9 Dairy 48.6<br>Fruits 12.34 Veggies 6.6<br>Wheat 42.8 Corn 5.3",
          "Vermont<br>Beef 6.2 Dairy 65.98<br>Fruits 8.01 Veggies 4.05<br>Wheat 0.0 Corn 0.0",
          "Virginia<br>Beef 39.5 Dairy 47.85<br>Fruits 36.48 Veggies 27.25<br>Wheat 77.5 Corn 39.5",
          "Washington<br>Beef 59.2 Dairy 154.18<br>Fruits 1738.57 Veggies 363.79<br>Wheat 786.3 Corn 29.5",
          "West Virginia<br>Beef 12.0 Dairy 3.9<br>Fruits 11.54 Veggies 0.0<br>Wheat 1.6 Corn 3.5",
          "Wisconsin<br>Beef 107.3 Dairy 633.6<br>Fruits 133.8 Veggies 148.99<br>Wheat 96.7 Corn 460.5",
          "Wyoming<br>Beef 75.1 Dairy 2.89<br>Fruits 0.17 Veggies 10.23<br>Wheat 20.7 Corn 9.0"
         ],
         "type": "choropleth",
         "z": [
          1390.63,
          13.31,
          1463.17,
          3586.02,
          16472.88,
          1851.33,
          259.62,
          282.19,
          3764.09,
          2860.84,
          401.84,
          2078.89,
          8709.48,
          5050.23,
          11273.76,
          4589.01,
          1889.15,
          1914.23,
          278.37,
          692.75,
          248.65,
          3164.16,
          7192.33,
          2170.8,
          3933.42,
          1718,
          7114.13,
          139.89,
          73.06,
          500.4,
          751.58,
          1488.9,
          3806.05,
          3761.96,
          3979.79,
          1646.41,
          1794.57,
          1969.87,
          31.59,
          929.93,
          3770.19,
          1535.13,
          6648.22,
          453.39,
          180.14,
          1146.48,
          3894.81,
          138.89,
          3090.23,
          349.69
         ]
        }
       ],
       "layout": {
        "geo": {
         "scope": "usa"
        },
        "template": {
         "data": {
          "bar": [
           {
            "error_x": {
             "color": "#2a3f5f"
            },
            "error_y": {
             "color": "#2a3f5f"
            },
            "marker": {
             "line": {
              "color": "#E5ECF6",
              "width": 0.5
             },
             "pattern": {
              "fillmode": "overlay",
              "size": 10,
              "solidity": 0.2
             }
            },
            "type": "bar"
           }
          ],
          "barpolar": [
           {
            "marker": {
             "line": {
              "color": "#E5ECF6",
              "width": 0.5
             },
             "pattern": {
              "fillmode": "overlay",
              "size": 10,
              "solidity": 0.2
             }
            },
            "type": "barpolar"
           }
          ],
          "carpet": [
           {
            "aaxis": {
             "endlinecolor": "#2a3f5f",
             "gridcolor": "white",
             "linecolor": "white",
             "minorgridcolor": "white",
             "startlinecolor": "#2a3f5f"
            },
            "baxis": {
             "endlinecolor": "#2a3f5f",
             "gridcolor": "white",
             "linecolor": "white",
             "minorgridcolor": "white",
             "startlinecolor": "#2a3f5f"
            },
            "type": "carpet"
           }
          ],
          "choropleth": [
           {
            "colorbar": {
             "outlinewidth": 0,
             "ticks": ""
            },
            "type": "choropleth"
           }
          ],
          "contour": [
           {
            "colorbar": {
             "outlinewidth": 0,
             "ticks": ""
            },
            "colorscale": [
             [
              0,
              "#0d0887"
             ],
             [
              0.1111111111111111,
              "#46039f"
             ],
             [
              0.2222222222222222,
              "#7201a8"
             ],
             [
              0.3333333333333333,
              "#9c179e"
             ],
             [
              0.4444444444444444,
              "#bd3786"
             ],
             [
              0.5555555555555556,
              "#d8576b"
             ],
             [
              0.6666666666666666,
              "#ed7953"
             ],
             [
              0.7777777777777778,
              "#fb9f3a"
             ],
             [
              0.8888888888888888,
              "#fdca26"
             ],
             [
              1,
              "#f0f921"
             ]
            ],
            "type": "contour"
           }
          ],
          "contourcarpet": [
           {
            "colorbar": {
             "outlinewidth": 0,
             "ticks": ""
            },
            "type": "contourcarpet"
           }
          ],
          "heatmap": [
           {
            "colorbar": {
             "outlinewidth": 0,
             "ticks": ""
            },
            "colorscale": [
             [
              0,
              "#0d0887"
             ],
             [
              0.1111111111111111,
              "#46039f"
             ],
             [
              0.2222222222222222,
              "#7201a8"
             ],
             [
              0.3333333333333333,
              "#9c179e"
             ],
             [
              0.4444444444444444,
              "#bd3786"
             ],
             [
              0.5555555555555556,
              "#d8576b"
             ],
             [
              0.6666666666666666,
              "#ed7953"
             ],
             [
              0.7777777777777778,
              "#fb9f3a"
             ],
             [
              0.8888888888888888,
              "#fdca26"
             ],
             [
              1,
              "#f0f921"
             ]
            ],
            "type": "heatmap"
           }
          ],
          "heatmapgl": [
           {
            "colorbar": {
             "outlinewidth": 0,
             "ticks": ""
            },
            "colorscale": [
             [
              0,
              "#0d0887"
             ],
             [
              0.1111111111111111,
              "#46039f"
             ],
             [
              0.2222222222222222,
              "#7201a8"
             ],
             [
              0.3333333333333333,
              "#9c179e"
             ],
             [
              0.4444444444444444,
              "#bd3786"
             ],
             [
              0.5555555555555556,
              "#d8576b"
             ],
             [
              0.6666666666666666,
              "#ed7953"
             ],
             [
              0.7777777777777778,
              "#fb9f3a"
             ],
             [
              0.8888888888888888,
              "#fdca26"
             ],
             [
              1,
              "#f0f921"
             ]
            ],
            "type": "heatmapgl"
           }
          ],
          "histogram": [
           {
            "marker": {
             "pattern": {
              "fillmode": "overlay",
              "size": 10,
              "solidity": 0.2
             }
            },
            "type": "histogram"
           }
          ],
          "histogram2d": [
           {
            "colorbar": {
             "outlinewidth": 0,
             "ticks": ""
            },
            "colorscale": [
             [
              0,
              "#0d0887"
             ],
             [
              0.1111111111111111,
              "#46039f"
             ],
             [
              0.2222222222222222,
              "#7201a8"
             ],
             [
              0.3333333333333333,
              "#9c179e"
             ],
             [
              0.4444444444444444,
              "#bd3786"
             ],
             [
              0.5555555555555556,
              "#d8576b"
             ],
             [
              0.6666666666666666,
              "#ed7953"
             ],
             [
              0.7777777777777778,
              "#fb9f3a"
             ],
             [
              0.8888888888888888,
              "#fdca26"
             ],
             [
              1,
              "#f0f921"
             ]
            ],
            "type": "histogram2d"
           }
          ],
          "histogram2dcontour": [
           {
            "colorbar": {
             "outlinewidth": 0,
             "ticks": ""
            },
            "colorscale": [
             [
              0,
              "#0d0887"
             ],
             [
              0.1111111111111111,
              "#46039f"
             ],
             [
              0.2222222222222222,
              "#7201a8"
             ],
             [
              0.3333333333333333,
              "#9c179e"
             ],
             [
              0.4444444444444444,
              "#bd3786"
             ],
             [
              0.5555555555555556,
              "#d8576b"
             ],
             [
              0.6666666666666666,
              "#ed7953"
             ],
             [
              0.7777777777777778,
              "#fb9f3a"
             ],
             [
              0.8888888888888888,
              "#fdca26"
             ],
             [
              1,
              "#f0f921"
             ]
            ],
            "type": "histogram2dcontour"
           }
          ],
          "mesh3d": [
           {
            "colorbar": {
             "outlinewidth": 0,
             "ticks": ""
            },
            "type": "mesh3d"
           }
          ],
          "parcoords": [
           {
            "line": {
             "colorbar": {
              "outlinewidth": 0,
              "ticks": ""
             }
            },
            "type": "parcoords"
           }
          ],
          "pie": [
           {
            "automargin": true,
            "type": "pie"
           }
          ],
          "scatter": [
           {
            "fillpattern": {
             "fillmode": "overlay",
             "size": 10,
             "solidity": 0.2
            },
            "type": "scatter"
           }
          ],
          "scatter3d": [
           {
            "line": {
             "colorbar": {
              "outlinewidth": 0,
              "ticks": ""
             }
            },
            "marker": {
             "colorbar": {
              "outlinewidth": 0,
              "ticks": ""
             }
            },
            "type": "scatter3d"
           }
          ],
          "scattercarpet": [
           {
            "marker": {
             "colorbar": {
              "outlinewidth": 0,
              "ticks": ""
             }
            },
            "type": "scattercarpet"
           }
          ],
          "scattergeo": [
           {
            "marker": {
             "colorbar": {
              "outlinewidth": 0,
              "ticks": ""
             }
            },
            "type": "scattergeo"
           }
          ],
          "scattergl": [
           {
            "marker": {
             "colorbar": {
              "outlinewidth": 0,
              "ticks": ""
             }
            },
            "type": "scattergl"
           }
          ],
          "scattermapbox": [
           {
            "marker": {
             "colorbar": {
              "outlinewidth": 0,
              "ticks": ""
             }
            },
            "type": "scattermapbox"
           }
          ],
          "scatterpolar": [
           {
            "marker": {
             "colorbar": {
              "outlinewidth": 0,
              "ticks": ""
             }
            },
            "type": "scatterpolar"
           }
          ],
          "scatterpolargl": [
           {
            "marker": {
             "colorbar": {
              "outlinewidth": 0,
              "ticks": ""
             }
            },
            "type": "scatterpolargl"
           }
          ],
          "scatterternary": [
           {
            "marker": {
             "colorbar": {
              "outlinewidth": 0,
              "ticks": ""
             }
            },
            "type": "scatterternary"
           }
          ],
          "surface": [
           {
            "colorbar": {
             "outlinewidth": 0,
             "ticks": ""
            },
            "colorscale": [
             [
              0,
              "#0d0887"
             ],
             [
              0.1111111111111111,
              "#46039f"
             ],
             [
              0.2222222222222222,
              "#7201a8"
             ],
             [
              0.3333333333333333,
              "#9c179e"
             ],
             [
              0.4444444444444444,
              "#bd3786"
             ],
             [
              0.5555555555555556,
              "#d8576b"
             ],
             [
              0.6666666666666666,
              "#ed7953"
             ],
             [
              0.7777777777777778,
              "#fb9f3a"
             ],
             [
              0.8888888888888888,
              "#fdca26"
             ],
             [
              1,
              "#f0f921"
             ]
            ],
            "type": "surface"
           }
          ],
          "table": [
           {
            "cells": {
             "fill": {
              "color": "#EBF0F8"
             },
             "line": {
              "color": "white"
             }
            },
            "header": {
             "fill": {
              "color": "#C8D4E3"
             },
             "line": {
              "color": "white"
             }
            },
            "type": "table"
           }
          ]
         },
         "layout": {
          "annotationdefaults": {
           "arrowcolor": "#2a3f5f",
           "arrowhead": 0,
           "arrowwidth": 1
          },
          "autotypenumbers": "strict",
          "coloraxis": {
           "colorbar": {
            "outlinewidth": 0,
            "ticks": ""
           }
          },
          "colorscale": {
           "diverging": [
            [
             0,
             "#8e0152"
            ],
            [
             0.1,
             "#c51b7d"
            ],
            [
             0.2,
             "#de77ae"
            ],
            [
             0.3,
             "#f1b6da"
            ],
            [
             0.4,
             "#fde0ef"
            ],
            [
             0.5,
             "#f7f7f7"
            ],
            [
             0.6,
             "#e6f5d0"
            ],
            [
             0.7,
             "#b8e186"
            ],
            [
             0.8,
             "#7fbc41"
            ],
            [
             0.9,
             "#4d9221"
            ],
            [
             1,
             "#276419"
            ]
           ],
           "sequential": [
            [
             0,
             "#0d0887"
            ],
            [
             0.1111111111111111,
             "#46039f"
            ],
            [
             0.2222222222222222,
             "#7201a8"
            ],
            [
             0.3333333333333333,
             "#9c179e"
            ],
            [
             0.4444444444444444,
             "#bd3786"
            ],
            [
             0.5555555555555556,
             "#d8576b"
            ],
            [
             0.6666666666666666,
             "#ed7953"
            ],
            [
             0.7777777777777778,
             "#fb9f3a"
            ],
            [
             0.8888888888888888,
             "#fdca26"
            ],
            [
             1,
             "#f0f921"
            ]
           ],
           "sequentialminus": [
            [
             0,
             "#0d0887"
            ],
            [
             0.1111111111111111,
             "#46039f"
            ],
            [
             0.2222222222222222,
             "#7201a8"
            ],
            [
             0.3333333333333333,
             "#9c179e"
            ],
            [
             0.4444444444444444,
             "#bd3786"
            ],
            [
             0.5555555555555556,
             "#d8576b"
            ],
            [
             0.6666666666666666,
             "#ed7953"
            ],
            [
             0.7777777777777778,
             "#fb9f3a"
            ],
            [
             0.8888888888888888,
             "#fdca26"
            ],
            [
             1,
             "#f0f921"
            ]
           ]
          },
          "colorway": [
           "#636efa",
           "#EF553B",
           "#00cc96",
           "#ab63fa",
           "#FFA15A",
           "#19d3f3",
           "#FF6692",
           "#B6E880",
           "#FF97FF",
           "#FECB52"
          ],
          "font": {
           "color": "#2a3f5f"
          },
          "geo": {
           "bgcolor": "white",
           "lakecolor": "white",
           "landcolor": "#E5ECF6",
           "showlakes": true,
           "showland": true,
           "subunitcolor": "white"
          },
          "hoverlabel": {
           "align": "left"
          },
          "hovermode": "closest",
          "mapbox": {
           "style": "light"
          },
          "paper_bgcolor": "white",
          "plot_bgcolor": "#E5ECF6",
          "polar": {
           "angularaxis": {
            "gridcolor": "white",
            "linecolor": "white",
            "ticks": ""
           },
           "bgcolor": "#E5ECF6",
           "radialaxis": {
            "gridcolor": "white",
            "linecolor": "white",
            "ticks": ""
           }
          },
          "scene": {
           "xaxis": {
            "backgroundcolor": "#E5ECF6",
            "gridcolor": "white",
            "gridwidth": 2,
            "linecolor": "white",
            "showbackground": true,
            "ticks": "",
            "zerolinecolor": "white"
           },
           "yaxis": {
            "backgroundcolor": "#E5ECF6",
            "gridcolor": "white",
            "gridwidth": 2,
            "linecolor": "white",
            "showbackground": true,
            "ticks": "",
            "zerolinecolor": "white"
           },
           "zaxis": {
            "backgroundcolor": "#E5ECF6",
            "gridcolor": "white",
            "gridwidth": 2,
            "linecolor": "white",
            "showbackground": true,
            "ticks": "",
            "zerolinecolor": "white"
           }
          },
          "shapedefaults": {
           "line": {
            "color": "#2a3f5f"
           }
          },
          "ternary": {
           "aaxis": {
            "gridcolor": "white",
            "linecolor": "white",
            "ticks": ""
           },
           "baxis": {
            "gridcolor": "white",
            "linecolor": "white",
            "ticks": ""
           },
           "bgcolor": "#E5ECF6",
           "caxis": {
            "gridcolor": "white",
            "linecolor": "white",
            "ticks": ""
           }
          },
          "title": {
           "x": 0.05
          },
          "xaxis": {
           "automargin": true,
           "gridcolor": "white",
           "linecolor": "white",
           "ticks": "",
           "title": {
            "standoff": 15
           },
           "zerolinecolor": "white",
           "zerolinewidth": 2
          },
          "yaxis": {
           "automargin": true,
           "gridcolor": "white",
           "linecolor": "white",
           "ticks": "",
           "title": {
            "standoff": 15
           },
           "zerolinecolor": "white",
           "zerolinewidth": 2
          }
         }
        },
        "title": {
         "text": "2011 US Agricultural Exports By States"
        }
       }
      },
      "text/html": [
       "<div>                            <div id=\"f9803dc5-51a2-4688-bf9e-cf540aad72af\" class=\"plotly-graph-div\" style=\"height:525px; width:100%;\"></div>            <script type=\"text/javascript\">                require([\"plotly\"], function(Plotly) {                    window.PLOTLYENV=window.PLOTLYENV || {};                                    if (document.getElementById(\"f9803dc5-51a2-4688-bf9e-cf540aad72af\")) {                    Plotly.newPlot(                        \"f9803dc5-51a2-4688-bf9e-cf540aad72af\",                        [{\"colorbar\":{\"title\":{\"text\":\"Millions USD\"}},\"colorscale\":[[0.0,\"rgb(12,51,131)\"],[0.25,\"rgb(10,136,186)\"],[0.5,\"rgb(242,211,56)\"],[0.75,\"rgb(242,143,56)\"],[1.0,\"rgb(217,30,30)\"]],\"locationmode\":\"USA-states\",\"locations\":[\"AL\",\"AK\",\"AZ\",\"AR\",\"CA\",\"CO\",\"CT\",\"DE\",\"FL\",\"GA\",\"HI\",\"ID\",\"IL\",\"IN\",\"IA\",\"KS\",\"KY\",\"LA\",\"ME\",\"MD\",\"MA\",\"MI\",\"MN\",\"MS\",\"MO\",\"MT\",\"NE\",\"NV\",\"NH\",\"NJ\",\"NM\",\"NY\",\"NC\",\"ND\",\"OH\",\"OK\",\"OR\",\"PA\",\"RI\",\"SC\",\"SD\",\"TN\",\"TX\",\"UT\",\"VT\",\"VA\",\"WA\",\"WV\",\"WI\",\"WY\"],\"marker\":{\"line\":{\"color\":\"rgb(255,255,255)\",\"width\":2}},\"text\":[\"Alabama<br>Beef 34.4 Dairy 4.06<br>Fruits 25.11 Veggies 14.33<br>Wheat 70.0 Corn 34.9\",\"Alaska<br>Beef 0.2 Dairy 0.19<br>Fruits 0.0 Veggies 1.56<br>Wheat 0.0 Corn 0.0\",\"Arizona<br>Beef 71.3 Dairy 105.48<br>Fruits 60.27 Veggies 386.91<br>Wheat 48.7 Corn 7.3\",\"Arkansas<br>Beef 53.2 Dairy 3.53<br>Fruits 6.88 Veggies 11.45<br>Wheat 114.5 Corn 69.5\",\" California<br>Beef 228.7 Dairy 929.95<br>Fruits 8736.4 Veggies 2106.79<br>Wheat 249.3 Corn 34.6\",\"Colorado<br>Beef 261.4 Dairy 71.94<br>Fruits 17.99 Veggies 118.27<br>Wheat 400.5 Corn 183.2\",\"Connecticut<br>Beef 1.1 Dairy 9.49<br>Fruits 13.1 Veggies 11.16<br>Wheat 0.0 Corn 0.0\",\"Delaware<br>Beef 0.4 Dairy 2.3<br>Fruits 1.53 Veggies 20.03<br>Wheat 22.9 Corn 26.9\",\"Florida<br>Beef 42.6 Dairy 66.31<br>Fruits 1371.36 Veggies 450.86<br>Wheat 1.8 Corn 3.5\",\"Georgia<br>Beef 31.0 Dairy 38.38<br>Fruits 233.51 Veggies 154.77<br>Wheat 65.4 Corn 57.8\",\"Hawaii<br>Beef 4.0 Dairy 1.16<br>Fruits 55.51 Veggies 24.83<br>Wheat 0.0 Corn 0.0\",\"Idaho<br>Beef 119.8 Dairy 294.6<br>Fruits 21.64 Veggies 319.19<br>Wheat 568.2 Corn 24.0\",\"Illinois<br>Beef 53.7 Dairy 45.82<br>Fruits 12.53 Veggies 39.95<br>Wheat 223.8 Corn 2228.5\",\"Indiana<br>Beef 21.9 Dairy 89.7<br>Fruits 12.98 Veggies 37.89<br>Wheat 114.0 Corn 1123.2\",\"Iowa<br>Beef 289.8 Dairy 107.0<br>Fruits 3.24 Veggies 7.1<br>Wheat 3.1 Corn 2529.8\",\"Kansas<br>Beef 659.3 Dairy 65.45<br>Fruits 3.11 Veggies 9.32<br>Wheat 1426.5 Corn 457.3\",\"Kentucky<br>Beef 54.8 Dairy 28.27<br>Fruits 6.6 Veggies 0.0<br>Wheat 149.3 Corn 179.1\",\"Louisiana<br>Beef 19.8 Dairy 6.02<br>Fruits 17.83 Veggies 17.25<br>Wheat 78.7 Corn 91.4\",\"Maine<br>Beef 1.4 Dairy 16.18<br>Fruits 52.01 Veggies 62.9<br>Wheat 0.0 Corn 0.0\",\"Maryland<br>Beef 5.6 Dairy 24.81<br>Fruits 12.9 Veggies 20.43<br>Wheat 55.8 Corn 54.1\",\"Massachusetts<br>Beef 0.6 Dairy 5.81<br>Fruits 80.83 Veggies 21.13<br>Wheat 0.0 Corn 0.0\",\"Michigan<br>Beef 37.7 Dairy 214.82<br>Fruits 257.69 Veggies 189.96<br>Wheat 247.0 Corn 381.5\",\"Minnesota<br>Beef 112.3 Dairy 218.05<br>Fruits 7.91 Veggies 120.37<br>Wheat 538.1 Corn 1264.3\",\"Mississippi<br>Beef 12.8 Dairy 5.45<br>Fruits 17.04 Veggies 27.87<br>Wheat 102.2 Corn 110.0\",\"Missouri<br>Beef 137.2 Dairy 34.26<br>Fruits 13.18 Veggies 17.9<br>Wheat 161.7 Corn 428.8\",\"Montana<br>Beef 105.0 Dairy 6.82<br>Fruits 3.3 Veggies 45.27<br>Wheat 1198.1 Corn 5.4\",\"Nebraska<br>Beef 762.2 Dairy 30.07<br>Fruits 2.16 Veggies 53.5<br>Wheat 292.3 Corn 1735.9\",\"Nevada<br>Beef 21.8 Dairy 16.57<br>Fruits 1.19 Veggies 27.93<br>Wheat 5.4 Corn 0.0\",\"New Hampshire<br>Beef 0.6 Dairy 7.46<br>Fruits 7.98 Veggies 4.5<br>Wheat 0.0 Corn 0.0\",\"New Jersey<br>Beef 0.8 Dairy 3.37<br>Fruits 109.45 Veggies 56.54<br>Wheat 6.7 Corn 10.1\",\"New Mexico<br>Beef 117.2 Dairy 191.01<br>Fruits 101.9 Veggies 43.88<br>Wheat 13.9 Corn 11.2\",\"New York<br>Beef 22.2 Dairy 331.8<br>Fruits 202.56 Veggies 143.37<br>Wheat 29.9 Corn 106.1\",\"North Carolina<br>Beef 24.8 Dairy 24.9<br>Fruits 74.47 Veggies 150.45<br>Wheat 200.3 Corn 92.2\",\"North Dakota<br>Beef 78.5 Dairy 8.14<br>Fruits 0.25 Veggies 130.79<br>Wheat 1664.5 Corn 236.1\",\"Ohio<br>Beef 36.2 Dairy 134.57<br>Fruits 27.21 Veggies 53.53<br>Wheat 207.4 Corn 535.1\",\"Oklahoma<br>Beef 337.6 Dairy 24.35<br>Fruits 9.24 Veggies 8.9<br>Wheat 324.8 Corn 27.5\",\"Oregon<br>Beef 58.8 Dairy 63.66<br>Fruits 315.04 Veggies 126.5<br>Wheat 320.3 Corn 11.7\",\"Pennsylvania<br>Beef 50.9 Dairy 280.87<br>Fruits 89.48 Veggies 38.26<br>Wheat 41.0 Corn 112.1\",\"Rhode Island<br>Beef 0.1 Dairy 0.52<br>Fruits 2.83 Veggies 3.02<br>Wheat 0.0 Corn 0.0\",\"South Carolina<br>Beef 15.2 Dairy 7.62<br>Fruits 53.45 Veggies 42.66<br>Wheat 55.3 Corn 32.1\",\"South Dakota<br>Beef 193.5 Dairy 46.77<br>Fruits 0.8 Veggies 4.06<br>Wheat 704.5 Corn 643.6\",\"Tennessee<br>Beef 51.1 Dairy 21.18<br>Fruits 6.23 Veggies 24.67<br>Wheat 100.0 Corn 88.8\",\"Texas<br>Beef 961.0 Dairy 240.55<br>Fruits 99.9 Veggies 115.23<br>Wheat 309.7 Corn 167.2\",\"Utah<br>Beef 27.9 Dairy 48.6<br>Fruits 12.34 Veggies 6.6<br>Wheat 42.8 Corn 5.3\",\"Vermont<br>Beef 6.2 Dairy 65.98<br>Fruits 8.01 Veggies 4.05<br>Wheat 0.0 Corn 0.0\",\"Virginia<br>Beef 39.5 Dairy 47.85<br>Fruits 36.48 Veggies 27.25<br>Wheat 77.5 Corn 39.5\",\"Washington<br>Beef 59.2 Dairy 154.18<br>Fruits 1738.57 Veggies 363.79<br>Wheat 786.3 Corn 29.5\",\"West Virginia<br>Beef 12.0 Dairy 3.9<br>Fruits 11.54 Veggies 0.0<br>Wheat 1.6 Corn 3.5\",\"Wisconsin<br>Beef 107.3 Dairy 633.6<br>Fruits 133.8 Veggies 148.99<br>Wheat 96.7 Corn 460.5\",\"Wyoming<br>Beef 75.1 Dairy 2.89<br>Fruits 0.17 Veggies 10.23<br>Wheat 20.7 Corn 9.0\"],\"z\":[1390.63,13.31,1463.17,3586.02,16472.88,1851.33,259.62,282.19,3764.09,2860.84,401.84,2078.89,8709.48,5050.23,11273.76,4589.01,1889.15,1914.23,278.37,692.75,248.65,3164.16,7192.33,2170.8,3933.42,1718.0,7114.13,139.89,73.06,500.4,751.58,1488.9,3806.05,3761.96,3979.79,1646.41,1794.57,1969.87,31.59,929.93,3770.19,1535.13,6648.22,453.39,180.14,1146.48,3894.81,138.89,3090.23,349.69],\"type\":\"choropleth\"}],                        {\"geo\":{\"scope\":\"usa\"},\"template\":{\"data\":{\"barpolar\":[{\"marker\":{\"line\":{\"color\":\"#E5ECF6\",\"width\":0.5},\"pattern\":{\"fillmode\":\"overlay\",\"size\":10,\"solidity\":0.2}},\"type\":\"barpolar\"}],\"bar\":[{\"error_x\":{\"color\":\"#2a3f5f\"},\"error_y\":{\"color\":\"#2a3f5f\"},\"marker\":{\"line\":{\"color\":\"#E5ECF6\",\"width\":0.5},\"pattern\":{\"fillmode\":\"overlay\",\"size\":10,\"solidity\":0.2}},\"type\":\"bar\"}],\"carpet\":[{\"aaxis\":{\"endlinecolor\":\"#2a3f5f\",\"gridcolor\":\"white\",\"linecolor\":\"white\",\"minorgridcolor\":\"white\",\"startlinecolor\":\"#2a3f5f\"},\"baxis\":{\"endlinecolor\":\"#2a3f5f\",\"gridcolor\":\"white\",\"linecolor\":\"white\",\"minorgridcolor\":\"white\",\"startlinecolor\":\"#2a3f5f\"},\"type\":\"carpet\"}],\"choropleth\":[{\"colorbar\":{\"outlinewidth\":0,\"ticks\":\"\"},\"type\":\"choropleth\"}],\"contourcarpet\":[{\"colorbar\":{\"outlinewidth\":0,\"ticks\":\"\"},\"type\":\"contourcarpet\"}],\"contour\":[{\"colorbar\":{\"outlinewidth\":0,\"ticks\":\"\"},\"colorscale\":[[0.0,\"#0d0887\"],[0.1111111111111111,\"#46039f\"],[0.2222222222222222,\"#7201a8\"],[0.3333333333333333,\"#9c179e\"],[0.4444444444444444,\"#bd3786\"],[0.5555555555555556,\"#d8576b\"],[0.6666666666666666,\"#ed7953\"],[0.7777777777777778,\"#fb9f3a\"],[0.8888888888888888,\"#fdca26\"],[1.0,\"#f0f921\"]],\"type\":\"contour\"}],\"heatmapgl\":[{\"colorbar\":{\"outlinewidth\":0,\"ticks\":\"\"},\"colorscale\":[[0.0,\"#0d0887\"],[0.1111111111111111,\"#46039f\"],[0.2222222222222222,\"#7201a8\"],[0.3333333333333333,\"#9c179e\"],[0.4444444444444444,\"#bd3786\"],[0.5555555555555556,\"#d8576b\"],[0.6666666666666666,\"#ed7953\"],[0.7777777777777778,\"#fb9f3a\"],[0.8888888888888888,\"#fdca26\"],[1.0,\"#f0f921\"]],\"type\":\"heatmapgl\"}],\"heatmap\":[{\"colorbar\":{\"outlinewidth\":0,\"ticks\":\"\"},\"colorscale\":[[0.0,\"#0d0887\"],[0.1111111111111111,\"#46039f\"],[0.2222222222222222,\"#7201a8\"],[0.3333333333333333,\"#9c179e\"],[0.4444444444444444,\"#bd3786\"],[0.5555555555555556,\"#d8576b\"],[0.6666666666666666,\"#ed7953\"],[0.7777777777777778,\"#fb9f3a\"],[0.8888888888888888,\"#fdca26\"],[1.0,\"#f0f921\"]],\"type\":\"heatmap\"}],\"histogram2dcontour\":[{\"colorbar\":{\"outlinewidth\":0,\"ticks\":\"\"},\"colorscale\":[[0.0,\"#0d0887\"],[0.1111111111111111,\"#46039f\"],[0.2222222222222222,\"#7201a8\"],[0.3333333333333333,\"#9c179e\"],[0.4444444444444444,\"#bd3786\"],[0.5555555555555556,\"#d8576b\"],[0.6666666666666666,\"#ed7953\"],[0.7777777777777778,\"#fb9f3a\"],[0.8888888888888888,\"#fdca26\"],[1.0,\"#f0f921\"]],\"type\":\"histogram2dcontour\"}],\"histogram2d\":[{\"colorbar\":{\"outlinewidth\":0,\"ticks\":\"\"},\"colorscale\":[[0.0,\"#0d0887\"],[0.1111111111111111,\"#46039f\"],[0.2222222222222222,\"#7201a8\"],[0.3333333333333333,\"#9c179e\"],[0.4444444444444444,\"#bd3786\"],[0.5555555555555556,\"#d8576b\"],[0.6666666666666666,\"#ed7953\"],[0.7777777777777778,\"#fb9f3a\"],[0.8888888888888888,\"#fdca26\"],[1.0,\"#f0f921\"]],\"type\":\"histogram2d\"}],\"histogram\":[{\"marker\":{\"pattern\":{\"fillmode\":\"overlay\",\"size\":10,\"solidity\":0.2}},\"type\":\"histogram\"}],\"mesh3d\":[{\"colorbar\":{\"outlinewidth\":0,\"ticks\":\"\"},\"type\":\"mesh3d\"}],\"parcoords\":[{\"line\":{\"colorbar\":{\"outlinewidth\":0,\"ticks\":\"\"}},\"type\":\"parcoords\"}],\"pie\":[{\"automargin\":true,\"type\":\"pie\"}],\"scatter3d\":[{\"line\":{\"colorbar\":{\"outlinewidth\":0,\"ticks\":\"\"}},\"marker\":{\"colorbar\":{\"outlinewidth\":0,\"ticks\":\"\"}},\"type\":\"scatter3d\"}],\"scattercarpet\":[{\"marker\":{\"colorbar\":{\"outlinewidth\":0,\"ticks\":\"\"}},\"type\":\"scattercarpet\"}],\"scattergeo\":[{\"marker\":{\"colorbar\":{\"outlinewidth\":0,\"ticks\":\"\"}},\"type\":\"scattergeo\"}],\"scattergl\":[{\"marker\":{\"colorbar\":{\"outlinewidth\":0,\"ticks\":\"\"}},\"type\":\"scattergl\"}],\"scattermapbox\":[{\"marker\":{\"colorbar\":{\"outlinewidth\":0,\"ticks\":\"\"}},\"type\":\"scattermapbox\"}],\"scatterpolargl\":[{\"marker\":{\"colorbar\":{\"outlinewidth\":0,\"ticks\":\"\"}},\"type\":\"scatterpolargl\"}],\"scatterpolar\":[{\"marker\":{\"colorbar\":{\"outlinewidth\":0,\"ticks\":\"\"}},\"type\":\"scatterpolar\"}],\"scatter\":[{\"fillpattern\":{\"fillmode\":\"overlay\",\"size\":10,\"solidity\":0.2},\"type\":\"scatter\"}],\"scatterternary\":[{\"marker\":{\"colorbar\":{\"outlinewidth\":0,\"ticks\":\"\"}},\"type\":\"scatterternary\"}],\"surface\":[{\"colorbar\":{\"outlinewidth\":0,\"ticks\":\"\"},\"colorscale\":[[0.0,\"#0d0887\"],[0.1111111111111111,\"#46039f\"],[0.2222222222222222,\"#7201a8\"],[0.3333333333333333,\"#9c179e\"],[0.4444444444444444,\"#bd3786\"],[0.5555555555555556,\"#d8576b\"],[0.6666666666666666,\"#ed7953\"],[0.7777777777777778,\"#fb9f3a\"],[0.8888888888888888,\"#fdca26\"],[1.0,\"#f0f921\"]],\"type\":\"surface\"}],\"table\":[{\"cells\":{\"fill\":{\"color\":\"#EBF0F8\"},\"line\":{\"color\":\"white\"}},\"header\":{\"fill\":{\"color\":\"#C8D4E3\"},\"line\":{\"color\":\"white\"}},\"type\":\"table\"}]},\"layout\":{\"annotationdefaults\":{\"arrowcolor\":\"#2a3f5f\",\"arrowhead\":0,\"arrowwidth\":1},\"autotypenumbers\":\"strict\",\"coloraxis\":{\"colorbar\":{\"outlinewidth\":0,\"ticks\":\"\"}},\"colorscale\":{\"diverging\":[[0,\"#8e0152\"],[0.1,\"#c51b7d\"],[0.2,\"#de77ae\"],[0.3,\"#f1b6da\"],[0.4,\"#fde0ef\"],[0.5,\"#f7f7f7\"],[0.6,\"#e6f5d0\"],[0.7,\"#b8e186\"],[0.8,\"#7fbc41\"],[0.9,\"#4d9221\"],[1,\"#276419\"]],\"sequential\":[[0.0,\"#0d0887\"],[0.1111111111111111,\"#46039f\"],[0.2222222222222222,\"#7201a8\"],[0.3333333333333333,\"#9c179e\"],[0.4444444444444444,\"#bd3786\"],[0.5555555555555556,\"#d8576b\"],[0.6666666666666666,\"#ed7953\"],[0.7777777777777778,\"#fb9f3a\"],[0.8888888888888888,\"#fdca26\"],[1.0,\"#f0f921\"]],\"sequentialminus\":[[0.0,\"#0d0887\"],[0.1111111111111111,\"#46039f\"],[0.2222222222222222,\"#7201a8\"],[0.3333333333333333,\"#9c179e\"],[0.4444444444444444,\"#bd3786\"],[0.5555555555555556,\"#d8576b\"],[0.6666666666666666,\"#ed7953\"],[0.7777777777777778,\"#fb9f3a\"],[0.8888888888888888,\"#fdca26\"],[1.0,\"#f0f921\"]]},\"colorway\":[\"#636efa\",\"#EF553B\",\"#00cc96\",\"#ab63fa\",\"#FFA15A\",\"#19d3f3\",\"#FF6692\",\"#B6E880\",\"#FF97FF\",\"#FECB52\"],\"font\":{\"color\":\"#2a3f5f\"},\"geo\":{\"bgcolor\":\"white\",\"lakecolor\":\"white\",\"landcolor\":\"#E5ECF6\",\"showlakes\":true,\"showland\":true,\"subunitcolor\":\"white\"},\"hoverlabel\":{\"align\":\"left\"},\"hovermode\":\"closest\",\"mapbox\":{\"style\":\"light\"},\"paper_bgcolor\":\"white\",\"plot_bgcolor\":\"#E5ECF6\",\"polar\":{\"angularaxis\":{\"gridcolor\":\"white\",\"linecolor\":\"white\",\"ticks\":\"\"},\"bgcolor\":\"#E5ECF6\",\"radialaxis\":{\"gridcolor\":\"white\",\"linecolor\":\"white\",\"ticks\":\"\"}},\"scene\":{\"xaxis\":{\"backgroundcolor\":\"#E5ECF6\",\"gridcolor\":\"white\",\"gridwidth\":2,\"linecolor\":\"white\",\"showbackground\":true,\"ticks\":\"\",\"zerolinecolor\":\"white\"},\"yaxis\":{\"backgroundcolor\":\"#E5ECF6\",\"gridcolor\":\"white\",\"gridwidth\":2,\"linecolor\":\"white\",\"showbackground\":true,\"ticks\":\"\",\"zerolinecolor\":\"white\"},\"zaxis\":{\"backgroundcolor\":\"#E5ECF6\",\"gridcolor\":\"white\",\"gridwidth\":2,\"linecolor\":\"white\",\"showbackground\":true,\"ticks\":\"\",\"zerolinecolor\":\"white\"}},\"shapedefaults\":{\"line\":{\"color\":\"#2a3f5f\"}},\"ternary\":{\"aaxis\":{\"gridcolor\":\"white\",\"linecolor\":\"white\",\"ticks\":\"\"},\"baxis\":{\"gridcolor\":\"white\",\"linecolor\":\"white\",\"ticks\":\"\"},\"bgcolor\":\"#E5ECF6\",\"caxis\":{\"gridcolor\":\"white\",\"linecolor\":\"white\",\"ticks\":\"\"}},\"title\":{\"x\":0.05},\"xaxis\":{\"automargin\":true,\"gridcolor\":\"white\",\"linecolor\":\"white\",\"ticks\":\"\",\"title\":{\"standoff\":15},\"zerolinecolor\":\"white\",\"zerolinewidth\":2},\"yaxis\":{\"automargin\":true,\"gridcolor\":\"white\",\"linecolor\":\"white\",\"ticks\":\"\",\"title\":{\"standoff\":15},\"zerolinecolor\":\"white\",\"zerolinewidth\":2}}},\"title\":{\"text\":\"2011 US Agricultural Exports By States\"}},                        {\"responsive\": true}                    ).then(function(){\n",
       "                            \n",
       "var gd = document.getElementById('f9803dc5-51a2-4688-bf9e-cf540aad72af');\n",
       "var x = new MutationObserver(function (mutations, observer) {{\n",
       "        var display = window.getComputedStyle(gd).display;\n",
       "        if (!display || display === 'none') {{\n",
       "            console.log([gd, 'removed!']);\n",
       "            Plotly.purge(gd);\n",
       "            observer.disconnect();\n",
       "        }}\n",
       "}});\n",
       "\n",
       "// Listen for the removal of the full notebook cells\n",
       "var notebookContainer = gd.closest('#notebook-container');\n",
       "if (notebookContainer) {{\n",
       "    x.observe(notebookContainer, {childList: true});\n",
       "}}\n",
       "\n",
       "// Listen for the clearing of the current output cell\n",
       "var outputEl = gd.closest('.output');\n",
       "if (outputEl) {{\n",
       "    x.observe(outputEl, {childList: true});\n",
       "}}\n",
       "\n",
       "                        })                };                });            </script>        </div>"
      ]
     },
     "metadata": {},
     "output_type": "display_data"
    }
   ],
   "source": [
    "iplot(choromap)"
   ]
  },
  {
   "cell_type": "code",
   "execution_count": 46,
   "id": "2447a7a0",
   "metadata": {},
   "outputs": [],
   "source": [
    "choromap.write_html('US Export.html')"
   ]
  },
  {
   "cell_type": "code",
   "execution_count": 60,
   "id": "c19729d7",
   "metadata": {},
   "outputs": [
    {
     "name": "stdout",
     "output_type": "stream",
     "text": [
      "Please check the file US Export for the geographical plot\n"
     ]
    }
   ],
   "source": [
    "print('Please check the file US Export for the geographical plot')"
   ]
  },
  {
   "cell_type": "code",
   "execution_count": null,
   "id": "fdf91276",
   "metadata": {},
   "outputs": [],
   "source": []
  },
  {
   "cell_type": "code",
   "execution_count": null,
   "id": "471b48a7",
   "metadata": {},
   "outputs": [],
   "source": []
  },
  {
   "cell_type": "code",
   "execution_count": null,
   "id": "3ee3f03d",
   "metadata": {},
   "outputs": [],
   "source": []
  },
  {
   "cell_type": "code",
   "execution_count": null,
   "id": "d27ceb22",
   "metadata": {},
   "outputs": [],
   "source": []
  }
 ],
 "metadata": {
  "kernelspec": {
   "display_name": "Python 3 (ipykernel)",
   "language": "python",
   "name": "python3"
  },
  "language_info": {
   "codemirror_mode": {
    "name": "ipython",
    "version": 3
   },
   "file_extension": ".py",
   "mimetype": "text/x-python",
   "name": "python",
   "nbconvert_exporter": "python",
   "pygments_lexer": "ipython3",
   "version": "3.10.9"
  }
 },
 "nbformat": 4,
 "nbformat_minor": 5
}
